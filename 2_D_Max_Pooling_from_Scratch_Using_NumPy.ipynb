{
  "nbformat": 4,
  "nbformat_minor": 0,
  "metadata": {
    "colab": {
      "name": "2-D Max-Pooling from Scratch Using NumPy",
      "provenance": []
    },
    "kernelspec": {
      "name": "python3",
      "display_name": "Python 3"
    }
  },
  "cells": [
    {
      "cell_type": "markdown",
      "metadata": {
        "id": "1h9udIWQpNSd"
      },
      "source": [
        "# 2-D Max-Pooling from Scratch Using NumPy\n",
        "*By Carlos Santiago Bañón*\n",
        "\n",
        "**Year:** 2020\n",
        "\n",
        "**Technologies:** Python, NumPy, TeX, Jupyter Notebook\n",
        "\n",
        "**Discipline(s):** Computer Vision\n",
        "\n",
        "**Keywords:** `computer-vision`, `max-pooling`"
      ]
    },
    {
      "cell_type": "markdown",
      "metadata": {
        "id": "hptJEYs7Tmwk"
      },
      "source": [
        "This notebook presents an implementation of 2-D maxpooling in the form of the `maxpooling2d()` function developed from scratch using *NumPy*. It takes as input an input matrix `input_mat` and a window size `s`, and outputs `output_mat`.\n",
        "\n",
        "For the purposes of this notebook, the variables `input_mat` and `output_mat` are square matrices and `s` is an integer. The maxpooling operation is computed on `input_mat` using a window of shape $s \\times s$."
      ]
    },
    {
      "cell_type": "markdown",
      "metadata": {
        "id": "FAQzrnaLUFos"
      },
      "source": [
        "## 1. 2-D Maxpooling Implementation from Scratch Using NumPy\n",
        "\n",
        "---\n"
      ]
    },
    {
      "cell_type": "markdown",
      "metadata": {
        "id": "nxK6aGSXUIBF"
      },
      "source": [
        "First, we present the `maxpooling2d()` function implemented using *NumPy*."
      ]
    },
    {
      "cell_type": "code",
      "metadata": {
        "id": "vZl5mj7XV6XD"
      },
      "source": [
        "import numpy as np"
      ],
      "execution_count": 1,
      "outputs": []
    },
    {
      "cell_type": "code",
      "metadata": {
        "id": "vpOEUXT3UQ2X"
      },
      "source": [
        "def maxpooling2d(input_mat, s):\n",
        "\n",
        "  # Ensure the input is not empty.\n",
        "  if input_mat.size == 0:\n",
        "    print(\"Error! Empty matrices found.\")\n",
        "    return [[]]\n",
        "\n",
        "  # Ensure the input is a square matrix.\n",
        "  if input_mat.shape[0] != input_mat.shape[1]:\n",
        "    print(\"Error! The input is not a square matrix.\")\n",
        "    return [[]]\n",
        "\n",
        "  # Ensure the window size is valid.\n",
        "  if s <= 0:\n",
        "    print(\"Error! The window size is invalid.\")\n",
        "    return [[]]\n",
        "\n",
        "  # Get the size of the input matrix.\n",
        "  input_size = input_mat.shape[0]\n",
        "\n",
        "  # Ensure the kernel is not larger than the input matrix.\n",
        "  if input_size < s:\n",
        "    print(\"Error! The window is larger than the input.\")\n",
        "    return [[]]\n",
        "\n",
        "  # Set up the output matrix.\n",
        "  output_size = int((input_size - s)/s + 1)\n",
        "  output_mat = np.zeros(shape = (output_size, output_size), dtype=int)\n",
        "\n",
        "  row_offset = 0\n",
        "\n",
        "  for output_row in range(output_size):\n",
        "\n",
        "    col_offset = 0\n",
        "\n",
        "    for output_col in range(output_size):\n",
        "\n",
        "      for row in range(row_offset, row_offset + s):\n",
        "\n",
        "        for col in range(col_offset, col_offset + s):\n",
        "          \n",
        "          # Perform the maxpooling operation.\n",
        "          output_mat[output_row, output_col] = np.amax(input_mat[row_offset:row_offset + s, col_offset:col_offset + s])\n",
        "\n",
        "      col_offset += s\n",
        "    \n",
        "    row_offset += s\n",
        "\n",
        "  return output_mat"
      ],
      "execution_count": 2,
      "outputs": []
    },
    {
      "cell_type": "markdown",
      "metadata": {
        "id": "DOk7W2SZVbhE"
      },
      "source": [
        "## 2. Test Cases\n",
        "\n",
        "---"
      ]
    },
    {
      "cell_type": "markdown",
      "metadata": {
        "id": "DooOuLjsVcBB"
      },
      "source": [
        "Now, we can test the `maxpooling2d()` function using some given test cases."
      ]
    },
    {
      "cell_type": "markdown",
      "metadata": {
        "id": "PQf1umKhVk-S"
      },
      "source": [
        "### Test Case #1"
      ]
    },
    {
      "cell_type": "code",
      "metadata": {
        "id": "Msd09lNZVmND"
      },
      "source": [
        "# Define the input matrix.\n",
        "input_mat = np.array([[1, 2, 1, 2],\n",
        "                      [2, 4, 2, 1],\n",
        "                      [1, 2, 4, 2],\n",
        "                      [2, 1, 2, 1]])\n",
        "\n",
        "# Define the window size.\n",
        "window_size = 2"
      ],
      "execution_count": 3,
      "outputs": []
    },
    {
      "cell_type": "code",
      "metadata": {
        "id": "YEQsHLOZVoob",
        "outputId": "31d9559e-12ca-4799-8bee-08a34653cdb6",
        "colab": {
          "base_uri": "https://localhost:8080/"
        }
      },
      "source": [
        "output_mat = maxpooling2d(input_mat, window_size)\n",
        "print(output_mat)"
      ],
      "execution_count": 4,
      "outputs": [
        {
          "output_type": "stream",
          "text": [
            "[[4 2]\n",
            " [2 4]]\n"
          ],
          "name": "stdout"
        }
      ]
    },
    {
      "cell_type": "markdown",
      "metadata": {
        "id": "cRBW8UdaV9N9"
      },
      "source": [
        "### Test Case #2"
      ]
    },
    {
      "cell_type": "code",
      "metadata": {
        "id": "12ChenuxV-YI"
      },
      "source": [
        "# Define the input matrix.\n",
        "input_mat = np.array([[1, 2, 1, 2, 4, 5],\n",
        "                      [2, 4, 2, 1, 0, 3],\n",
        "                      [1, 2, 4, 2, 4, 5],\n",
        "                      [2, 1, 2, 1, 2, 1],\n",
        "                      [1, 1, 2, 3, 1, 2],\n",
        "                      [1, 1, 2, 3, 1, 2]])\n",
        "\n",
        "# Define the window size.\n",
        "window_size = 2"
      ],
      "execution_count": 5,
      "outputs": []
    },
    {
      "cell_type": "code",
      "metadata": {
        "id": "EdUajzB3WAZa",
        "outputId": "db259c08-7eeb-47a9-a3db-ecccf9bf8109",
        "colab": {
          "base_uri": "https://localhost:8080/"
        }
      },
      "source": [
        "output_mat = maxpooling2d(input_mat, window_size)\n",
        "print(output_mat)"
      ],
      "execution_count": 6,
      "outputs": [
        {
          "output_type": "stream",
          "text": [
            "[[4 2 5]\n",
            " [2 4 5]\n",
            " [1 3 2]]\n"
          ],
          "name": "stdout"
        }
      ]
    }
  ]
}