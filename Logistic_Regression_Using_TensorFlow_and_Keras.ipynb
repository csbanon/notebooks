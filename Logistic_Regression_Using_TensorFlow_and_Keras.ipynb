{
  "nbformat": 4,
  "nbformat_minor": 0,
  "metadata": {
    "colab": {
      "name": "Logistic Regression Using TensorFlow and Keras",
      "provenance": []
    },
    "kernelspec": {
      "name": "python3",
      "display_name": "Python 3"
    }
  },
  "cells": [
    {
      "cell_type": "markdown",
      "metadata": {
        "id": "oRTwweeen8Mu"
      },
      "source": [
        "# Logistic Regression Using TensorFlow and Keras\n",
        "*By Carlos Santiago Bañón*\n",
        "\n",
        "**Year:** 2020\n",
        "\n",
        "**Technologies:** Python, NumPy, TensorFlow, Keras, Scikit-Learn, TeX, Jupyter Notebook\n",
        "\n",
        "**Discipline(s):** Machine Learning, Logistic Regression, Classification\n",
        "\n",
        "**Keywords:** `classification`, `logistic-regression`, `machine-learning`"
      ]
    },
    {
      "cell_type": "markdown",
      "metadata": {
        "id": "ugwJh0hZoKzN"
      },
      "source": [
        "This notebook proivdes an implementation of binary classification with logistic regression using *TensorFlow* and *Keras*."
      ]
    },
    {
      "cell_type": "markdown",
      "metadata": {
        "id": "bfTSzJdhoU0Z"
      },
      "source": [
        "## 1. Import Statements\n",
        "---"
      ]
    },
    {
      "cell_type": "markdown",
      "metadata": {
        "id": "1-vah6IKof87"
      },
      "source": [
        "Here, we will be using both the *NumPy* and *Matplotlib* Python libraries."
      ]
    },
    {
      "cell_type": "code",
      "metadata": {
        "id": "6jxE_o4gogyV"
      },
      "source": [
        "import numpy as np\n",
        "import matplotlib\n",
        "import matplotlib.pyplot as plt"
      ],
      "execution_count": null,
      "outputs": []
    },
    {
      "cell_type": "markdown",
      "metadata": {
        "id": "mu9FmiOpojD6"
      },
      "source": [
        "Further, we also need to import *TensorFlow*."
      ]
    },
    {
      "cell_type": "code",
      "metadata": {
        "id": "rXvoyoOHonoQ",
        "outputId": "228b65ef-129f-4620-ee9d-d205656e2200",
        "colab": {
          "base_uri": "https://localhost:8080/",
          "height": 34
        }
      },
      "source": [
        "%tensorflow_version 2.x\n",
        "import tensorflow as tf\n",
        "print(tf.__version__)"
      ],
      "execution_count": null,
      "outputs": [
        {
          "output_type": "stream",
          "text": [
            "2.2.0\n"
          ],
          "name": "stdout"
        }
      ]
    },
    {
      "cell_type": "markdown",
      "metadata": {
        "id": "2RYKumP1o4QS"
      },
      "source": [
        "## 2. Random Data Generation\n",
        "---\n"
      ]
    },
    {
      "cell_type": "markdown",
      "metadata": {
        "id": "wcj_NYGFo8Ec"
      },
      "source": [
        "We then need to generate data for our model. First, we specify the parameters used in our random data generation function."
      ]
    },
    {
      "cell_type": "code",
      "metadata": {
        "id": "n6mDR_zzpKU2"
      },
      "source": [
        "# Random Data Parameters\n",
        "weight = 20\n",
        "bias = 10\n",
        "mu = 20\n",
        "sigma = 6\n",
        "m = 1000"
      ],
      "execution_count": null,
      "outputs": []
    },
    {
      "cell_type": "markdown",
      "metadata": {
        "id": "M5xKXxOzpVtG"
      },
      "source": [
        "The data for implementing logistic regression is then generated randomly with two features, $x_1$ and $x_2$. This function returns a `data` array of shape $(m, 2)$ and a `labels` array of shape $(m, 1)$.\n",
        "\n",
        "The data is generated as follows:\n",
        "\n",
        "*   Feature $x_1$: Chosen uniformly at random in the interval $[0, 1)$.\n",
        "*   Feature $x_2$: Chosen with the formula $x_2 = w * x_1 + b - 1^c * n$, where the \"noise\" `n` is chosen according to the normal distribution with mean $\\mu$ and standard deviation $\\sigma$.\n",
        "*   Class Labels: Choose $c = 0$ with probability $\\frac{1}{2}$ or $c = 1$ with probability $\\frac{1}{2}$."
      ]
    },
    {
      "cell_type": "code",
      "metadata": {
        "id": "A_mYSW2wp4Eo"
      },
      "source": [
        "def get_random_data(w, b, mu, sigma, m):\n",
        "\n",
        "  data = np.empty([m, 2])\n",
        "  labels = np.empty([m, 1], dtype=int)\n",
        "\n",
        "  for i in range(m):\n",
        "\n",
        "    # Choose either 0 or 1 for the label.\n",
        "    labels[i] = np.random.choice([0, 1], p=[0.5, 0.5])\n",
        "\n",
        "    # Set the first feature.\n",
        "    data[i, 0] = np.random.default_rng().uniform(0, 1)\n",
        "\n",
        "    # Set the second feature.\n",
        "    n = np.random.default_rng().normal(mu, sigma)\n",
        "    data[i, 1] = w * data[i, 0] + b + (-1) ** labels[i] * n\n",
        "\n",
        "  return data, labels"
      ],
      "execution_count": null,
      "outputs": []
    },
    {
      "cell_type": "code",
      "metadata": {
        "id": "4_O-0wOyqBBS"
      },
      "source": [
        "data, labels = get_random_data(weight, bias, mu, sigma, m)"
      ],
      "execution_count": null,
      "outputs": []
    },
    {
      "cell_type": "markdown",
      "metadata": {
        "id": "gt-_D5u7qFKp"
      },
      "source": [
        "Then, we can use *Matplotlib* to display the data generated by our function."
      ]
    },
    {
      "cell_type": "code",
      "metadata": {
        "id": "71MWQx1pqHmo"
      },
      "source": [
        "def display_random_data(data, labels):\n",
        "\n",
        "  # Define the classes and colors.\n",
        "  classes = ['1', '0']\n",
        "  colors = ['red', 'blue']\n",
        "\n",
        "  # Generate the scatter plot.\n",
        "  scatter = plt.scatter(data[:, 0], data[:, 1], c=labels, cmap=matplotlib.colors.ListedColormap(colors))\n",
        "  \n",
        "  # Format the title and axis labels.\n",
        "  plt.title('Randomly-Generated Data', fontsize=14)\n",
        "  plt.xlabel(r'$ x_1 $', fontsize=14)\n",
        "  plt.ylabel(r'$ x_2 $', fontsize=14)\n",
        "\n",
        "  # Include a legend.\n",
        "  plt.legend(handles=scatter.legend_elements()[0], labels=classes, fontsize=8)\n",
        "\n",
        "  plt.show()"
      ],
      "execution_count": null,
      "outputs": []
    },
    {
      "cell_type": "code",
      "metadata": {
        "id": "VilSZSVRqda5",
        "outputId": "98636719-3f7f-43b8-8b4c-7f61c2e8294b",
        "colab": {
          "base_uri": "https://localhost:8080/",
          "height": 301
        }
      },
      "source": [
        "display_random_data(data, labels)"
      ],
      "execution_count": null,
      "outputs": [
        {
          "output_type": "display_data",
          "data": {
            "image/png": "[encoded data removed]",
            "text/plain": [
              "<Figure size 432x288 with 1 Axes>"
            ]
          },
          "metadata": {
            "tags": [],
            "needs_background": "light"
          }
        }
      ]
    },
    {
      "cell_type": "markdown",
      "metadata": {
        "id": "KcDqE1OvqjMp"
      },
      "source": [
        "## 3. Split the Data into Training and Test Sets\n",
        "---"
      ]
    },
    {
      "cell_type": "markdown",
      "metadata": {
        "id": "X_CSy4qBqn_n"
      },
      "source": [
        "Once we have our data generated, we need to split it into training and test sets. Here, we use 80% of our data for training, and the remaining 20% for testing."
      ]
    },
    {
      "cell_type": "code",
      "metadata": {
        "id": "h3xWq5dxqvBv"
      },
      "source": [
        "from sklearn.model_selection import train_test_split\n",
        "\n",
        "data_train, data_test, labels_train, labels_test = train_test_split(data, labels, train_size=0.8)"
      ],
      "execution_count": null,
      "outputs": []
    },
    {
      "cell_type": "markdown",
      "metadata": {
        "id": "SedRzdFcq0uK"
      },
      "source": [
        "## 4. Logistic Regression\n",
        "---"
      ]
    },
    {
      "cell_type": "markdown",
      "metadata": {
        "id": "si4PZrN3q8aY"
      },
      "source": [
        "Now we're ready to implement Logistic Regression using *TensorFlow* and *Keras*. A prediction model is built and trained, and is then displayed with the original data. The loss function used is *binary cross-entropy loss*."
      ]
    },
    {
      "cell_type": "markdown",
      "metadata": {
        "id": "9XNZyrHyrRJa"
      },
      "source": [
        "We first have to build our model using *Keras*. Here, we use a dense layer with sigmoid activation for our model."
      ]
    },
    {
      "cell_type": "code",
      "metadata": {
        "id": "45856bYGrY0J"
      },
      "source": [
        "def build_model():\n",
        "\n",
        "  # Build the model.\n",
        "  model = tf.keras.Sequential()\n",
        "\n",
        "  # Add a dense layer with sigmoid activation.\n",
        "  model.add(tf.keras.layers.Dense(1, activation='sigmoid', input_shape=(2,)))\n",
        "\n",
        "  return model"
      ],
      "execution_count": null,
      "outputs": []
    },
    {
      "cell_type": "code",
      "metadata": {
        "id": "op5GW6K1rZQ4",
        "outputId": "da8e01fe-a74c-45ee-88d7-81b6b01d93a7",
        "colab": {
          "base_uri": "https://localhost:8080/",
          "height": 187
        }
      },
      "source": [
        "model = build_model()\n",
        "model.summary()"
      ],
      "execution_count": null,
      "outputs": [
        {
          "output_type": "stream",
          "text": [
            "Model: \"sequential\"\n",
            "_________________________________________________________________\n",
            "Layer (type)                 Output Shape              Param #   \n",
            "=================================================================\n",
            "dense (Dense)                (None, 1)                 3         \n",
            "=================================================================\n",
            "Total params: 3\n",
            "Trainable params: 3\n",
            "Non-trainable params: 0\n",
            "_________________________________________________________________\n"
          ],
          "name": "stdout"
        }
      ]
    },
    {
      "cell_type": "markdown",
      "metadata": {
        "id": "O9YTUB41rhpU"
      },
      "source": [
        "Then, we can compile our model using binary cross-entropy loss as our loss function."
      ]
    },
    {
      "cell_type": "code",
      "metadata": {
        "id": "fbsrSauJrojd"
      },
      "source": [
        "def compile_model(model):\n",
        "\n",
        "  model.compile(optimizer='rmsprop',\n",
        "                loss='binary_crossentropy',\n",
        "                metrics=['accuracy'])"
      ],
      "execution_count": null,
      "outputs": []
    },
    {
      "cell_type": "code",
      "metadata": {
        "id": "359NysWirsMr"
      },
      "source": [
        "compile_model(model)"
      ],
      "execution_count": null,
      "outputs": []
    },
    {
      "cell_type": "markdown",
      "metadata": {
        "id": "G-lInj8drsz7"
      },
      "source": [
        "After compiling the model, we are ready to train it using our data."
      ]
    },
    {
      "cell_type": "code",
      "metadata": {
        "id": "2aWdsXRVrzgx",
        "outputId": "f4927b3d-e0e5-45d3-c425-c64db1fae53c",
        "colab": {
          "base_uri": "https://localhost:8080/",
          "height": 1000
        }
      },
      "source": [
        "history = model.fit(data_train, labels_train, epochs=250)"
      ],
      "execution_count": null,
      "outputs": [
        {
          "output_type": "stream",
          "text": [
            "Epoch 1/250\n",
            "25/25 [==============================] - 0s 1ms/step - loss: 27.7078 - accuracy: 0.2450\n",
            "Epoch 2/250\n",
            "25/25 [==============================] - 0s 1ms/step - loss: 27.1033 - accuracy: 0.2450\n",
            "Epoch 3/250\n",
            "25/25 [==============================] - 0s 1ms/step - loss: 26.5409 - accuracy: 0.2450\n",
            "Epoch 4/250\n",
            "25/25 [==============================] - 0s 1ms/step - loss: 25.9834 - accuracy: 0.2450\n",
            "Epoch 5/250\n",
            "25/25 [==============================] - 0s 1ms/step - loss: 25.4303 - accuracy: 0.2450\n",
            "Epoch 6/250\n",
            "25/25 [==============================] - 0s 1ms/step - loss: 24.8755 - accuracy: 0.2438\n",
            "Epoch 7/250\n",
            "25/25 [==============================] - 0s 1ms/step - loss: 24.3168 - accuracy: 0.2425\n",
            "Epoch 8/250\n",
            "25/25 [==============================] - 0s 1ms/step - loss: 23.7577 - accuracy: 0.2412\n",
            "Epoch 9/250\n",
            "25/25 [==============================] - 0s 1ms/step - loss: 23.1993 - accuracy: 0.2400\n",
            "Epoch 10/250\n",
            "25/25 [==============================] - 0s 1ms/step - loss: 22.6429 - accuracy: 0.2400\n",
            "Epoch 11/250\n",
            "25/25 [==============================] - 0s 1ms/step - loss: 22.0845 - accuracy: 0.2387\n",
            "Epoch 12/250\n",
            "25/25 [==============================] - 0s 1ms/step - loss: 21.5320 - accuracy: 0.2375\n",
            "Epoch 13/250\n",
            "25/25 [==============================] - 0s 1ms/step - loss: 20.9829 - accuracy: 0.2362\n",
            "Epoch 14/250\n",
            "25/25 [==============================] - 0s 1ms/step - loss: 20.4364 - accuracy: 0.2350\n",
            "Epoch 15/250\n",
            "25/25 [==============================] - 0s 1ms/step - loss: 19.8775 - accuracy: 0.2350\n",
            "Epoch 16/250\n",
            "25/25 [==============================] - 0s 1ms/step - loss: 19.3232 - accuracy: 0.2350\n",
            "Epoch 17/250\n",
            "25/25 [==============================] - 0s 1ms/step - loss: 18.7621 - accuracy: 0.2313\n",
            "Epoch 18/250\n",
            "25/25 [==============================] - 0s 1ms/step - loss: 18.2172 - accuracy: 0.2300\n",
            "Epoch 19/250\n",
            "25/25 [==============================] - 0s 1ms/step - loss: 17.6617 - accuracy: 0.2288\n",
            "Epoch 20/250\n",
            "25/25 [==============================] - 0s 1ms/step - loss: 17.1058 - accuracy: 0.2262\n",
            "Epoch 21/250\n",
            "25/25 [==============================] - 0s 1ms/step - loss: 16.5565 - accuracy: 0.2250\n",
            "Epoch 22/250\n",
            "25/25 [==============================] - 0s 1ms/step - loss: 15.9997 - accuracy: 0.2212\n",
            "Epoch 23/250\n",
            "25/25 [==============================] - 0s 1ms/step - loss: 15.4433 - accuracy: 0.2212\n",
            "Epoch 24/250\n",
            "25/25 [==============================] - 0s 1ms/step - loss: 14.8915 - accuracy: 0.2175\n",
            "Epoch 25/250\n",
            "25/25 [==============================] - 0s 1ms/step - loss: 14.3415 - accuracy: 0.2113\n",
            "Epoch 26/250\n",
            "25/25 [==============================] - 0s 1ms/step - loss: 13.7856 - accuracy: 0.2087\n",
            "Epoch 27/250\n",
            "25/25 [==============================] - 0s 1ms/step - loss: 13.2450 - accuracy: 0.2037\n",
            "Epoch 28/250\n",
            "25/25 [==============================] - 0s 1ms/step - loss: 12.6973 - accuracy: 0.2025\n",
            "Epoch 29/250\n",
            "25/25 [==============================] - 0s 1ms/step - loss: 12.1493 - accuracy: 0.1988\n",
            "Epoch 30/250\n",
            "25/25 [==============================] - 0s 1ms/step - loss: 11.5956 - accuracy: 0.1950\n",
            "Epoch 31/250\n",
            "25/25 [==============================] - 0s 1ms/step - loss: 11.0446 - accuracy: 0.1887\n",
            "Epoch 32/250\n",
            "25/25 [==============================] - 0s 1ms/step - loss: 10.4985 - accuracy: 0.1813\n",
            "Epoch 33/250\n",
            "25/25 [==============================] - 0s 1ms/step - loss: 9.9510 - accuracy: 0.1750\n",
            "Epoch 34/250\n",
            "25/25 [==============================] - 0s 1ms/step - loss: 9.4040 - accuracy: 0.1663\n",
            "Epoch 35/250\n",
            "25/25 [==============================] - 0s 1ms/step - loss: 8.8671 - accuracy: 0.1600\n",
            "Epoch 36/250\n",
            "25/25 [==============================] - 0s 1ms/step - loss: 8.3175 - accuracy: 0.1488\n",
            "Epoch 37/250\n",
            "25/25 [==============================] - 0s 1ms/step - loss: 7.7770 - accuracy: 0.1363\n",
            "Epoch 38/250\n",
            "25/25 [==============================] - 0s 1ms/step - loss: 7.2440 - accuracy: 0.1325\n",
            "Epoch 39/250\n",
            "25/25 [==============================] - 0s 1ms/step - loss: 6.7002 - accuracy: 0.1238\n",
            "Epoch 40/250\n",
            "25/25 [==============================] - 0s 1ms/step - loss: 6.1685 - accuracy: 0.1125\n",
            "Epoch 41/250\n",
            "25/25 [==============================] - 0s 1ms/step - loss: 5.6381 - accuracy: 0.1013\n",
            "Epoch 42/250\n",
            "25/25 [==============================] - 0s 1ms/step - loss: 5.1075 - accuracy: 0.0825\n",
            "Epoch 43/250\n",
            "25/25 [==============================] - 0s 1ms/step - loss: 4.5779 - accuracy: 0.0700\n",
            "Epoch 44/250\n",
            "25/25 [==============================] - 0s 1ms/step - loss: 4.0537 - accuracy: 0.0575\n",
            "Epoch 45/250\n",
            "25/25 [==============================] - 0s 1ms/step - loss: 3.5377 - accuracy: 0.0362\n",
            "Epoch 46/250\n",
            "25/25 [==============================] - 0s 1ms/step - loss: 3.0298 - accuracy: 0.0225\n",
            "Epoch 47/250\n",
            "25/25 [==============================] - 0s 1ms/step - loss: 2.5379 - accuracy: 0.0088\n",
            "Epoch 48/250\n",
            "25/25 [==============================] - 0s 1ms/step - loss: 2.0788 - accuracy: 0.0037\n",
            "Epoch 49/250\n",
            "25/25 [==============================] - 0s 1ms/step - loss: 1.6776 - accuracy: 0.0063\n",
            "Epoch 50/250\n",
            "25/25 [==============================] - 0s 1ms/step - loss: 1.3723 - accuracy: 0.1587\n",
            "Epoch 51/250\n",
            "25/25 [==============================] - 0s 1ms/step - loss: 1.1700 - accuracy: 0.4750\n",
            "Epoch 52/250\n",
            "25/25 [==============================] - 0s 1ms/step - loss: 1.0497 - accuracy: 0.5150\n",
            "Epoch 53/250\n",
            "25/25 [==============================] - 0s 1ms/step - loss: 0.9805 - accuracy: 0.5150\n",
            "Epoch 54/250\n",
            "25/25 [==============================] - 0s 1ms/step - loss: 0.9398 - accuracy: 0.5150\n",
            "Epoch 55/250\n",
            "25/25 [==============================] - 0s 1ms/step - loss: 0.9156 - accuracy: 0.5163\n",
            "Epoch 56/250\n",
            "25/25 [==============================] - 0s 1ms/step - loss: 0.8987 - accuracy: 0.5175\n",
            "Epoch 57/250\n",
            "25/25 [==============================] - 0s 1ms/step - loss: 0.8838 - accuracy: 0.5200\n",
            "Epoch 58/250\n",
            "25/25 [==============================] - 0s 1ms/step - loss: 0.8700 - accuracy: 0.5213\n",
            "Epoch 59/250\n",
            "25/25 [==============================] - 0s 1ms/step - loss: 0.8560 - accuracy: 0.5263\n",
            "Epoch 60/250\n",
            "25/25 [==============================] - 0s 1ms/step - loss: 0.8420 - accuracy: 0.5288\n",
            "Epoch 61/250\n",
            "25/25 [==============================] - 0s 1ms/step - loss: 0.8285 - accuracy: 0.5275\n",
            "Epoch 62/250\n",
            "25/25 [==============================] - 0s 1ms/step - loss: 0.8150 - accuracy: 0.5300\n",
            "Epoch 63/250\n",
            "25/25 [==============================] - 0s 1ms/step - loss: 0.8018 - accuracy: 0.5312\n",
            "Epoch 64/250\n",
            "25/25 [==============================] - 0s 1ms/step - loss: 0.7885 - accuracy: 0.5362\n",
            "Epoch 65/250\n",
            "25/25 [==============================] - 0s 1ms/step - loss: 0.7754 - accuracy: 0.5437\n",
            "Epoch 66/250\n",
            "25/25 [==============================] - 0s 1ms/step - loss: 0.7621 - accuracy: 0.5487\n",
            "Epoch 67/250\n",
            "25/25 [==============================] - 0s 1ms/step - loss: 0.7489 - accuracy: 0.5487\n",
            "Epoch 68/250\n",
            "25/25 [==============================] - 0s 1ms/step - loss: 0.7366 - accuracy: 0.5500\n",
            "Epoch 69/250\n",
            "25/25 [==============================] - 0s 1ms/step - loss: 0.7234 - accuracy: 0.5612\n",
            "Epoch 70/250\n",
            "25/25 [==============================] - 0s 1ms/step - loss: 0.7109 - accuracy: 0.5600\n",
            "Epoch 71/250\n",
            "25/25 [==============================] - 0s 1ms/step - loss: 0.6984 - accuracy: 0.5650\n",
            "Epoch 72/250\n",
            "25/25 [==============================] - 0s 1ms/step - loss: 0.6857 - accuracy: 0.5738\n",
            "Epoch 73/250\n",
            "25/25 [==============================] - 0s 1ms/step - loss: 0.6737 - accuracy: 0.5763\n",
            "Epoch 74/250\n",
            "25/25 [==============================] - 0s 1ms/step - loss: 0.6617 - accuracy: 0.5788\n",
            "Epoch 75/250\n",
            "25/25 [==============================] - 0s 1ms/step - loss: 0.6496 - accuracy: 0.5888\n",
            "Epoch 76/250\n",
            "25/25 [==============================] - 0s 1ms/step - loss: 0.6376 - accuracy: 0.5913\n",
            "Epoch 77/250\n",
            "25/25 [==============================] - 0s 1ms/step - loss: 0.6259 - accuracy: 0.5925\n",
            "Epoch 78/250\n",
            "25/25 [==============================] - 0s 1ms/step - loss: 0.6143 - accuracy: 0.5975\n",
            "Epoch 79/250\n",
            "25/25 [==============================] - 0s 1ms/step - loss: 0.6030 - accuracy: 0.6037\n",
            "Epoch 80/250\n",
            "25/25 [==============================] - 0s 1ms/step - loss: 0.5914 - accuracy: 0.6137\n",
            "Epoch 81/250\n",
            "25/25 [==============================] - 0s 1ms/step - loss: 0.5804 - accuracy: 0.6200\n",
            "Epoch 82/250\n",
            "25/25 [==============================] - 0s 1ms/step - loss: 0.5696 - accuracy: 0.6338\n",
            "Epoch 83/250\n",
            "25/25 [==============================] - 0s 1ms/step - loss: 0.5587 - accuracy: 0.6375\n",
            "Epoch 84/250\n",
            "25/25 [==============================] - 0s 1ms/step - loss: 0.5478 - accuracy: 0.6475\n",
            "Epoch 85/250\n",
            "25/25 [==============================] - 0s 1ms/step - loss: 0.5378 - accuracy: 0.6475\n",
            "Epoch 86/250\n",
            "25/25 [==============================] - 0s 1ms/step - loss: 0.5270 - accuracy: 0.6575\n",
            "Epoch 87/250\n",
            "25/25 [==============================] - 0s 1ms/step - loss: 0.5168 - accuracy: 0.6662\n",
            "Epoch 88/250\n",
            "25/25 [==============================] - 0s 1ms/step - loss: 0.5066 - accuracy: 0.6737\n",
            "Epoch 89/250\n",
            "25/25 [==============================] - 0s 1ms/step - loss: 0.4966 - accuracy: 0.6762\n",
            "Epoch 90/250\n",
            "25/25 [==============================] - 0s 1ms/step - loss: 0.4867 - accuracy: 0.6825\n",
            "Epoch 91/250\n",
            "25/25 [==============================] - 0s 1ms/step - loss: 0.4768 - accuracy: 0.6913\n",
            "Epoch 92/250\n",
            "25/25 [==============================] - 0s 1ms/step - loss: 0.4670 - accuracy: 0.7025\n",
            "Epoch 93/250\n",
            "25/25 [==============================] - 0s 1ms/step - loss: 0.4577 - accuracy: 0.7088\n",
            "Epoch 94/250\n",
            "25/25 [==============================] - 0s 1ms/step - loss: 0.4481 - accuracy: 0.7138\n",
            "Epoch 95/250\n",
            "25/25 [==============================] - 0s 1ms/step - loss: 0.4392 - accuracy: 0.7200\n",
            "Epoch 96/250\n",
            "25/25 [==============================] - 0s 1ms/step - loss: 0.4300 - accuracy: 0.7225\n",
            "Epoch 97/250\n",
            "25/25 [==============================] - 0s 1ms/step - loss: 0.4212 - accuracy: 0.7300\n",
            "Epoch 98/250\n",
            "25/25 [==============================] - 0s 1ms/step - loss: 0.4126 - accuracy: 0.7412\n",
            "Epoch 99/250\n",
            "25/25 [==============================] - 0s 2ms/step - loss: 0.4039 - accuracy: 0.7500\n",
            "Epoch 100/250\n",
            "25/25 [==============================] - 0s 1ms/step - loss: 0.3956 - accuracy: 0.7550\n",
            "Epoch 101/250\n",
            "25/25 [==============================] - 0s 1ms/step - loss: 0.3875 - accuracy: 0.7625\n",
            "Epoch 102/250\n",
            "25/25 [==============================] - 0s 1ms/step - loss: 0.3793 - accuracy: 0.7713\n",
            "Epoch 103/250\n",
            "25/25 [==============================] - 0s 1ms/step - loss: 0.3713 - accuracy: 0.7763\n",
            "Epoch 104/250\n",
            "25/25 [==============================] - 0s 1ms/step - loss: 0.3633 - accuracy: 0.7850\n",
            "Epoch 105/250\n",
            "25/25 [==============================] - 0s 1ms/step - loss: 0.3557 - accuracy: 0.7975\n",
            "Epoch 106/250\n",
            "25/25 [==============================] - 0s 1ms/step - loss: 0.3482 - accuracy: 0.8075\n",
            "Epoch 107/250\n",
            "25/25 [==============================] - 0s 1ms/step - loss: 0.3405 - accuracy: 0.8087\n",
            "Epoch 108/250\n",
            "25/25 [==============================] - 0s 1ms/step - loss: 0.3332 - accuracy: 0.8213\n",
            "Epoch 109/250\n",
            "25/25 [==============================] - 0s 1ms/step - loss: 0.3259 - accuracy: 0.8325\n",
            "Epoch 110/250\n",
            "25/25 [==============================] - 0s 1ms/step - loss: 0.3188 - accuracy: 0.8475\n",
            "Epoch 111/250\n",
            "25/25 [==============================] - 0s 1ms/step - loss: 0.3117 - accuracy: 0.8537\n",
            "Epoch 112/250\n",
            "25/25 [==============================] - 0s 1ms/step - loss: 0.3051 - accuracy: 0.8650\n",
            "Epoch 113/250\n",
            "25/25 [==============================] - 0s 1ms/step - loss: 0.2983 - accuracy: 0.8675\n",
            "Epoch 114/250\n",
            "25/25 [==============================] - 0s 1ms/step - loss: 0.2918 - accuracy: 0.8737\n",
            "Epoch 115/250\n",
            "25/25 [==============================] - 0s 1ms/step - loss: 0.2853 - accuracy: 0.8775\n",
            "Epoch 116/250\n",
            "25/25 [==============================] - 0s 1ms/step - loss: 0.2792 - accuracy: 0.8850\n",
            "Epoch 117/250\n",
            "25/25 [==============================] - 0s 1ms/step - loss: 0.2730 - accuracy: 0.8900\n",
            "Epoch 118/250\n",
            "25/25 [==============================] - 0s 1ms/step - loss: 0.2669 - accuracy: 0.8900\n",
            "Epoch 119/250\n",
            "25/25 [==============================] - 0s 1ms/step - loss: 0.2611 - accuracy: 0.8963\n",
            "Epoch 120/250\n",
            "25/25 [==============================] - 0s 1ms/step - loss: 0.2554 - accuracy: 0.9050\n",
            "Epoch 121/250\n",
            "25/25 [==============================] - 0s 1ms/step - loss: 0.2499 - accuracy: 0.9075\n",
            "Epoch 122/250\n",
            "25/25 [==============================] - 0s 1ms/step - loss: 0.2446 - accuracy: 0.9125\n",
            "Epoch 123/250\n",
            "25/25 [==============================] - 0s 1ms/step - loss: 0.2393 - accuracy: 0.9175\n",
            "Epoch 124/250\n",
            "25/25 [==============================] - 0s 1ms/step - loss: 0.2341 - accuracy: 0.9262\n",
            "Epoch 125/250\n",
            "25/25 [==============================] - 0s 1ms/step - loss: 0.2289 - accuracy: 0.9262\n",
            "Epoch 126/250\n",
            "25/25 [==============================] - 0s 1ms/step - loss: 0.2239 - accuracy: 0.9300\n",
            "Epoch 127/250\n",
            "25/25 [==============================] - 0s 1ms/step - loss: 0.2188 - accuracy: 0.9300\n",
            "Epoch 128/250\n",
            "25/25 [==============================] - 0s 1ms/step - loss: 0.2141 - accuracy: 0.9325\n",
            "Epoch 129/250\n",
            "25/25 [==============================] - 0s 1ms/step - loss: 0.2095 - accuracy: 0.9388\n",
            "Epoch 130/250\n",
            "25/25 [==============================] - 0s 1ms/step - loss: 0.2049 - accuracy: 0.9400\n",
            "Epoch 131/250\n",
            "25/25 [==============================] - 0s 1ms/step - loss: 0.2003 - accuracy: 0.9463\n",
            "Epoch 132/250\n",
            "25/25 [==============================] - 0s 1ms/step - loss: 0.1962 - accuracy: 0.9438\n",
            "Epoch 133/250\n",
            "25/25 [==============================] - 0s 1ms/step - loss: 0.1918 - accuracy: 0.9475\n",
            "Epoch 134/250\n",
            "25/25 [==============================] - 0s 1ms/step - loss: 0.1875 - accuracy: 0.9513\n",
            "Epoch 135/250\n",
            "25/25 [==============================] - 0s 1ms/step - loss: 0.1835 - accuracy: 0.9525\n",
            "Epoch 136/250\n",
            "25/25 [==============================] - 0s 1ms/step - loss: 0.1797 - accuracy: 0.9588\n",
            "Epoch 137/250\n",
            "25/25 [==============================] - 0s 1ms/step - loss: 0.1758 - accuracy: 0.9613\n",
            "Epoch 138/250\n",
            "25/25 [==============================] - 0s 1ms/step - loss: 0.1720 - accuracy: 0.9625\n",
            "Epoch 139/250\n",
            "25/25 [==============================] - 0s 1ms/step - loss: 0.1684 - accuracy: 0.9638\n",
            "Epoch 140/250\n",
            "25/25 [==============================] - 0s 1ms/step - loss: 0.1647 - accuracy: 0.9638\n",
            "Epoch 141/250\n",
            "25/25 [==============================] - 0s 1ms/step - loss: 0.1613 - accuracy: 0.9638\n",
            "Epoch 142/250\n",
            "25/25 [==============================] - 0s 1ms/step - loss: 0.1578 - accuracy: 0.9650\n",
            "Epoch 143/250\n",
            "25/25 [==============================] - 0s 1ms/step - loss: 0.1544 - accuracy: 0.9688\n",
            "Epoch 144/250\n",
            "25/25 [==============================] - 0s 1ms/step - loss: 0.1512 - accuracy: 0.9675\n",
            "Epoch 145/250\n",
            "25/25 [==============================] - 0s 1ms/step - loss: 0.1480 - accuracy: 0.9700\n",
            "Epoch 146/250\n",
            "25/25 [==============================] - 0s 1ms/step - loss: 0.1450 - accuracy: 0.9688\n",
            "Epoch 147/250\n",
            "25/25 [==============================] - 0s 1ms/step - loss: 0.1418 - accuracy: 0.9725\n",
            "Epoch 148/250\n",
            "25/25 [==============================] - 0s 1ms/step - loss: 0.1388 - accuracy: 0.9725\n",
            "Epoch 149/250\n",
            "25/25 [==============================] - 0s 1ms/step - loss: 0.1359 - accuracy: 0.9750\n",
            "Epoch 150/250\n",
            "25/25 [==============================] - 0s 1ms/step - loss: 0.1330 - accuracy: 0.9737\n",
            "Epoch 151/250\n",
            "25/25 [==============================] - 0s 1ms/step - loss: 0.1303 - accuracy: 0.9750\n",
            "Epoch 152/250\n",
            "25/25 [==============================] - 0s 1ms/step - loss: 0.1275 - accuracy: 0.9800\n",
            "Epoch 153/250\n",
            "25/25 [==============================] - 0s 1ms/step - loss: 0.1249 - accuracy: 0.9825\n",
            "Epoch 154/250\n",
            "25/25 [==============================] - 0s 1ms/step - loss: 0.1223 - accuracy: 0.9825\n",
            "Epoch 155/250\n",
            "25/25 [==============================] - 0s 1ms/step - loss: 0.1196 - accuracy: 0.9825\n",
            "Epoch 156/250\n",
            "25/25 [==============================] - 0s 1ms/step - loss: 0.1172 - accuracy: 0.9850\n",
            "Epoch 157/250\n",
            "25/25 [==============================] - 0s 1ms/step - loss: 0.1149 - accuracy: 0.9850\n",
            "Epoch 158/250\n",
            "25/25 [==============================] - 0s 1ms/step - loss: 0.1125 - accuracy: 0.9850\n",
            "Epoch 159/250\n",
            "25/25 [==============================] - 0s 1ms/step - loss: 0.1102 - accuracy: 0.9850\n",
            "Epoch 160/250\n",
            "25/25 [==============================] - 0s 1ms/step - loss: 0.1079 - accuracy: 0.9850\n",
            "Epoch 161/250\n",
            "25/25 [==============================] - 0s 1ms/step - loss: 0.1058 - accuracy: 0.9850\n",
            "Epoch 162/250\n",
            "25/25 [==============================] - 0s 1ms/step - loss: 0.1037 - accuracy: 0.9850\n",
            "Epoch 163/250\n",
            "25/25 [==============================] - 0s 1ms/step - loss: 0.1017 - accuracy: 0.9862\n",
            "Epoch 164/250\n",
            "25/25 [==============================] - 0s 1ms/step - loss: 0.0997 - accuracy: 0.9862\n",
            "Epoch 165/250\n",
            "25/25 [==============================] - 0s 1ms/step - loss: 0.0978 - accuracy: 0.9862\n",
            "Epoch 166/250\n",
            "25/25 [==============================] - 0s 1ms/step - loss: 0.0960 - accuracy: 0.9862\n",
            "Epoch 167/250\n",
            "25/25 [==============================] - 0s 1ms/step - loss: 0.0941 - accuracy: 0.9862\n",
            "Epoch 168/250\n",
            "25/25 [==============================] - 0s 1ms/step - loss: 0.0924 - accuracy: 0.9862\n",
            "Epoch 169/250\n",
            "25/25 [==============================] - 0s 1ms/step - loss: 0.0905 - accuracy: 0.9862\n",
            "Epoch 170/250\n",
            "25/25 [==============================] - 0s 1ms/step - loss: 0.0889 - accuracy: 0.9862\n",
            "Epoch 171/250\n",
            "25/25 [==============================] - 0s 1ms/step - loss: 0.0872 - accuracy: 0.9862\n",
            "Epoch 172/250\n",
            "25/25 [==============================] - 0s 1ms/step - loss: 0.0854 - accuracy: 0.9875\n",
            "Epoch 173/250\n",
            "25/25 [==============================] - 0s 1ms/step - loss: 0.0839 - accuracy: 0.9875\n",
            "Epoch 174/250\n",
            "25/25 [==============================] - 0s 1ms/step - loss: 0.0823 - accuracy: 0.9887\n",
            "Epoch 175/250\n",
            "25/25 [==============================] - 0s 1ms/step - loss: 0.0808 - accuracy: 0.9887\n",
            "Epoch 176/250\n",
            "25/25 [==============================] - 0s 1ms/step - loss: 0.0793 - accuracy: 0.9900\n",
            "Epoch 177/250\n",
            "25/25 [==============================] - 0s 1ms/step - loss: 0.0779 - accuracy: 0.9900\n",
            "Epoch 178/250\n",
            "25/25 [==============================] - 0s 1ms/step - loss: 0.0765 - accuracy: 0.9900\n",
            "Epoch 179/250\n",
            "25/25 [==============================] - 0s 1ms/step - loss: 0.0752 - accuracy: 0.9900\n",
            "Epoch 180/250\n",
            "25/25 [==============================] - 0s 1ms/step - loss: 0.0738 - accuracy: 0.9887\n",
            "Epoch 181/250\n",
            "25/25 [==============================] - 0s 1ms/step - loss: 0.0725 - accuracy: 0.9900\n",
            "Epoch 182/250\n",
            "25/25 [==============================] - 0s 1ms/step - loss: 0.0712 - accuracy: 0.9900\n",
            "Epoch 183/250\n",
            "25/25 [==============================] - 0s 1ms/step - loss: 0.0701 - accuracy: 0.9900\n",
            "Epoch 184/250\n",
            "25/25 [==============================] - 0s 1ms/step - loss: 0.0689 - accuracy: 0.9900\n",
            "Epoch 185/250\n",
            "25/25 [==============================] - 0s 1ms/step - loss: 0.0677 - accuracy: 0.9900\n",
            "Epoch 186/250\n",
            "25/25 [==============================] - 0s 1ms/step - loss: 0.0666 - accuracy: 0.9900\n",
            "Epoch 187/250\n",
            "25/25 [==============================] - 0s 1ms/step - loss: 0.0655 - accuracy: 0.9900\n",
            "Epoch 188/250\n",
            "25/25 [==============================] - 0s 1ms/step - loss: 0.0646 - accuracy: 0.9900\n",
            "Epoch 189/250\n",
            "25/25 [==============================] - 0s 1ms/step - loss: 0.0634 - accuracy: 0.9900\n",
            "Epoch 190/250\n",
            "25/25 [==============================] - 0s 1ms/step - loss: 0.0624 - accuracy: 0.9900\n",
            "Epoch 191/250\n",
            "25/25 [==============================] - 0s 1ms/step - loss: 0.0614 - accuracy: 0.9900\n",
            "Epoch 192/250\n",
            "25/25 [==============================] - 0s 1ms/step - loss: 0.0605 - accuracy: 0.9900\n",
            "Epoch 193/250\n",
            "25/25 [==============================] - 0s 1ms/step - loss: 0.0594 - accuracy: 0.9900\n",
            "Epoch 194/250\n",
            "25/25 [==============================] - 0s 1ms/step - loss: 0.0585 - accuracy: 0.9900\n",
            "Epoch 195/250\n",
            "25/25 [==============================] - 0s 1ms/step - loss: 0.0576 - accuracy: 0.9900\n",
            "Epoch 196/250\n",
            "25/25 [==============================] - 0s 1ms/step - loss: 0.0567 - accuracy: 0.9900\n",
            "Epoch 197/250\n",
            "25/25 [==============================] - 0s 1ms/step - loss: 0.0559 - accuracy: 0.9900\n",
            "Epoch 198/250\n",
            "25/25 [==============================] - 0s 1ms/step - loss: 0.0550 - accuracy: 0.9900\n",
            "Epoch 199/250\n",
            "25/25 [==============================] - 0s 1ms/step - loss: 0.0542 - accuracy: 0.9912\n",
            "Epoch 200/250\n",
            "25/25 [==============================] - 0s 995us/step - loss: 0.0534 - accuracy: 0.9900\n",
            "Epoch 201/250\n",
            "25/25 [==============================] - 0s 1ms/step - loss: 0.0526 - accuracy: 0.9900\n",
            "Epoch 202/250\n",
            "25/25 [==============================] - 0s 1ms/step - loss: 0.0518 - accuracy: 0.9912\n",
            "Epoch 203/250\n",
            "25/25 [==============================] - 0s 1ms/step - loss: 0.0510 - accuracy: 0.9937\n",
            "Epoch 204/250\n",
            "25/25 [==============================] - 0s 1ms/step - loss: 0.0503 - accuracy: 0.9937\n",
            "Epoch 205/250\n",
            "25/25 [==============================] - 0s 1ms/step - loss: 0.0496 - accuracy: 0.9937\n",
            "Epoch 206/250\n",
            "25/25 [==============================] - 0s 1ms/step - loss: 0.0488 - accuracy: 0.9937\n",
            "Epoch 207/250\n",
            "25/25 [==============================] - 0s 1ms/step - loss: 0.0483 - accuracy: 0.9925\n",
            "Epoch 208/250\n",
            "25/25 [==============================] - 0s 1ms/step - loss: 0.0476 - accuracy: 0.9912\n",
            "Epoch 209/250\n",
            "25/25 [==============================] - 0s 1ms/step - loss: 0.0469 - accuracy: 0.9937\n",
            "Epoch 210/250\n",
            "25/25 [==============================] - 0s 1ms/step - loss: 0.0464 - accuracy: 0.9937\n",
            "Epoch 211/250\n",
            "25/25 [==============================] - 0s 1ms/step - loss: 0.0457 - accuracy: 0.9937\n",
            "Epoch 212/250\n",
            "25/25 [==============================] - 0s 1ms/step - loss: 0.0451 - accuracy: 0.9937\n",
            "Epoch 213/250\n",
            "25/25 [==============================] - 0s 1ms/step - loss: 0.0445 - accuracy: 0.9937\n",
            "Epoch 214/250\n",
            "25/25 [==============================] - 0s 1ms/step - loss: 0.0441 - accuracy: 0.9937\n",
            "Epoch 215/250\n",
            "25/25 [==============================] - 0s 1ms/step - loss: 0.0434 - accuracy: 0.9937\n",
            "Epoch 216/250\n",
            "25/25 [==============================] - 0s 1ms/step - loss: 0.0428 - accuracy: 0.9937\n",
            "Epoch 217/250\n",
            "25/25 [==============================] - 0s 1ms/step - loss: 0.0423 - accuracy: 0.9937\n",
            "Epoch 218/250\n",
            "25/25 [==============================] - 0s 1ms/step - loss: 0.0419 - accuracy: 0.9937\n",
            "Epoch 219/250\n",
            "25/25 [==============================] - 0s 1ms/step - loss: 0.0413 - accuracy: 0.9937\n",
            "Epoch 220/250\n",
            "25/25 [==============================] - 0s 1ms/step - loss: 0.0408 - accuracy: 0.9937\n",
            "Epoch 221/250\n",
            "25/25 [==============================] - 0s 1ms/step - loss: 0.0403 - accuracy: 0.9937\n",
            "Epoch 222/250\n",
            "25/25 [==============================] - 0s 1ms/step - loss: 0.0398 - accuracy: 0.9937\n",
            "Epoch 223/250\n",
            "25/25 [==============================] - 0s 1ms/step - loss: 0.0393 - accuracy: 0.9937\n",
            "Epoch 224/250\n",
            "25/25 [==============================] - 0s 1ms/step - loss: 0.0389 - accuracy: 0.9937\n",
            "Epoch 225/250\n",
            "25/25 [==============================] - 0s 1ms/step - loss: 0.0384 - accuracy: 0.9950\n",
            "Epoch 226/250\n",
            "25/25 [==============================] - 0s 1ms/step - loss: 0.0379 - accuracy: 0.9937\n",
            "Epoch 227/250\n",
            "25/25 [==============================] - 0s 1ms/step - loss: 0.0375 - accuracy: 0.9937\n",
            "Epoch 228/250\n",
            "25/25 [==============================] - 0s 1ms/step - loss: 0.0371 - accuracy: 0.9937\n",
            "Epoch 229/250\n",
            "25/25 [==============================] - 0s 1ms/step - loss: 0.0366 - accuracy: 0.9950\n",
            "Epoch 230/250\n",
            "25/25 [==============================] - 0s 1ms/step - loss: 0.0363 - accuracy: 0.9937\n",
            "Epoch 231/250\n",
            "25/25 [==============================] - 0s 1ms/step - loss: 0.0359 - accuracy: 0.9950\n",
            "Epoch 232/250\n",
            "25/25 [==============================] - 0s 1ms/step - loss: 0.0354 - accuracy: 0.9950\n",
            "Epoch 233/250\n",
            "25/25 [==============================] - 0s 1ms/step - loss: 0.0351 - accuracy: 0.9937\n",
            "Epoch 234/250\n",
            "25/25 [==============================] - 0s 1ms/step - loss: 0.0345 - accuracy: 0.9950\n",
            "Epoch 235/250\n",
            "25/25 [==============================] - 0s 1ms/step - loss: 0.0343 - accuracy: 0.9950\n",
            "Epoch 236/250\n",
            "25/25 [==============================] - 0s 1ms/step - loss: 0.0339 - accuracy: 0.9950\n",
            "Epoch 237/250\n",
            "25/25 [==============================] - 0s 1ms/step - loss: 0.0336 - accuracy: 0.9950\n",
            "Epoch 238/250\n",
            "25/25 [==============================] - 0s 1ms/step - loss: 0.0333 - accuracy: 0.9950\n",
            "Epoch 239/250\n",
            "25/25 [==============================] - 0s 1ms/step - loss: 0.0329 - accuracy: 0.9950\n",
            "Epoch 240/250\n",
            "25/25 [==============================] - 0s 1ms/step - loss: 0.0326 - accuracy: 0.9950\n",
            "Epoch 241/250\n",
            "25/25 [==============================] - 0s 1ms/step - loss: 0.0323 - accuracy: 0.9950\n",
            "Epoch 242/250\n",
            "25/25 [==============================] - 0s 1ms/step - loss: 0.0319 - accuracy: 0.9950\n",
            "Epoch 243/250\n",
            "25/25 [==============================] - 0s 1ms/step - loss: 0.0316 - accuracy: 0.9950\n",
            "Epoch 244/250\n",
            "25/25 [==============================] - 0s 1ms/step - loss: 0.0313 - accuracy: 0.9950\n",
            "Epoch 245/250\n",
            "25/25 [==============================] - 0s 1ms/step - loss: 0.0310 - accuracy: 0.9950\n",
            "Epoch 246/250\n",
            "25/25 [==============================] - 0s 1ms/step - loss: 0.0307 - accuracy: 0.9950\n",
            "Epoch 247/250\n",
            "25/25 [==============================] - 0s 1ms/step - loss: 0.0304 - accuracy: 0.9950\n",
            "Epoch 248/250\n",
            "25/25 [==============================] - 0s 1ms/step - loss: 0.0301 - accuracy: 0.9950\n",
            "Epoch 249/250\n",
            "25/25 [==============================] - 0s 1ms/step - loss: 0.0298 - accuracy: 0.9950\n",
            "Epoch 250/250\n",
            "25/25 [==============================] - 0s 1ms/step - loss: 0.0295 - accuracy: 0.9962\n"
          ],
          "name": "stdout"
        }
      ]
    },
    {
      "cell_type": "markdown",
      "metadata": {
        "id": "DldqbXjgr8Hw"
      },
      "source": [
        "We then need to extract the weight, or $\\theta$, values produced by our model. Here, `get_weights()` is used to get the weights and bias into an array."
      ]
    },
    {
      "cell_type": "code",
      "metadata": {
        "id": "u3aF_G4lsHT6",
        "outputId": "19988b4e-d95c-4227-e7a3-15bad69ca660",
        "colab": {
          "base_uri": "https://localhost:8080/",
          "height": 34
        }
      },
      "source": [
        "weights = model.get_weights()\n",
        "\n",
        "w1 = weights[0][0][0]\n",
        "w2 = weights[0][1][0]\n",
        "b = weights[1][0]\n",
        "\n",
        "print(w1, w2, b)"
      ],
      "execution_count": null,
      "outputs": [
        {
          "output_type": "stream",
          "text": [
            "2.7945654 -0.25499576 3.3457925\n"
          ],
          "name": "stdout"
        }
      ]
    },
    {
      "cell_type": "markdown",
      "metadata": {
        "id": "80Q8n8J6sUeI"
      },
      "source": [
        "Using the testing data and labels, the model can then be analyzed to measure the total loss and accuracy."
      ]
    },
    {
      "cell_type": "code",
      "metadata": {
        "id": "tuI1RWvZsbEZ",
        "outputId": "9ea1c90a-117c-45c5-bb25-f8ddd01f1891",
        "colab": {
          "base_uri": "https://localhost:8080/",
          "height": 34
        }
      },
      "source": [
        "results = model.evaluate(data_test, labels_test)"
      ],
      "execution_count": null,
      "outputs": [
        {
          "output_type": "stream",
          "text": [
            "7/7 [==============================] - 0s 2ms/step - loss: 0.0282 - accuracy: 1.0000\n"
          ],
          "name": "stdout"
        }
      ]
    },
    {
      "cell_type": "markdown",
      "metadata": {
        "id": "S0SoC7HkshAm"
      },
      "source": [
        "Once our model is trained, we can visualize it with the original data. We can use the model to get a new separating line. To it, we use the function `get_separating_line()`, which sets $w_1x_1 + w_2x_2 + b = 0$. From there, it simply solves for $x_2$ to get the sepatating line when the sigmoid function is $1/2$."
      ]
    },
    {
      "cell_type": "code",
      "metadata": {
        "id": "oC54q8W8sv9F"
      },
      "source": [
        "def get_separating_line(w1, w2, b):\n",
        "\n",
        "  return -(w1 * 0.5 + b) / w2"
      ],
      "execution_count": null,
      "outputs": []
    },
    {
      "cell_type": "code",
      "metadata": {
        "id": "u4R0JRHAs056"
      },
      "source": [
        "def display_model_data(data, labels):\n",
        "\n",
        "  # Define the classes and colors.\n",
        "  classes = ['0', '1']\n",
        "  colors = ['red', 'blue']\n",
        "\n",
        "  # Generate the scatter plot.\n",
        "  scatter = plt.scatter(data[:, 0], data[:, 1], c=labels, cmap=matplotlib.colors.ListedColormap(colors))\n",
        "  \n",
        "  # Format the title and axis labels\n",
        "  plt.title('Trained Model with TensorFlow and Keras', fontsize=14)\n",
        "  plt.xlabel('$ x_1 $', fontsize=14)\n",
        "  plt.ylabel('$ x_2 $', fontsize=14)\n",
        "\n",
        "  # Inlcude a legend.\n",
        "  plt.legend(handles=scatter.legend_elements()[0], labels=classes, fontsize=8)\n",
        "\n",
        "  # Plot the true line used to generate the data.\n",
        "  x = np.linspace(0,1,100)\n",
        "  y = weight * x + bias\n",
        "  plt.plot(x, y)\n",
        "\n",
        "  # Plot the separating line of the trained model.\n",
        "  separating_line = get_separating_line(w1, w2, b)\n",
        "  print(separating_line)\n",
        "  y = separating_line * x + b\n",
        "  plt.plot(x, y)\n",
        "\n",
        "  plt.show()"
      ],
      "execution_count": null,
      "outputs": []
    },
    {
      "cell_type": "code",
      "metadata": {
        "id": "-GiAL8Abs7z2",
        "outputId": "208bea5c-f70f-4a65-a751-08191ccceb10",
        "colab": {
          "base_uri": "https://localhost:8080/",
          "height": 318
        }
      },
      "source": [
        "display_model_data(data, labels)"
      ],
      "execution_count": null,
      "outputs": [
        {
          "output_type": "stream",
          "text": [
            "18.6006041440175\n"
          ],
          "name": "stdout"
        },
        {
          "output_type": "display_data",
          "data": {
            "image/png": "[encoded data removed]",
            "text/plain": [
              "<Figure size 432x288 with 1 Axes>"
            ]
          },
          "metadata": {
            "tags": [],
            "needs_background": "light"
          }
        }
      ]
    },
    {
      "cell_type": "markdown",
      "metadata": {
        "id": "a3oNpvwktEvX"
      },
      "source": [
        "Finally, we can visualize the model with a heatmap, using the original weights and bias and the sigmoid function.\n"
      ]
    },
    {
      "cell_type": "code",
      "metadata": {
        "id": "HAh88WFUtKLg"
      },
      "source": [
        "def sigmoid(x):\n",
        "  \n",
        "  return 1 / (1 + np.exp(-x))"
      ],
      "execution_count": null,
      "outputs": []
    },
    {
      "cell_type": "code",
      "metadata": {
        "id": "i-WxVM2etMMp"
      },
      "source": [
        "def display_heatmap(w1, w2, b):\n",
        "\n",
        "  # Get the data for the heatmap.\n",
        "  x1, x2 = np.meshgrid(np.linspace(0, 1, 200), np.linspace(-20, 60, 200))\n",
        "  z = sigmoid(w1 * x1 + w2 * x2 + b)\n",
        "\n",
        "  # Set the bounds for z.\n",
        "  z = z[:-1, :-1]\n",
        "  z_min, z_max = -np.abs(z).max(), np.abs(z).max()\n",
        "\n",
        "  # Generate the heatmap.\n",
        "  fig, ax = plt.subplots()\n",
        "  c = ax.pcolormesh(x1, x2, z, cmap='RdBu', vmin=0, vmax=1)\n",
        "  ax.set_title('Trained Model with TensorFlow and Keras', fontsize=14)\n",
        "  fig.colorbar(c, ax=ax)\n",
        "  plt.xlabel(r'$ x_1 $', fontsize=14)\n",
        "  plt.ylabel(r'$ x_2 $', fontsize=14)\n",
        "  \n",
        "  # Set the limits of the plot.\n",
        "  ax.axis([x1.min(), x1.max(), x2.min(), x2.max()])\n",
        "\n",
        "  plt.show()"
      ],
      "execution_count": null,
      "outputs": []
    },
    {
      "cell_type": "code",
      "metadata": {
        "id": "lQNx6GQrtQ7H",
        "outputId": "b9c35d3b-51f8-4e25-c120-17a37e96c5e9",
        "colab": {
          "base_uri": "https://localhost:8080/",
          "height": 301
        }
      },
      "source": [
        "display_heatmap(w1, w2, b)"
      ],
      "execution_count": null,
      "outputs": [
        {
          "output_type": "display_data",
          "data": {
            "image/png": "[encoded data removed]",
            "text/plain": [
              "<Figure size 432x288 with 2 Axes>"
            ]
          },
          "metadata": {
            "tags": [],
            "needs_background": "light"
          }
        }
      ]
    }
  ]
}