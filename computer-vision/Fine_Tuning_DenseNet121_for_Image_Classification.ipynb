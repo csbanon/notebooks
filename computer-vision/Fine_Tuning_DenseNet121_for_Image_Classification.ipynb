{
  "nbformat": 4,
  "nbformat_minor": 0,
  "metadata": {
    "colab": {
      "name": "Fine-Tuning DenseNet121 for Image Classification",
      "provenance": []
    },
    "kernelspec": {
      "name": "python3",
      "display_name": "Python 3"
    }
  },
  "cells": [
    {
      "cell_type": "markdown",
      "metadata": {
        "id": "cgvnrCfBbuNt"
      },
      "source": [
        "# Fine-Tuning DenseNet121 for Image Classification\n",
        "*By Carlos Santiago Bañón*\n",
        "\n",
        "**Year:** 2020\n",
        "\n",
        "**Technologies:** Python, TensorFlow, Keras, Matplotlib, NumPy, TeX, Jupyter Notebook\n",
        "\n",
        "**Discipline(s):** Computer Vision\n",
        "\n",
        "**Keywords:** `computer-vision`, `cnn`, `convolutional-neural-network`, `deep-learning`, `image-classification`, `densenet121`"
      ]
    },
    {
      "cell_type": "markdown",
      "metadata": {
        "id": "AYamXeN0wOVK"
      },
      "source": [
        "This notebook shows the use of a pretrained *Convolutional Neural Network (CNN)* on a large data set from Google, containing 2,000 JPG images of cats and dogs.\n",
        "\n",
        "In *Deep Learning with Python*, François Chollet defines pretrained networks as \"a saved network that was previously trained on a large dataset, typically on a large-scale image-classification task.\"\n",
        "\n",
        "Here, we employ the [DenseNet121](https://keras.io/applications/#densenet) convolutional base for feature extraction. These are then run through a new classifier trained from scratch. With it, we then use data augmentation, fine-tuning, and no dropout."
      ]
    },
    {
      "cell_type": "markdown",
      "metadata": {
        "id": "fnJ_JIpBb5ob"
      },
      "source": [
        "## 1. Get the Data\n",
        "\n",
        "---"
      ]
    },
    {
      "cell_type": "markdown",
      "metadata": {
        "id": "7SVDE3nnztYy"
      },
      "source": [
        "### 1.1. Download and Extract the Data from Google"
      ]
    },
    {
      "cell_type": "markdown",
      "metadata": {
        "id": "IZ2ubzgDzNdT"
      },
      "source": [
        "First, we download the data from Google, which containes 2,000 JPG images of cats and dogs. These are extracted locally in `/tmp`."
      ]
    },
    {
      "cell_type": "code",
      "metadata": {
        "id": "lCDU6140cA2v",
        "outputId": "1d8a5680-46dd-48a9-ad2f-2f7232e2db15",
        "colab": {
          "base_uri": "https://localhost:8080/",
          "height": 204
        }
      },
      "source": [
        "# Download the data from Google.\n",
        "\n",
        "!wget --no-check-certificate \\\n",
        "    https://storage.googleapis.com/mledu-datasets/cats_and_dogs_filtered.zip \\\n",
        "    -O /tmp/cats_and_dogs_filtered.zip"
      ],
      "execution_count": null,
      "outputs": [
        {
          "output_type": "stream",
          "text": [
            "--2020-04-22 01:05:57--  https://storage.googleapis.com/mledu-datasets/cats_and_dogs_filtered.zip\n",
            "Resolving storage.googleapis.com (storage.googleapis.com)... 74.125.195.128, 2607:f8b0:400e:c09::80\n",
            "Connecting to storage.googleapis.com (storage.googleapis.com)|74.125.195.128|:443... connected.\n",
            "HTTP request sent, awaiting response... 200 OK\n",
            "Length: 68606236 (65M) [application/zip]\n",
            "Saving to: ‘/tmp/cats_and_dogs_filtered.zip’\n",
            "\n",
            "\r          /tmp/cats   0%[                    ]       0  --.-KB/s               \r         /tmp/cats_  86%[================>   ]  56.29M   281MB/s               \r/tmp/cats_and_dogs_ 100%[===================>]  65.43M   297MB/s    in 0.2s    \n",
            "\n",
            "2020-04-22 01:05:57 (297 MB/s) - ‘/tmp/cats_and_dogs_filtered.zip’ saved [68606236/68606236]\n",
            "\n"
          ],
          "name": "stdout"
        }
      ]
    },
    {
      "cell_type": "code",
      "metadata": {
        "id": "viU0x8YYcI7v"
      },
      "source": [
        "import os\n",
        "import zipfile\n",
        "\n",
        "# Unzip the file and extract the data.\n",
        "local_zip = '/tmp/cats_and_dogs_filtered.zip'\n",
        "zip_ref = zipfile.ZipFile(local_zip, 'r')\n",
        "zip_ref.extractall('/tmp')\n",
        "zip_ref.close()"
      ],
      "execution_count": null,
      "outputs": []
    },
    {
      "cell_type": "markdown",
      "metadata": {
        "id": "5bwSilqPzw4J"
      },
      "source": [
        "### 1.2. Split the Data into Training and Validation Sets"
      ]
    },
    {
      "cell_type": "markdown",
      "metadata": {
        "id": "sC4rtapmzl2l"
      },
      "source": [
        "We then take this data and split it into training and validation sets. It must be noted that the data provided by Google does not have a test set."
      ]
    },
    {
      "cell_type": "code",
      "metadata": {
        "id": "HzlF1HLFcKd0"
      },
      "source": [
        "# Split the data into training and validation sets.\n",
        "\n",
        "base_dir = '/tmp/cats_and_dogs_filtered'\n",
        "train_dir = os.path.join(base_dir, 'train')\n",
        "validation_dir = os.path.join(base_dir, 'validation')\n",
        "\n",
        "# Directory with our training cat pictures.\n",
        "train_cats_dir = os.path.join(train_dir, 'cats')\n",
        "\n",
        "# Directory with our training dog pictures.\n",
        "train_dogs_dir = os.path.join(train_dir, 'dogs')\n",
        "\n",
        "# Directory with our validation cat pictures.\n",
        "validation_cats_dir = os.path.join(validation_dir, 'cats')\n",
        "\n",
        "# Directory with our validation dog pictures.\n",
        "validation_dogs_dir = os.path.join(validation_dir, 'dogs')"
      ],
      "execution_count": null,
      "outputs": []
    },
    {
      "cell_type": "markdown",
      "metadata": {
        "id": "WcGwpQhxcQyr"
      },
      "source": [
        "## 2. Build the New Model\n",
        "\n",
        "---"
      ]
    },
    {
      "cell_type": "markdown",
      "metadata": {
        "id": "k1NISnSZ0W2v"
      },
      "source": [
        "Once we have the data ready, we can proceed to build the new model using the pretrained DenseNet convolutional base. This will then be concatenated with a newly-trained custom set of densely-connected layers."
      ]
    },
    {
      "cell_type": "markdown",
      "metadata": {
        "id": "v85m_lDMcjgn"
      },
      "source": [
        "### 2.1. Load the Convolutional Base"
      ]
    },
    {
      "cell_type": "markdown",
      "metadata": {
        "id": "EpAuGUM90pcI"
      },
      "source": [
        "First, load the pretrained DenseNet convolutional base."
      ]
    },
    {
      "cell_type": "code",
      "metadata": {
        "id": "G0YPYH1EcnmM",
        "outputId": "e6705420-7286-4393-ff9b-7692d26efaf9",
        "colab": {
          "base_uri": "https://localhost:8080/",
          "height": 34
        }
      },
      "source": [
        "from keras.applications import DenseNet121\n",
        "\n",
        "conv_base = DenseNet121(\n",
        "    weights='imagenet', \n",
        "    include_top=False, \n",
        "    input_shape=(150, 150, 3))"
      ],
      "execution_count": null,
      "outputs": [
        {
          "output_type": "stream",
          "text": [
            "Using TensorFlow backend.\n"
          ],
          "name": "stderr"
        }
      ]
    },
    {
      "cell_type": "markdown",
      "metadata": {
        "id": "KkWkDCqpeAz1"
      },
      "source": [
        "### 2.2. Freeze the Convolutional Base"
      ]
    },
    {
      "cell_type": "markdown",
      "metadata": {
        "id": "pgYukGqN01Wy"
      },
      "source": [
        "Once the pretrained convolutional base is ready, freeze it by setting its `trainable` attribute to `False`."
      ]
    },
    {
      "cell_type": "code",
      "metadata": {
        "id": "76FfZbLaeC45"
      },
      "source": [
        "conv_base.trainable = False"
      ],
      "execution_count": null,
      "outputs": []
    },
    {
      "cell_type": "markdown",
      "metadata": {
        "id": "EneyLvQQeI1H"
      },
      "source": [
        "### 2.3. Add a Densely-Connected Classifier on Top of the Convolutional Base"
      ]
    },
    {
      "cell_type": "markdown",
      "metadata": {
        "id": "dcCBCP9A1MRf"
      },
      "source": [
        "After freezing the pretrained model, we can then proceed to add a densely-connected classifier on top of the convolutional base. This will provide more specific results for our problem."
      ]
    },
    {
      "cell_type": "code",
      "metadata": {
        "id": "hr0tVGmpeLnM"
      },
      "source": [
        "from keras import layers\n",
        "from keras import models\n",
        "from keras import optimizers\n",
        "\n",
        "model = models.Sequential()\n",
        "model.add(conv_base)\n",
        "model.add(layers.Flatten())\n",
        "model.add(layers.Dense(256, activation='relu'))\n",
        "model.add(layers.Dense(1, activation='sigmoid'))"
      ],
      "execution_count": null,
      "outputs": []
    },
    {
      "cell_type": "code",
      "metadata": {
        "id": "PgeL3w65eZSF",
        "outputId": "d888e29a-b194-44a5-de01-b7320aeedcab",
        "colab": {
          "base_uri": "https://localhost:8080/",
          "height": 289
        }
      },
      "source": [
        "model.summary()"
      ],
      "execution_count": null,
      "outputs": [
        {
          "output_type": "stream",
          "text": [
            "Model: \"sequential_1\"\n",
            "_________________________________________________________________\n",
            "Layer (type)                 Output Shape              Param #   \n",
            "=================================================================\n",
            "densenet121 (Model)          (None, 4, 4, 1024)        7037504   \n",
            "_________________________________________________________________\n",
            "flatten_1 (Flatten)          (None, 16384)             0         \n",
            "_________________________________________________________________\n",
            "dense_1 (Dense)              (None, 256)               4194560   \n",
            "_________________________________________________________________\n",
            "dense_2 (Dense)              (None, 1)                 257       \n",
            "=================================================================\n",
            "Total params: 11,232,321\n",
            "Trainable params: 4,194,817\n",
            "Non-trainable params: 7,037,504\n",
            "_________________________________________________________________\n"
          ],
          "name": "stdout"
        }
      ]
    },
    {
      "cell_type": "markdown",
      "metadata": {
        "id": "3w2zI_7Mek7l"
      },
      "source": [
        "### 2.4. Train the Model End to End with a Frozen Convolutional Base"
      ]
    },
    {
      "cell_type": "markdown",
      "metadata": {
        "id": "nzAtKnmtEWmK"
      },
      "source": [
        "After concatenating the pretrained model and the densely-connected layers, the next step is to train the model end to end with the frozen convolutional base.\n",
        "\n",
        "First, we use data augmentation."
      ]
    },
    {
      "cell_type": "code",
      "metadata": {
        "id": "jGbjUN0DemEi"
      },
      "source": [
        "from keras.preprocessing.image import ImageDataGenerator\n",
        "from keras import optimizers"
      ],
      "execution_count": null,
      "outputs": []
    },
    {
      "cell_type": "code",
      "metadata": {
        "id": "G2WYu7VLenzH",
        "outputId": "d0ec87e7-5107-412d-b652-024223838aba",
        "colab": {
          "base_uri": "https://localhost:8080/",
          "height": 51
        }
      },
      "source": [
        "# Use data augmentation.\n",
        "\n",
        "train_datagen = ImageDataGenerator(\n",
        "    rescale=1./255, \n",
        "    rotation_range=40,\n",
        "    width_shift_range=0.2,\n",
        "    height_shift_range=0.2,\n",
        "    shear_range=0.2,\n",
        "    zoom_range=0.2,\n",
        "    horizontal_flip=True,\n",
        "    fill_mode='nearest'\n",
        ")\n",
        "\n",
        "train_generator = train_datagen.flow_from_directory(\n",
        "    train_dir,\n",
        "    target_size=(150, 150),\n",
        "    batch_size=20,\n",
        "    class_mode='binary')\n",
        "\n",
        "validation_datagen = ImageDataGenerator(rescale=1./255)\n",
        "\n",
        "validation_generator = validation_datagen.flow_from_directory(\n",
        "    validation_dir,\n",
        "    target_size=(150, 150),\n",
        "    batch_size=20,\n",
        "    class_mode='binary')"
      ],
      "execution_count": null,
      "outputs": [
        {
          "output_type": "stream",
          "text": [
            "Found 2000 images belonging to 2 classes.\n",
            "Found 1000 images belonging to 2 classes.\n"
          ],
          "name": "stdout"
        }
      ]
    },
    {
      "cell_type": "markdown",
      "metadata": {
        "id": "DNH9csF3En33"
      },
      "source": [
        "Then, we compile and train the model."
      ]
    },
    {
      "cell_type": "code",
      "metadata": {
        "id": "Pwa4_mYSerhI"
      },
      "source": [
        "# Compile the model.\n",
        "\n",
        "model.compile(\n",
        "    loss='binary_crossentropy', \n",
        "    optimizer=optimizers.RMSprop(lr=2e-5), \n",
        "    metrics=['acc'])"
      ],
      "execution_count": null,
      "outputs": []
    },
    {
      "cell_type": "code",
      "metadata": {
        "id": "CZmZqzCRetA6",
        "outputId": "4bd8dc02-3a2d-4f90-ef44-64a5b917e9fe",
        "colab": {
          "base_uri": "https://localhost:8080/",
          "height": 1000
        }
      },
      "source": [
        "# Train the model.\n",
        "\n",
        "history = model.fit_generator(\n",
        "    train_generator,\n",
        "    steps_per_epoch=100,\n",
        "    epochs=30,\n",
        "    validation_data=validation_generator,\n",
        "    validation_steps=50\n",
        ")"
      ],
      "execution_count": null,
      "outputs": [
        {
          "output_type": "stream",
          "text": [
            "Epoch 1/30\n",
            "100/100 [==============================] - 26s 260ms/step - loss: 0.3753 - acc: 0.8230 - val_loss: 0.3794 - val_acc: 0.9390\n",
            "Epoch 2/30\n",
            "100/100 [==============================] - 18s 182ms/step - loss: 0.2499 - acc: 0.8855 - val_loss: 0.0079 - val_acc: 0.9430\n",
            "Epoch 3/30\n",
            "100/100 [==============================] - 18s 180ms/step - loss: 0.2458 - acc: 0.8925 - val_loss: 0.0091 - val_acc: 0.9440\n",
            "Epoch 4/30\n",
            "100/100 [==============================] - 18s 181ms/step - loss: 0.2317 - acc: 0.9035 - val_loss: 0.1025 - val_acc: 0.9590\n",
            "Epoch 5/30\n",
            "100/100 [==============================] - 18s 180ms/step - loss: 0.2086 - acc: 0.9115 - val_loss: 0.0980 - val_acc: 0.9540\n",
            "Epoch 6/30\n",
            "100/100 [==============================] - 18s 181ms/step - loss: 0.1905 - acc: 0.9160 - val_loss: 0.0282 - val_acc: 0.9370\n",
            "Epoch 7/30\n",
            "100/100 [==============================] - 18s 182ms/step - loss: 0.2275 - acc: 0.9060 - val_loss: 0.1580 - val_acc: 0.9490\n",
            "Epoch 8/30\n",
            "100/100 [==============================] - 18s 182ms/step - loss: 0.2045 - acc: 0.9075 - val_loss: 0.2591 - val_acc: 0.9610\n",
            "Epoch 9/30\n",
            "100/100 [==============================] - 18s 182ms/step - loss: 0.1939 - acc: 0.9210 - val_loss: 0.0971 - val_acc: 0.9430\n",
            "Epoch 10/30\n",
            "100/100 [==============================] - 18s 181ms/step - loss: 0.1873 - acc: 0.9210 - val_loss: 0.0160 - val_acc: 0.9660\n",
            "Epoch 11/30\n",
            "100/100 [==============================] - 18s 184ms/step - loss: 0.1959 - acc: 0.9180 - val_loss: 0.0014 - val_acc: 0.9380\n",
            "Epoch 12/30\n",
            "100/100 [==============================] - 18s 183ms/step - loss: 0.1718 - acc: 0.9270 - val_loss: 0.0184 - val_acc: 0.9520\n",
            "Epoch 13/30\n",
            "100/100 [==============================] - 18s 182ms/step - loss: 0.1599 - acc: 0.9310 - val_loss: 0.0081 - val_acc: 0.9540\n",
            "Epoch 14/30\n",
            "100/100 [==============================] - 18s 181ms/step - loss: 0.1650 - acc: 0.9340 - val_loss: 0.2921 - val_acc: 0.9720\n",
            "Epoch 15/30\n",
            "100/100 [==============================] - 18s 185ms/step - loss: 0.1767 - acc: 0.9235 - val_loss: 0.9676 - val_acc: 0.9430\n",
            "Epoch 16/30\n",
            "100/100 [==============================] - 18s 182ms/step - loss: 0.1711 - acc: 0.9335 - val_loss: 0.0165 - val_acc: 0.9560\n",
            "Epoch 17/30\n",
            "100/100 [==============================] - 18s 181ms/step - loss: 0.1777 - acc: 0.9245 - val_loss: 0.3038 - val_acc: 0.9170\n",
            "Epoch 18/30\n",
            "100/100 [==============================] - 18s 181ms/step - loss: 0.1750 - acc: 0.9240 - val_loss: 0.0013 - val_acc: 0.9480\n",
            "Epoch 19/30\n",
            "100/100 [==============================] - 18s 180ms/step - loss: 0.1559 - acc: 0.9390 - val_loss: 3.5386e-05 - val_acc: 0.9700\n",
            "Epoch 20/30\n",
            "100/100 [==============================] - 18s 183ms/step - loss: 0.1671 - acc: 0.9345 - val_loss: 0.0205 - val_acc: 0.9540\n",
            "Epoch 21/30\n",
            "100/100 [==============================] - 18s 183ms/step - loss: 0.1580 - acc: 0.9340 - val_loss: 0.6773 - val_acc: 0.9580\n",
            "Epoch 22/30\n",
            "100/100 [==============================] - 18s 182ms/step - loss: 0.1822 - acc: 0.9170 - val_loss: 0.4594 - val_acc: 0.9520\n",
            "Epoch 23/30\n",
            "100/100 [==============================] - 18s 183ms/step - loss: 0.1672 - acc: 0.9265 - val_loss: 0.0187 - val_acc: 0.9450\n",
            "Epoch 24/30\n",
            "100/100 [==============================] - 18s 181ms/step - loss: 0.1489 - acc: 0.9420 - val_loss: 0.1047 - val_acc: 0.9530\n",
            "Epoch 25/30\n",
            "100/100 [==============================] - 18s 184ms/step - loss: 0.1437 - acc: 0.9425 - val_loss: 0.0048 - val_acc: 0.9540\n",
            "Epoch 26/30\n",
            "100/100 [==============================] - 18s 183ms/step - loss: 0.1631 - acc: 0.9330 - val_loss: 0.7208 - val_acc: 0.9470\n",
            "Epoch 27/30\n",
            "100/100 [==============================] - 18s 182ms/step - loss: 0.1540 - acc: 0.9350 - val_loss: 0.0017 - val_acc: 0.9720\n",
            "Epoch 28/30\n",
            "100/100 [==============================] - 18s 181ms/step - loss: 0.1372 - acc: 0.9420 - val_loss: 0.0079 - val_acc: 0.9700\n",
            "Epoch 29/30\n",
            "100/100 [==============================] - 18s 184ms/step - loss: 0.1179 - acc: 0.9540 - val_loss: 0.0031 - val_acc: 0.9710\n",
            "Epoch 30/30\n",
            "100/100 [==============================] - 18s 183ms/step - loss: 0.1480 - acc: 0.9360 - val_loss: 0.6581 - val_acc: 0.9440\n"
          ],
          "name": "stdout"
        }
      ]
    },
    {
      "cell_type": "markdown",
      "metadata": {
        "id": "Ft3V0Yejg1_Q"
      },
      "source": [
        "### 2.5. Show Loss and Accuracy Curves During Training"
      ]
    },
    {
      "cell_type": "markdown",
      "metadata": {
        "id": "wMiLaS9DFAEP"
      },
      "source": [
        "After the training phase is complete, we can then visualize the training and validation accuracy and loss using *Matplotlib*."
      ]
    },
    {
      "cell_type": "code",
      "metadata": {
        "id": "ZmYVtydPg2jK",
        "outputId": "2eaa22c7-d12c-4240-db43-50408dd98d93",
        "colab": {
          "base_uri": "https://localhost:8080/",
          "height": 545
        }
      },
      "source": [
        "%matplotlib inline\n",
        "\n",
        "import matplotlib.pyplot as plt\n",
        "\n",
        "acc = history.history['acc']\n",
        "val_acc = history.history['val_acc']\n",
        "\n",
        "loss = history.history['loss']\n",
        "val_loss = history.history['val_loss']\n",
        "\n",
        "epochs = range(1, len(acc) + 1)\n",
        "\n",
        "# Training and Validation Accuracy\n",
        "\n",
        "plt.plot(epochs, acc, 'bo', label='Training Accuracy')\n",
        "plt.plot(epochs, val_acc, 'b', label='Validation Accuracy')\n",
        "plt.title('Training and Validation Accuracy')\n",
        "plt.legend()\n",
        "\n",
        "plt.figure()\n",
        "\n",
        "# Training and Validation Loss\n",
        "\n",
        "plt.plot(epochs, loss, 'bo', label='Training Loss')\n",
        "plt.plot(epochs, val_loss, 'b', label='Validation Loss')\n",
        "plt.title('Training and Validation Loss')\n",
        "plt.legend()\n",
        "\n",
        "plt.show()"
      ],
      "execution_count": null,
      "outputs": [
        {
          "output_type": "display_data",
          "data": {
            "image/png": "[encoded data removed]",
            "text/plain": [
              "<Figure size 432x288 with 1 Axes>"
            ]
          },
          "metadata": {
            "tags": [],
            "needs_background": "light"
          }
        },
        {
          "output_type": "display_data",
          "data": {
            "image/png": "[encoded data removed]",
            "text/plain": [
              "<Figure size 432x288 with 1 Axes>"
            ]
          },
          "metadata": {
            "tags": [],
            "needs_background": "light"
          }
        }
      ]
    },
    {
      "cell_type": "markdown",
      "metadata": {
        "id": "qD5p0LMHg7ZM"
      },
      "source": [
        "## 3. Perform Fine-Tuning\n",
        "\n",
        "---"
      ]
    },
    {
      "cell_type": "markdown",
      "metadata": {
        "id": "AG_6ikl_Fpbu"
      },
      "source": [
        "After the initial training phase, we can use *fine-tuning* to get a higher accuracy."
      ]
    },
    {
      "cell_type": "markdown",
      "metadata": {
        "id": "IKA5PcvAhFcD"
      },
      "source": [
        "### 3.1. Freeze All Layers Up to a Specific One"
      ]
    },
    {
      "cell_type": "markdown",
      "metadata": {
        "id": "-VR5aEPyGnuY"
      },
      "source": [
        "First, we must freeze all the layers up to a specific one."
      ]
    },
    {
      "cell_type": "code",
      "metadata": {
        "id": "_vOKcKYhhGeW"
      },
      "source": [
        "conv_base.trainable = True\n",
        "\n",
        "set_trainable = False\n",
        "for layer in conv_base.layers:\n",
        "  if layer.name == 'block5_conv1':\n",
        "    set_trainable = True\n",
        "  if set_trainable:\n",
        "    layer.trainable = True\n",
        "  else:\n",
        "    layer.trainable = False"
      ],
      "execution_count": null,
      "outputs": []
    },
    {
      "cell_type": "markdown",
      "metadata": {
        "id": "FgcYAKwEhLg8"
      },
      "source": [
        "### 3.2. Recompile and Train the Model with Fine-Tuning"
      ]
    },
    {
      "cell_type": "markdown",
      "metadata": {
        "id": "J34G6YebGrQv"
      },
      "source": [
        "Then, we recompile the model and train it once more with the fine-tuning."
      ]
    },
    {
      "cell_type": "code",
      "metadata": {
        "id": "-stZICYbhMAh"
      },
      "source": [
        "# Recompile the model.\n",
        "\n",
        "model.compile(\n",
        "    loss='binary_crossentropy',\n",
        "    optimizer=optimizers.RMSprop(lr=1e-5), \n",
        "    metrics=['acc'])"
      ],
      "execution_count": null,
      "outputs": []
    },
    {
      "cell_type": "code",
      "metadata": {
        "id": "0PBOOuNnhN9u",
        "outputId": "4464a239-a433-46e1-f146-df66314cb1b8",
        "colab": {
          "base_uri": "https://localhost:8080/",
          "height": 1000
        }
      },
      "source": [
        "# Train the model.\n",
        "\n",
        "history = model.fit_generator(\n",
        "    train_generator,\n",
        "    steps_per_epoch=100,\n",
        "    epochs=100,\n",
        "    validation_data=validation_generator,\n",
        "    validation_steps=50)"
      ],
      "execution_count": null,
      "outputs": [
        {
          "output_type": "stream",
          "text": [
            "Epoch 1/100\n",
            "100/100 [==============================] - 28s 282ms/step - loss: 0.1485 - acc: 0.9390 - val_loss: 0.1357 - val_acc: 0.9670\n",
            "Epoch 2/100\n",
            "100/100 [==============================] - 20s 198ms/step - loss: 0.1278 - acc: 0.9485 - val_loss: 0.1359 - val_acc: 0.9690\n",
            "Epoch 3/100\n",
            "100/100 [==============================] - 20s 199ms/step - loss: 0.1308 - acc: 0.9435 - val_loss: 0.2101 - val_acc: 0.9640\n",
            "Epoch 4/100\n",
            "100/100 [==============================] - 20s 199ms/step - loss: 0.1418 - acc: 0.9395 - val_loss: 0.0171 - val_acc: 0.9590\n",
            "Epoch 5/100\n",
            "100/100 [==============================] - 20s 197ms/step - loss: 0.1675 - acc: 0.9340 - val_loss: 0.0088 - val_acc: 0.9660\n",
            "Epoch 6/100\n",
            "100/100 [==============================] - 20s 198ms/step - loss: 0.1298 - acc: 0.9505 - val_loss: 0.0945 - val_acc: 0.9590\n",
            "Epoch 7/100\n",
            "100/100 [==============================] - 20s 201ms/step - loss: 0.1212 - acc: 0.9500 - val_loss: 0.0825 - val_acc: 0.9650\n",
            "Epoch 8/100\n",
            "100/100 [==============================] - 20s 197ms/step - loss: 0.1174 - acc: 0.9520 - val_loss: 0.0074 - val_acc: 0.9620\n",
            "Epoch 9/100\n",
            "100/100 [==============================] - 20s 198ms/step - loss: 0.1182 - acc: 0.9505 - val_loss: 0.0301 - val_acc: 0.9720\n",
            "Epoch 10/100\n",
            "100/100 [==============================] - 20s 201ms/step - loss: 0.1303 - acc: 0.9505 - val_loss: 0.0060 - val_acc: 0.9620\n",
            "Epoch 11/100\n",
            "100/100 [==============================] - 20s 197ms/step - loss: 0.1367 - acc: 0.9455 - val_loss: 0.0189 - val_acc: 0.9630\n",
            "Epoch 12/100\n",
            "100/100 [==============================] - 20s 200ms/step - loss: 0.1223 - acc: 0.9530 - val_loss: 0.1227 - val_acc: 0.9680\n",
            "Epoch 13/100\n",
            "100/100 [==============================] - 20s 199ms/step - loss: 0.1175 - acc: 0.9490 - val_loss: 0.0431 - val_acc: 0.9660\n",
            "Epoch 14/100\n",
            "100/100 [==============================] - 20s 198ms/step - loss: 0.1296 - acc: 0.9535 - val_loss: 0.1828 - val_acc: 0.9710\n",
            "Epoch 15/100\n",
            "100/100 [==============================] - 20s 201ms/step - loss: 0.1314 - acc: 0.9470 - val_loss: 0.0057 - val_acc: 0.9660\n",
            "Epoch 16/100\n",
            "100/100 [==============================] - 20s 198ms/step - loss: 0.1217 - acc: 0.9435 - val_loss: 0.0649 - val_acc: 0.9630\n",
            "Epoch 17/100\n",
            "100/100 [==============================] - 20s 200ms/step - loss: 0.1313 - acc: 0.9420 - val_loss: 0.0035 - val_acc: 0.9620\n",
            "Epoch 18/100\n",
            "100/100 [==============================] - 20s 197ms/step - loss: 0.1292 - acc: 0.9485 - val_loss: 0.1491 - val_acc: 0.9620\n",
            "Epoch 19/100\n",
            "100/100 [==============================] - 20s 198ms/step - loss: 0.1288 - acc: 0.9440 - val_loss: 0.1169 - val_acc: 0.9540\n",
            "Epoch 20/100\n",
            "100/100 [==============================] - 20s 197ms/step - loss: 0.1345 - acc: 0.9450 - val_loss: 0.0060 - val_acc: 0.9740\n",
            "Epoch 21/100\n",
            "100/100 [==============================] - 20s 198ms/step - loss: 0.0986 - acc: 0.9595 - val_loss: 0.0746 - val_acc: 0.9570\n",
            "Epoch 22/100\n",
            "100/100 [==============================] - 20s 198ms/step - loss: 0.1311 - acc: 0.9470 - val_loss: 0.0014 - val_acc: 0.9690\n",
            "Epoch 23/100\n",
            "100/100 [==============================] - 20s 199ms/step - loss: 0.1113 - acc: 0.9540 - val_loss: 0.0762 - val_acc: 0.9590\n",
            "Epoch 24/100\n",
            "100/100 [==============================] - 20s 198ms/step - loss: 0.1266 - acc: 0.9440 - val_loss: 0.1415 - val_acc: 0.9640\n",
            "Epoch 25/100\n",
            "100/100 [==============================] - 20s 197ms/step - loss: 0.1128 - acc: 0.9560 - val_loss: 0.0347 - val_acc: 0.9780\n",
            "Epoch 26/100\n",
            "100/100 [==============================] - 20s 200ms/step - loss: 0.1251 - acc: 0.9520 - val_loss: 0.0220 - val_acc: 0.9690\n",
            "Epoch 27/100\n",
            "100/100 [==============================] - 20s 198ms/step - loss: 0.1127 - acc: 0.9570 - val_loss: 0.0316 - val_acc: 0.9700\n",
            "Epoch 28/100\n",
            "100/100 [==============================] - 20s 199ms/step - loss: 0.1203 - acc: 0.9515 - val_loss: 0.1840 - val_acc: 0.9610\n",
            "Epoch 29/100\n",
            "100/100 [==============================] - 20s 199ms/step - loss: 0.0931 - acc: 0.9620 - val_loss: 0.0218 - val_acc: 0.9690\n",
            "Epoch 30/100\n",
            "100/100 [==============================] - 19s 195ms/step - loss: 0.1128 - acc: 0.9555 - val_loss: 0.0058 - val_acc: 0.9660\n",
            "Epoch 31/100\n",
            "100/100 [==============================] - 20s 200ms/step - loss: 0.1056 - acc: 0.9595 - val_loss: 0.1267 - val_acc: 0.9720\n",
            "Epoch 32/100\n",
            "100/100 [==============================] - 20s 198ms/step - loss: 0.1001 - acc: 0.9605 - val_loss: 0.0529 - val_acc: 0.9710\n",
            "Epoch 33/100\n",
            "100/100 [==============================] - 20s 198ms/step - loss: 0.1244 - acc: 0.9485 - val_loss: 0.0354 - val_acc: 0.9620\n",
            "Epoch 34/100\n",
            "100/100 [==============================] - 20s 199ms/step - loss: 0.0956 - acc: 0.9615 - val_loss: 0.0217 - val_acc: 0.9680\n",
            "Epoch 35/100\n",
            "100/100 [==============================] - 20s 198ms/step - loss: 0.1088 - acc: 0.9590 - val_loss: 4.8882e-04 - val_acc: 0.9690\n",
            "Epoch 36/100\n",
            "100/100 [==============================] - 20s 198ms/step - loss: 0.1084 - acc: 0.9580 - val_loss: 0.0785 - val_acc: 0.9630\n",
            "Epoch 37/100\n",
            "100/100 [==============================] - 20s 199ms/step - loss: 0.1031 - acc: 0.9605 - val_loss: 0.1764 - val_acc: 0.9650\n",
            "Epoch 38/100\n",
            "100/100 [==============================] - 20s 199ms/step - loss: 0.0998 - acc: 0.9610 - val_loss: 0.1280 - val_acc: 0.9610\n",
            "Epoch 39/100\n",
            "100/100 [==============================] - 20s 199ms/step - loss: 0.1034 - acc: 0.9615 - val_loss: 0.3110 - val_acc: 0.9630\n",
            "Epoch 40/100\n",
            "100/100 [==============================] - 20s 198ms/step - loss: 0.0939 - acc: 0.9600 - val_loss: 0.0861 - val_acc: 0.9560\n",
            "Epoch 41/100\n",
            "100/100 [==============================] - 20s 200ms/step - loss: 0.1081 - acc: 0.9575 - val_loss: 0.0629 - val_acc: 0.9650\n",
            "Epoch 42/100\n",
            "100/100 [==============================] - 20s 198ms/step - loss: 0.1032 - acc: 0.9545 - val_loss: 0.0673 - val_acc: 0.9600\n",
            "Epoch 43/100\n",
            "100/100 [==============================] - 20s 201ms/step - loss: 0.0934 - acc: 0.9630 - val_loss: 0.0559 - val_acc: 0.9600\n",
            "Epoch 44/100\n",
            "100/100 [==============================] - 20s 200ms/step - loss: 0.1245 - acc: 0.9510 - val_loss: 0.0157 - val_acc: 0.9770\n",
            "Epoch 45/100\n",
            "100/100 [==============================] - 20s 196ms/step - loss: 0.1048 - acc: 0.9605 - val_loss: 0.0062 - val_acc: 0.9620\n",
            "Epoch 46/100\n",
            "100/100 [==============================] - 20s 196ms/step - loss: 0.0958 - acc: 0.9620 - val_loss: 0.0382 - val_acc: 0.9670\n",
            "Epoch 47/100\n",
            "100/100 [==============================] - 20s 200ms/step - loss: 0.1073 - acc: 0.9620 - val_loss: 0.2550 - val_acc: 0.9680\n",
            "Epoch 48/100\n",
            "100/100 [==============================] - 20s 201ms/step - loss: 0.1126 - acc: 0.9530 - val_loss: 0.0505 - val_acc: 0.9610\n",
            "Epoch 49/100\n",
            "100/100 [==============================] - 20s 197ms/step - loss: 0.1083 - acc: 0.9585 - val_loss: 0.0178 - val_acc: 0.9670\n",
            "Epoch 50/100\n",
            "100/100 [==============================] - 20s 198ms/step - loss: 0.1125 - acc: 0.9530 - val_loss: 0.1640 - val_acc: 0.9640\n",
            "Epoch 51/100\n",
            "100/100 [==============================] - 20s 198ms/step - loss: 0.0996 - acc: 0.9615 - val_loss: 0.0171 - val_acc: 0.9720\n",
            "Epoch 52/100\n",
            "100/100 [==============================] - 20s 198ms/step - loss: 0.1215 - acc: 0.9520 - val_loss: 0.0692 - val_acc: 0.9600\n",
            "Epoch 53/100\n",
            "100/100 [==============================] - 20s 200ms/step - loss: 0.1037 - acc: 0.9580 - val_loss: 8.7379e-04 - val_acc: 0.9640\n",
            "Epoch 54/100\n",
            "100/100 [==============================] - 20s 197ms/step - loss: 0.1057 - acc: 0.9590 - val_loss: 0.0056 - val_acc: 0.9690\n",
            "Epoch 55/100\n",
            "100/100 [==============================] - 20s 199ms/step - loss: 0.0977 - acc: 0.9625 - val_loss: 0.1610 - val_acc: 0.9610\n",
            "Epoch 56/100\n",
            "100/100 [==============================] - 20s 200ms/step - loss: 0.0976 - acc: 0.9625 - val_loss: 0.0421 - val_acc: 0.9570\n",
            "Epoch 57/100\n",
            "100/100 [==============================] - 20s 198ms/step - loss: 0.0973 - acc: 0.9645 - val_loss: 0.0548 - val_acc: 0.9630\n",
            "Epoch 58/100\n",
            "100/100 [==============================] - 20s 201ms/step - loss: 0.0986 - acc: 0.9590 - val_loss: 0.0557 - val_acc: 0.9650\n",
            "Epoch 59/100\n",
            "100/100 [==============================] - 20s 202ms/step - loss: 0.0852 - acc: 0.9675 - val_loss: 0.0065 - val_acc: 0.9600\n",
            "Epoch 60/100\n",
            "100/100 [==============================] - 20s 200ms/step - loss: 0.0886 - acc: 0.9630 - val_loss: 0.0131 - val_acc: 0.9650\n",
            "Epoch 61/100\n",
            "100/100 [==============================] - 20s 198ms/step - loss: 0.0831 - acc: 0.9645 - val_loss: 0.1726 - val_acc: 0.9710\n",
            "Epoch 62/100\n",
            "100/100 [==============================] - 20s 198ms/step - loss: 0.1197 - acc: 0.9490 - val_loss: 0.1715 - val_acc: 0.9600\n",
            "Epoch 63/100\n",
            "100/100 [==============================] - 20s 200ms/step - loss: 0.0979 - acc: 0.9620 - val_loss: 0.0034 - val_acc: 0.9670\n",
            "Epoch 64/100\n",
            "100/100 [==============================] - 20s 203ms/step - loss: 0.1033 - acc: 0.9580 - val_loss: 0.5870 - val_acc: 0.9700\n",
            "Epoch 65/100\n",
            "100/100 [==============================] - 20s 198ms/step - loss: 0.0961 - acc: 0.9620 - val_loss: 0.0027 - val_acc: 0.9590\n",
            "Epoch 66/100\n",
            "100/100 [==============================] - 20s 200ms/step - loss: 0.0978 - acc: 0.9630 - val_loss: 0.0652 - val_acc: 0.9630\n",
            "Epoch 67/100\n",
            "100/100 [==============================] - 20s 200ms/step - loss: 0.1069 - acc: 0.9590 - val_loss: 0.0763 - val_acc: 0.9690\n",
            "Epoch 68/100\n",
            "100/100 [==============================] - 20s 199ms/step - loss: 0.0950 - acc: 0.9585 - val_loss: 0.0496 - val_acc: 0.9640\n",
            "Epoch 69/100\n",
            "100/100 [==============================] - 20s 198ms/step - loss: 0.0918 - acc: 0.9630 - val_loss: 0.0754 - val_acc: 0.9570\n",
            "Epoch 70/100\n",
            "100/100 [==============================] - 20s 200ms/step - loss: 0.0804 - acc: 0.9715 - val_loss: 0.0425 - val_acc: 0.9650\n",
            "Epoch 71/100\n",
            "100/100 [==============================] - 20s 200ms/step - loss: 0.0907 - acc: 0.9595 - val_loss: 0.0339 - val_acc: 0.9630\n",
            "Epoch 72/100\n",
            "100/100 [==============================] - 20s 200ms/step - loss: 0.0862 - acc: 0.9660 - val_loss: 0.1673 - val_acc: 0.9720\n",
            "Epoch 73/100\n",
            "100/100 [==============================] - 20s 198ms/step - loss: 0.0967 - acc: 0.9640 - val_loss: 0.0462 - val_acc: 0.9600\n",
            "Epoch 74/100\n",
            "100/100 [==============================] - 20s 201ms/step - loss: 0.0879 - acc: 0.9675 - val_loss: 0.0413 - val_acc: 0.9720\n",
            "Epoch 75/100\n",
            "100/100 [==============================] - 20s 199ms/step - loss: 0.0952 - acc: 0.9640 - val_loss: 0.1698 - val_acc: 0.9660\n",
            "Epoch 76/100\n",
            "100/100 [==============================] - 20s 199ms/step - loss: 0.0905 - acc: 0.9660 - val_loss: 0.0285 - val_acc: 0.9660\n",
            "Epoch 77/100\n",
            "100/100 [==============================] - 20s 200ms/step - loss: 0.0843 - acc: 0.9635 - val_loss: 0.0679 - val_acc: 0.9690\n",
            "Epoch 78/100\n",
            "100/100 [==============================] - 20s 197ms/step - loss: 0.0838 - acc: 0.9675 - val_loss: 0.0931 - val_acc: 0.9690\n",
            "Epoch 79/100\n",
            "100/100 [==============================] - 20s 201ms/step - loss: 0.0831 - acc: 0.9715 - val_loss: 9.2556e-04 - val_acc: 0.9640\n",
            "Epoch 80/100\n",
            "100/100 [==============================] - 20s 201ms/step - loss: 0.0976 - acc: 0.9610 - val_loss: 0.0028 - val_acc: 0.9630\n",
            "Epoch 81/100\n",
            "100/100 [==============================] - 20s 196ms/step - loss: 0.0958 - acc: 0.9610 - val_loss: 0.0156 - val_acc: 0.9680\n",
            "Epoch 82/100\n",
            "100/100 [==============================] - 20s 199ms/step - loss: 0.1062 - acc: 0.9580 - val_loss: 0.0589 - val_acc: 0.9550\n",
            "Epoch 83/100\n",
            "100/100 [==============================] - 20s 199ms/step - loss: 0.0967 - acc: 0.9630 - val_loss: 0.0827 - val_acc: 0.9660\n",
            "Epoch 84/100\n",
            "100/100 [==============================] - 20s 199ms/step - loss: 0.0841 - acc: 0.9670 - val_loss: 0.0721 - val_acc: 0.9680\n",
            "Epoch 85/100\n",
            "100/100 [==============================] - 20s 200ms/step - loss: 0.0976 - acc: 0.9620 - val_loss: 0.0688 - val_acc: 0.9540\n",
            "Epoch 86/100\n",
            "100/100 [==============================] - 20s 198ms/step - loss: 0.0764 - acc: 0.9730 - val_loss: 0.0131 - val_acc: 0.9640\n",
            "Epoch 87/100\n",
            "100/100 [==============================] - 20s 199ms/step - loss: 0.0842 - acc: 0.9660 - val_loss: 0.1083 - val_acc: 0.9530\n",
            "Epoch 88/100\n",
            "100/100 [==============================] - 20s 199ms/step - loss: 0.0852 - acc: 0.9665 - val_loss: 0.0987 - val_acc: 0.9620\n",
            "Epoch 89/100\n",
            "100/100 [==============================] - 20s 198ms/step - loss: 0.0878 - acc: 0.9640 - val_loss: 0.0340 - val_acc: 0.9620\n",
            "Epoch 90/100\n",
            "100/100 [==============================] - 20s 198ms/step - loss: 0.0929 - acc: 0.9645 - val_loss: 0.2563 - val_acc: 0.9670\n",
            "Epoch 91/100\n",
            "100/100 [==============================] - 21s 207ms/step - loss: 0.0858 - acc: 0.9650 - val_loss: 0.1806 - val_acc: 0.9650\n",
            "Epoch 92/100\n",
            "100/100 [==============================] - 20s 199ms/step - loss: 0.1011 - acc: 0.9560 - val_loss: 0.0615 - val_acc: 0.9680\n",
            "Epoch 93/100\n",
            "100/100 [==============================] - 20s 200ms/step - loss: 0.0872 - acc: 0.9665 - val_loss: 0.0254 - val_acc: 0.9700\n",
            "Epoch 94/100\n",
            "100/100 [==============================] - 20s 198ms/step - loss: 0.0841 - acc: 0.9680 - val_loss: 0.0016 - val_acc: 0.9670\n",
            "Epoch 95/100\n",
            "100/100 [==============================] - 20s 201ms/step - loss: 0.0871 - acc: 0.9690 - val_loss: 0.0266 - val_acc: 0.9670\n",
            "Epoch 96/100\n",
            "100/100 [==============================] - 20s 201ms/step - loss: 0.0754 - acc: 0.9700 - val_loss: 0.0018 - val_acc: 0.9670\n",
            "Epoch 97/100\n",
            "100/100 [==============================] - 20s 199ms/step - loss: 0.0877 - acc: 0.9630 - val_loss: 0.1574 - val_acc: 0.9620\n",
            "Epoch 98/100\n",
            "100/100 [==============================] - 20s 198ms/step - loss: 0.0910 - acc: 0.9665 - val_loss: 0.0231 - val_acc: 0.9680\n",
            "Epoch 99/100\n",
            "100/100 [==============================] - 20s 199ms/step - loss: 0.0962 - acc: 0.9625 - val_loss: 0.0010 - val_acc: 0.9620\n",
            "Epoch 100/100\n",
            "100/100 [==============================] - 20s 199ms/step - loss: 0.0935 - acc: 0.9680 - val_loss: 0.0269 - val_acc: 0.9630\n"
          ],
          "name": "stdout"
        }
      ]
    },
    {
      "cell_type": "markdown",
      "metadata": {
        "id": "RgC7U_17G-SU"
      },
      "source": [
        "### 3.3. Show Loss and Accuracy Curves During Training Using Fine-Tuning"
      ]
    },
    {
      "cell_type": "markdown",
      "metadata": {
        "id": "UlQObIkiG_3k"
      },
      "source": [
        "Once the new training phase is done, we can then use *Matplotlib* once more to show the loss and accuracy curves."
      ]
    },
    {
      "cell_type": "code",
      "metadata": {
        "id": "M2_mPptmHISp",
        "outputId": "26c60416-0304-4f7c-8341-d6862f3d122a",
        "colab": {
          "base_uri": "https://localhost:8080/",
          "height": 545
        }
      },
      "source": [
        "%matplotlib inline\n",
        "\n",
        "import matplotlib.pyplot as plt\n",
        "\n",
        "acc = history.history['acc']\n",
        "val_acc = history.history['val_acc']\n",
        "\n",
        "loss = history.history['loss']\n",
        "val_loss = history.history['val_loss']\n",
        "\n",
        "epochs = range(1, len(acc) + 1)\n",
        "\n",
        "# Training and Validation Accuracy\n",
        "\n",
        "plt.plot(epochs, acc, 'bo', label='Training Accuracy')\n",
        "plt.plot(epochs, val_acc, 'b', label='Validation Accuracy')\n",
        "plt.title('Training and Validation Accuracy')\n",
        "plt.legend()\n",
        "\n",
        "plt.figure()\n",
        "\n",
        "# Training and Validation Loss\n",
        "\n",
        "plt.plot(epochs, loss, 'bo', label='Training Loss')\n",
        "plt.plot(epochs, val_loss, 'b', label='Validation Loss')\n",
        "plt.title('Training and Validation Loss')\n",
        "plt.legend()\n",
        "\n",
        "plt.show()"
      ],
      "execution_count": null,
      "outputs": [
        {
          "output_type": "display_data",
          "data": {
            "image/png": "[encoded data removed]",
            "text/plain": [
              "<Figure size 432x288 with 1 Axes>"
            ]
          },
          "metadata": {
            "tags": [],
            "needs_background": "light"
          }
        },
        {
          "output_type": "display_data",
          "data": {
            "image/png": "[encoded data removed]",
            "text/plain": [
              "<Figure size 432x288 with 1 Axes>"
            ]
          },
          "metadata": {
            "tags": [],
            "needs_background": "light"
          }
        }
      ]
    },
    {
      "cell_type": "markdown",
      "metadata": {
        "id": "UGSIfNH6HUEy"
      },
      "source": [
        "### 3.4. Display the Validation Loss and Accuracy"
      ]
    },
    {
      "cell_type": "markdown",
      "metadata": {
        "id": "FGuUJC3bHWxI"
      },
      "source": [
        "Finally, we can simply print out the values for the validation loss and accuracy."
      ]
    },
    {
      "cell_type": "code",
      "metadata": {
        "id": "to1OJqmkHcYR"
      },
      "source": [
        "val_loss, val_acc = model.evaluate_generator(validation_generator, steps=50)"
      ],
      "execution_count": null,
      "outputs": []
    },
    {
      "cell_type": "code",
      "metadata": {
        "id": "fJrA5HQvHdVK",
        "outputId": "e87bf44b-2251-4eaa-c6fe-f4508e063aee",
        "colab": {
          "base_uri": "https://localhost:8080/",
          "height": 51
        }
      },
      "source": [
        "print(\"Validation loss:\", val_loss)\n",
        "print(\"Validation accuracy:\", val_acc)"
      ],
      "execution_count": null,
      "outputs": [
        {
          "output_type": "stream",
          "text": [
            "Validation loss: 0.010449341498315334\n",
            "Validation accuracy: 0.9629999995231628\n"
          ],
          "name": "stdout"
        }
      ]
    }
  ]
}