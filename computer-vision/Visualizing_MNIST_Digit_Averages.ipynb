{
  "nbformat": 4,
  "nbformat_minor": 0,
  "metadata": {
    "colab": {
      "name": "Visualizing MNIST Digit Averages",
      "provenance": []
    },
    "kernelspec": {
      "name": "python3",
      "display_name": "Python 3"
    }
  },
  "cells": [
    {
      "cell_type": "markdown",
      "metadata": {
        "id": "MSW--Hn0obwy"
      },
      "source": [
        "# Visualizing MNIST Digit Averages\n",
        "*By Carlos Santiago Bañón*\n",
        "\n",
        "**Year:** 2020\n",
        "\n",
        "**Technologies:** Python, TensorFlow, Keras, NumPy, Matplotlib, TeX, Jupyter Notebook\n",
        "\n",
        "**Discipline(s):** Computer Vision\n",
        "\n",
        "**Keywords:** `computer-vision`, `mnist`, `digits`\n"
      ]
    },
    {
      "cell_type": "markdown",
      "metadata": {
        "id": "evDm-alRoguG"
      },
      "source": [
        "This notebook shows what the average MNIST digit looks like. For each $i = 0, 1, \\dots, 9$, the average of digit $i$ is computed and displayed."
      ]
    },
    {
      "cell_type": "markdown",
      "metadata": {
        "id": "7ZiM5EukpFTT"
      },
      "source": [
        "## 1. Import Statements\n",
        "\n",
        "---\n",
        "\n"
      ]
    },
    {
      "cell_type": "code",
      "metadata": {
        "id": "eODBP8cGpEa1"
      },
      "source": [
        "# Import Statements\n",
        "\n",
        "import matplotlib.pyplot as plt\n",
        "import numpy as np"
      ],
      "execution_count": 1,
      "outputs": []
    },
    {
      "cell_type": "markdown",
      "metadata": {
        "id": "TqhbGh7BpPqf"
      },
      "source": [
        "## 2. MNIST Dataset Import\n",
        "\n",
        "---\n",
        "\n"
      ]
    },
    {
      "cell_type": "markdown",
      "metadata": {
        "id": "AaNBlrx1pSup"
      },
      "source": [
        "For the purposes of this computation, we need to import the MNIST dataset."
      ]
    },
    {
      "cell_type": "code",
      "metadata": {
        "id": "TZhl8-jGpWxI",
        "outputId": "46523d38-2d3f-4325-8dbc-96e3f06eba44",
        "colab": {
          "base_uri": "https://localhost:8080/"
        }
      },
      "source": [
        "# MNIST Dataset Import\n",
        "\n",
        "from keras.datasets import mnist\n",
        "(train_images, train_labels), (test_images, test_labels) = mnist.load_data()"
      ],
      "execution_count": 2,
      "outputs": [
        {
          "output_type": "stream",
          "text": [
            "Downloading data from https://storage.googleapis.com/tensorflow/tf-keras-datasets/mnist.npz\n",
            "11493376/11490434 [==============================] - 0s 0us/step\n"
          ],
          "name": "stdout"
        }
      ]
    },
    {
      "cell_type": "markdown",
      "metadata": {
        "id": "DM-EK2ZwpmJb"
      },
      "source": [
        "## 3. Algorithm for Computing the Average MNIST\n",
        "\n",
        "---\n",
        "\n"
      ]
    },
    {
      "cell_type": "markdown",
      "metadata": {
        "id": "-h4Oc1fsproU"
      },
      "source": [
        "Here, we have a function that computes the average MNIST digits."
      ]
    },
    {
      "cell_type": "code",
      "metadata": {
        "id": "qV0Rt99zpy7z"
      },
      "source": [
        "# Algorithm for Computing the Average MNIST\n",
        "\n",
        "def compute_avg_MNIST_dig():\n",
        "  '''\n",
        "  This function computes the average MNIST digits for i = 0, 1, ..., 9.\n",
        "  '''\n",
        "  # Set up the arrays. Initialize to 0.\n",
        "  avg_dig = np.zeros((10, 28, 28))\n",
        "  dig_freq = np.zeros((10, 1, 1))\n",
        "\n",
        "  # For each i, add all the images and increment the frequency.\n",
        "  for i in np.arange(len(train_images)):\n",
        "    avg_dig[train_labels[i]] += train_images[i]\n",
        "    dig_freq += 1\n",
        "\n",
        "  avg_dig = avg_dig / dig_freq\n",
        "\n",
        "  return avg_dig"
      ],
      "execution_count": 3,
      "outputs": []
    },
    {
      "cell_type": "markdown",
      "metadata": {
        "id": "j0IFdICBrT4l"
      },
      "source": [
        "## 4. Average MNIST Digits Display\n",
        "\n",
        "---\n",
        "\n"
      ]
    },
    {
      "cell_type": "markdown",
      "metadata": {
        "id": "JFyfozy3rX4v"
      },
      "source": [
        "The following function displays the average MNIST digits for better visualization. "
      ]
    },
    {
      "cell_type": "code",
      "metadata": {
        "id": "k7zcY1TkuPB0"
      },
      "source": [
        "# Call the algorithm.\n",
        "average = compute_avg_MNIST_dig()"
      ],
      "execution_count": 4,
      "outputs": []
    },
    {
      "cell_type": "code",
      "metadata": {
        "id": "TuuCF2UGrgvV"
      },
      "source": [
        "# Display for the Average MNIST Digits\n",
        "\n",
        "def display_average_MNIST_digits():\n",
        "  '''\n",
        "  This function displays the average MNIST digits, as computed by\n",
        "  the compute_avg_MNIST_dig(). Adapted from Dr. Pawel M. Wocjan's notes.\n",
        "  '''\n",
        "  # Set the figure size.\n",
        "  plt.figure(figsize=(16, 16))\n",
        "\n",
        "  # Show every digit.\n",
        "  for i in np.arange(10):\n",
        "    plt.subplot(4, 4, 1 + i)\n",
        "    \n",
        "    # Remove the ticks.\n",
        "    plt.xticks([])\n",
        "    plt.yticks([])\n",
        "\n",
        "    plt.imshow(average[i])\n",
        "\n",
        "  plt.show()"
      ],
      "execution_count": 5,
      "outputs": []
    },
    {
      "cell_type": "code",
      "metadata": {
        "id": "3v5Kvp_dsq0M",
        "outputId": "d3b68e98-23a1-44b4-e0c6-30b9f2be469e",
        "colab": {
          "base_uri": "https://localhost:8080/",
          "height": 677
        }
      },
      "source": [
        "# Call the display.\n",
        "display_average_MNIST_digits()"
      ],
      "execution_count": 6,
      "outputs": [
        {
          "output_type": "display_data",
          "data": {
            "image/png": "[encoded data removed]",
            "text/plain": [
              "<Figure size 1152x1152 with 10 Axes>"
            ]
          },
          "metadata": {
            "tags": []
          }
        }
      ]
    }
  ]
}