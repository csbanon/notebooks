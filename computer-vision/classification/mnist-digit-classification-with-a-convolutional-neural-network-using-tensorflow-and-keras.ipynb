{
  "nbformat": 4,
  "nbformat_minor": 0,
  "metadata": {
    "colab": {
      "name": "MNIST Digit Classification with a Convolutional Neural Network (CNN) Using TensorFlow and Keras",
      "provenance": [],
      "authorship_tag": "ABX9TyPg+TqVhThNarcGsfxT2zML"
    },
    "kernelspec": {
      "name": "python3",
      "display_name": "Python 3"
    }
  },
  "cells": [
    {
      "cell_type": "markdown",
      "metadata": {
        "id": "aq7MqgGKBfOq"
      },
      "source": [
        "# **MNIST Digit Classification with a Convolutional Neural Network (CNN) Using TensorFlow and Keras**\n",
        "*By Carlos Santiago Bañón*\n",
        "\n",
        "* **Year:** 2020\n",
        "* **Technologies:** Python, NumPy, Matplotlib, TensforFlow, Keras\n",
        "* **Areas:** Computer Vision, Deep Learning, Classification\n",
        "* **Keywords:** `classification`, `cnn`, `computer-vision`, `convolution`, `convolutional-neural-network`, `deep-learning`, `fully-connected`, `max-pooling`, `mnist`, `multi-class-classification`, `neural-network`, `2d-convolution`, `2d-max-pooling`\n",
        "* **Description:** This notebook presents an MNIST digit classifier built with a convolutional neural network (CNN) using TensorFlow and Keras."
      ]
    },
    {
      "cell_type": "markdown",
      "metadata": {
        "id": "Uzlnsvf1DGpk"
      },
      "source": [
        "## 1. Import Statements\n",
        "\n",
        "---\n",
        "\n"
      ]
    },
    {
      "cell_type": "code",
      "metadata": {
        "id": "l8DhknOWDIc4"
      },
      "source": [
        "import numpy as np\n",
        "import matplotlib.pyplot as plt\n",
        "\n",
        "%tensorflow_version 2.x\n",
        "import tensorflow as tf"
      ],
      "execution_count": 1,
      "outputs": []
    },
    {
      "cell_type": "markdown",
      "metadata": {
        "id": "Yuvx7u4qDQ0p"
      },
      "source": [
        "## 2. Data Preprocessing\n",
        "\n",
        "---\n",
        "\n"
      ]
    },
    {
      "cell_type": "markdown",
      "metadata": {
        "id": "qI70NJ8SN4An"
      },
      "source": [
        "The first step is to preprocess our data. Here, we load the MNIST digit dataset from the Keras datasets library, split it into training and test sets, reshape the matrices, and encode the labels categorically."
      ]
    },
    {
      "cell_type": "code",
      "metadata": {
        "id": "IsaUq1mDDVLT",
        "colab": {
          "base_uri": "https://localhost:8080/"
        },
        "outputId": "14cbc638-5872-4325-cd1f-c5425a0e321c"
      },
      "source": [
        "# Load the MNIST dataset.\n",
        "mnist = tf.keras.datasets.mnist\n",
        "train_data, test_data = mnist.load_data()"
      ],
      "execution_count": 2,
      "outputs": [
        {
          "output_type": "stream",
          "text": [
            "Downloading data from https://storage.googleapis.com/tensorflow/tf-keras-datasets/mnist.npz\n",
            "11493376/11490434 [==============================] - 0s 0us/step\n"
          ],
          "name": "stdout"
        }
      ]
    },
    {
      "cell_type": "code",
      "metadata": {
        "id": "nWuEpda6EBMN"
      },
      "source": [
        "# Divide the data into features and labels.\n",
        "train_images, train_labels = train_data\n",
        "test_images, test_labels = test_data"
      ],
      "execution_count": 3,
      "outputs": []
    },
    {
      "cell_type": "code",
      "metadata": {
        "id": "wrAabZnyDinP"
      },
      "source": [
        "# Reshape and normalize the images.\n",
        "X_train = train_images.reshape((60000, 28, 28, 1))\n",
        "X_train = X_train.astype('float32') / 255\n",
        "X_test = test_images.reshape((10000, 28, 28, 1))\n",
        "X_test = X_test.astype('float32') / 255"
      ],
      "execution_count": 4,
      "outputs": []
    },
    {
      "cell_type": "code",
      "metadata": {
        "id": "iHUWJlyBE1P0"
      },
      "source": [
        "# Reshape the labels and encode them categorically.\n",
        "y_train = tf.keras.utils.to_categorical(train_labels)\n",
        "y_test = tf.keras.utils.to_categorical(test_labels)"
      ],
      "execution_count": 5,
      "outputs": []
    },
    {
      "cell_type": "markdown",
      "metadata": {
        "id": "FVEOuuLPOJVH"
      },
      "source": [
        "Further, the following are the shapes of each matrix, as well as a visualization of a random MNIST digit."
      ]
    },
    {
      "cell_type": "code",
      "metadata": {
        "id": "9PpPi0qpNI_L",
        "colab": {
          "base_uri": "https://localhost:8080/"
        },
        "outputId": "8de831cd-3d00-46a2-bdfc-7b4011e3aba1"
      },
      "source": [
        "# Show the shapes of the data.\n",
        "print(\"Training Images:\", X_train.shape)\n",
        "print(\"Testing Images:\", X_test.shape)\n",
        "print(\"Training Labels:\", y_train.shape)\n",
        "print(\"Test Labels:\", y_test.shape)"
      ],
      "execution_count": 6,
      "outputs": [
        {
          "output_type": "stream",
          "text": [
            "Training Images: (60000, 28, 28, 1)\n",
            "Testing Images: (10000, 28, 28, 1)\n",
            "Training Labels: (60000, 10)\n",
            "Test Labels: (10000, 10)\n"
          ],
          "name": "stdout"
        }
      ]
    },
    {
      "cell_type": "code",
      "metadata": {
        "id": "mSKjBaeNNc1m",
        "colab": {
          "base_uri": "https://localhost:8080/",
          "height": 265
        },
        "outputId": "8593c243-b84d-4887-8cc6-3086deb19e6b"
      },
      "source": [
        "# Show a sample MNIST digit.\n",
        "plt.imshow(train_images[10])\n",
        "plt.show()"
      ],
      "execution_count": 7,
      "outputs": [
        {
          "output_type": "display_data",
          "data": {
            "image/png": "[encoded data removed]",
            "text/plain": [
              "<Figure size 432x288 with 1 Axes>"
            ]
          },
          "metadata": {
            "tags": [],
            "needs_background": "light"
          }
        }
      ]
    },
    {
      "cell_type": "markdown",
      "metadata": {
        "id": "J5ubfhUsFLR8"
      },
      "source": [
        "## 3. Convolutional Neural Network (CNN)\n",
        "\n",
        "---\n",
        "\n"
      ]
    },
    {
      "cell_type": "markdown",
      "metadata": {
        "id": "-gPoq2dRFtrH"
      },
      "source": [
        "### 3.1. Define the Model"
      ]
    },
    {
      "cell_type": "markdown",
      "metadata": {
        "id": "jU5sDVjhOVgF"
      },
      "source": [
        "We then have to define our convolutional neural network."
      ]
    },
    {
      "cell_type": "code",
      "metadata": {
        "id": "Ri1rSpp3FSDS"
      },
      "source": [
        "# Define the sequential model.\n",
        "model = tf.keras.models.Sequential()"
      ],
      "execution_count": 8,
      "outputs": []
    },
    {
      "cell_type": "code",
      "metadata": {
        "id": "5CNJ9gHWFWQv"
      },
      "source": [
        "# Define the convolutional neural network.\n",
        "model.add(tf.keras.layers.Conv2D(32, (3, 3), activation='relu', input_shape=(28, 28, 1)))\n",
        "model.add(tf.keras.layers.MaxPooling2D((2, 2)))\n",
        "model.add(tf.keras.layers.Conv2D(64, (3, 3), activation='relu'))\n",
        "model.add(tf.keras.layers.MaxPooling2D(2, 2))\n",
        "model.add(tf.keras.layers.Conv2D(64, (3, 3), activation='relu'))\n",
        "model.add(tf.keras.layers.Flatten())\n",
        "model.add(tf.keras.layers.Dense(64, activation='relu'))\n",
        "model.add(tf.keras.layers.Dense(10, activation='softmax'))"
      ],
      "execution_count": 9,
      "outputs": []
    },
    {
      "cell_type": "code",
      "metadata": {
        "id": "cdMaLgtqFeV6",
        "colab": {
          "base_uri": "https://localhost:8080/"
        },
        "outputId": "f5921ac3-acd2-422c-e3ce-572409ad5dbc"
      },
      "source": [
        "# Show the model.\n",
        "model.summary()"
      ],
      "execution_count": 10,
      "outputs": [
        {
          "output_type": "stream",
          "text": [
            "Model: \"sequential\"\n",
            "_________________________________________________________________\n",
            "Layer (type)                 Output Shape              Param #   \n",
            "=================================================================\n",
            "conv2d (Conv2D)              (None, 26, 26, 32)        320       \n",
            "_________________________________________________________________\n",
            "max_pooling2d (MaxPooling2D) (None, 13, 13, 32)        0         \n",
            "_________________________________________________________________\n",
            "conv2d_1 (Conv2D)            (None, 11, 11, 64)        18496     \n",
            "_________________________________________________________________\n",
            "max_pooling2d_1 (MaxPooling2 (None, 5, 5, 64)          0         \n",
            "_________________________________________________________________\n",
            "conv2d_2 (Conv2D)            (None, 3, 3, 64)          36928     \n",
            "_________________________________________________________________\n",
            "flatten (Flatten)            (None, 576)               0         \n",
            "_________________________________________________________________\n",
            "dense (Dense)                (None, 64)                36928     \n",
            "_________________________________________________________________\n",
            "dense_1 (Dense)              (None, 10)                650       \n",
            "=================================================================\n",
            "Total params: 93,322\n",
            "Trainable params: 93,322\n",
            "Non-trainable params: 0\n",
            "_________________________________________________________________\n"
          ],
          "name": "stdout"
        }
      ]
    },
    {
      "cell_type": "markdown",
      "metadata": {
        "id": "GYactRmuOhCW"
      },
      "source": [
        "Once our model is defined, we can compile it using the Adam optimizer and the categorical cross-entropy loss function."
      ]
    },
    {
      "cell_type": "code",
      "metadata": {
        "id": "57j-R0L4Fmmf"
      },
      "source": [
        "# Compile the model.\n",
        "model.compile(optimizer='adam', loss='categorical_crossentropy', metrics=['accuracy'])"
      ],
      "execution_count": 11,
      "outputs": []
    },
    {
      "cell_type": "markdown",
      "metadata": {
        "id": "hRVabAG8F3IL"
      },
      "source": [
        "### 3.2. Train the Model"
      ]
    },
    {
      "cell_type": "markdown",
      "metadata": {
        "id": "0IuRzsr2Osga"
      },
      "source": [
        "We then train the model on 10 epochs, using a batch size of 128."
      ]
    },
    {
      "cell_type": "code",
      "metadata": {
        "id": "Yl1f9mvZF5Pc",
        "colab": {
          "base_uri": "https://localhost:8080/"
        },
        "outputId": "73547e1d-7409-4f53-8c15-1cb0726e829d"
      },
      "source": [
        "# Define the parameters.\n",
        "num_epochs = 10\n",
        "batch_size = 128\n",
        "\n",
        "# Train the model.\n",
        "history = model.fit(X_train, \n",
        "                      y_train, \n",
        "                      epochs=num_epochs, \n",
        "                      batch_size=batch_size, \n",
        "                      validation_data=(X_test, y_test))"
      ],
      "execution_count": 12,
      "outputs": [
        {
          "output_type": "stream",
          "text": [
            "Epoch 1/10\n",
            "469/469 [==============================] - 46s 96ms/step - loss: 0.5732 - accuracy: 0.8272 - val_loss: 0.0688 - val_accuracy: 0.9779\n",
            "Epoch 2/10\n",
            "469/469 [==============================] - 45s 96ms/step - loss: 0.0659 - accuracy: 0.9794 - val_loss: 0.0406 - val_accuracy: 0.9867\n",
            "Epoch 3/10\n",
            "469/469 [==============================] - 45s 95ms/step - loss: 0.0456 - accuracy: 0.9855 - val_loss: 0.0360 - val_accuracy: 0.9881\n",
            "Epoch 4/10\n",
            "469/469 [==============================] - 45s 96ms/step - loss: 0.0298 - accuracy: 0.9907 - val_loss: 0.0337 - val_accuracy: 0.9885\n",
            "Epoch 5/10\n",
            "469/469 [==============================] - 46s 99ms/step - loss: 0.0251 - accuracy: 0.9919 - val_loss: 0.0311 - val_accuracy: 0.9895\n",
            "Epoch 6/10\n",
            "469/469 [==============================] - 44s 95ms/step - loss: 0.0218 - accuracy: 0.9930 - val_loss: 0.0281 - val_accuracy: 0.9920\n",
            "Epoch 7/10\n",
            "469/469 [==============================] - 46s 98ms/step - loss: 0.0189 - accuracy: 0.9940 - val_loss: 0.0275 - val_accuracy: 0.9897\n",
            "Epoch 8/10\n",
            "469/469 [==============================] - 51s 108ms/step - loss: 0.0161 - accuracy: 0.9946 - val_loss: 0.0238 - val_accuracy: 0.9916\n",
            "Epoch 9/10\n",
            "469/469 [==============================] - 45s 95ms/step - loss: 0.0131 - accuracy: 0.9962 - val_loss: 0.0314 - val_accuracy: 0.9908\n",
            "Epoch 10/10\n",
            "469/469 [==============================] - 44s 95ms/step - loss: 0.0117 - accuracy: 0.9961 - val_loss: 0.0252 - val_accuracy: 0.9921\n"
          ],
          "name": "stdout"
        }
      ]
    },
    {
      "cell_type": "markdown",
      "metadata": {
        "id": "WhyG0-sPHOAv"
      },
      "source": [
        "### 3.3. Display the Metrics"
      ]
    },
    {
      "cell_type": "markdown",
      "metadata": {
        "id": "hhr5Aa5yfIsq"
      },
      "source": [
        "Finally, we display the metrics. We begin by displaying the model's accuracy and loss based on the test set."
      ]
    },
    {
      "cell_type": "code",
      "metadata": {
        "id": "vFoIAPdSYXqh",
        "colab": {
          "base_uri": "https://localhost:8080/"
        },
        "outputId": "f20ababd-a146-42c0-a8b8-c3952da200c9"
      },
      "source": [
        "test_loss, test_accuracy = model.evaluate(X_test, y_test)\n",
        "print('Test Accuracy:', test_accuracy)\n",
        "print('Test Loss:', test_loss)"
      ],
      "execution_count": 13,
      "outputs": [
        {
          "output_type": "stream",
          "text": [
            "313/313 [==============================] - 3s 9ms/step - loss: 0.0252 - accuracy: 0.9921\n",
            "Test Accuracy: 0.9921000003814697\n",
            "Test Loss: 0.025236790999770164\n"
          ],
          "name": "stdout"
        }
      ]
    },
    {
      "cell_type": "markdown",
      "metadata": {
        "id": "ol-9qFvyfIsw"
      },
      "source": [
        "Then, we save the metric values for each epoch to plot the loss and accuracy curves for our model."
      ]
    },
    {
      "cell_type": "code",
      "metadata": {
        "id": "kjKFh83CfIsw"
      },
      "source": [
        "# Save the metrics.\n",
        "metrics = history.history"
      ],
      "execution_count": 14,
      "outputs": []
    },
    {
      "cell_type": "markdown",
      "metadata": {
        "id": "ZztnSHgjZPDN"
      },
      "source": [
        "Finally, once we have our metric history, we can plot the curves."
      ]
    },
    {
      "cell_type": "code",
      "metadata": {
        "id": "p56cSX3JfIsz"
      },
      "source": [
        "# Save the loss values.\n",
        "training_loss_list = metrics['loss']\n",
        "test_loss_list = metrics['val_loss']"
      ],
      "execution_count": 15,
      "outputs": []
    },
    {
      "cell_type": "code",
      "metadata": {
        "id": "HKAZlyOmHV6f",
        "colab": {
          "base_uri": "https://localhost:8080/",
          "height": 295
        },
        "outputId": "8401ca99-0240-4763-8008-a0481a32bcdf"
      },
      "source": [
        "# Plot the training and test loss.\n",
        "x = np.arange(0, num_epochs, 1)\n",
        "plt.title('Training and Test Loss')\n",
        "plt.xlabel('Epoch')\n",
        "plt.ylabel('Loss')\n",
        "plt.plot(x, training_loss_list, label='Training Loss')\n",
        "plt.plot(x, test_loss_list, label='Test Loss')\n",
        "plt.legend()\n",
        "plt.show()"
      ],
      "execution_count": 16,
      "outputs": [
        {
          "output_type": "display_data",
          "data": {
            "image/png": "[encoded data removed]",
            "text/plain": [
              "<Figure size 432x288 with 1 Axes>"
            ]
          },
          "metadata": {
            "tags": [],
            "needs_background": "light"
          }
        }
      ]
    },
    {
      "cell_type": "code",
      "metadata": {
        "id": "RwzIUzuuI0ZP"
      },
      "source": [
        "train_accuracy_list = metrics['accuracy']\n",
        "test_accuracy_list = metrics['val_accuracy']"
      ],
      "execution_count": 17,
      "outputs": []
    },
    {
      "cell_type": "code",
      "metadata": {
        "id": "kHj-j2HpI2Lb",
        "colab": {
          "base_uri": "https://localhost:8080/",
          "height": 295
        },
        "outputId": "14364dfb-a380-457a-b218-ebfad24941d2"
      },
      "source": [
        "plt.title('Training and Test Accuracy')\n",
        "plt.xlabel('Epoch')\n",
        "plt.ylabel('Accuracy')\n",
        "plt.plot(x, train_accuracy_list, label='Training Accuracy')\n",
        "plt.plot(x, test_accuracy_list, label='Test Accuracy')\n",
        "plt.legend()\n",
        "plt.show()"
      ],
      "execution_count": 18,
      "outputs": [
        {
          "output_type": "display_data",
          "data": {
            "image/png": "[encoded data removed]",
            "text/plain": [
              "<Figure size 432x288 with 1 Axes>"
            ]
          },
          "metadata": {
            "tags": [],
            "needs_background": "light"
          }
        }
      ]
    },
    {
      "cell_type": "markdown",
      "metadata": {
        "id": "x2BDwaUigDgC"
      },
      "source": [
        "## 4. Make a Prediction\n",
        "\n",
        "---\n",
        "\n"
      ]
    },
    {
      "cell_type": "markdown",
      "metadata": {
        "id": "vx34e_AWgLeE"
      },
      "source": [
        "Once our model is trained, we can use it to make predictions. To do this, we first use our test set to predict the classes."
      ]
    },
    {
      "cell_type": "code",
      "metadata": {
        "id": "SylCmq61gTnM"
      },
      "source": [
        "# Make predictions with the trained model.\n",
        "predictions = model.predict(X_test)"
      ],
      "execution_count": 19,
      "outputs": []
    },
    {
      "cell_type": "markdown",
      "metadata": {
        "id": "uMo9sEZpggPq"
      },
      "source": [
        "Finally, we can show a random test image with its corresponding prediction."
      ]
    },
    {
      "cell_type": "code",
      "metadata": {
        "id": "Gc6bx2stgfiY",
        "colab": {
          "base_uri": "https://localhost:8080/",
          "height": 265
        },
        "outputId": "4bb42901-09c7-400c-c791-e092c1a44eb8"
      },
      "source": [
        "# Choose an index.\n",
        "index = 128\n",
        "\n",
        "# Show an image from the test set.\n",
        "plt.imshow(test_images[index])\n",
        "plt.show()"
      ],
      "execution_count": 20,
      "outputs": [
        {
          "output_type": "display_data",
          "data": {
            "image/png": "[encoded data removed]",
            "text/plain": [
              "<Figure size 432x288 with 1 Axes>"
            ]
          },
          "metadata": {
            "tags": [],
            "needs_background": "light"
          }
        }
      ]
    },
    {
      "cell_type": "code",
      "metadata": {
        "id": "5bmSdfcFgunA",
        "colab": {
          "base_uri": "https://localhost:8080/"
        },
        "outputId": "5f7debfd-03a7-49aa-c91d-ef3e9b33b996"
      },
      "source": [
        "print(\"Prediction:\", np.argmax(predictions[index]))"
      ],
      "execution_count": 21,
      "outputs": [
        {
          "output_type": "stream",
          "text": [
            "Prediction: 8\n"
          ],
          "name": "stdout"
        }
      ]
    }
  ]
}