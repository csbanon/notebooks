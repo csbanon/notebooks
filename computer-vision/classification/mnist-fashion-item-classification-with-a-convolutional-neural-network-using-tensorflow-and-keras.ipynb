{
  "nbformat": 4,
  "nbformat_minor": 0,
  "metadata": {
    "colab": {
      "name": "MNIST Fashion Item Classification with a Convolutional Neural Network (CNN) Using TensorFlow and Keras",
      "provenance": [],
      "authorship_tag": "ABX9TyNtL2jtj2+4ipOWMNFF/Pfy"
    },
    "kernelspec": {
      "name": "python3",
      "display_name": "Python 3"
    }
  },
  "cells": [
    {
      "cell_type": "markdown",
      "metadata": {
        "id": "aq7MqgGKBfOq"
      },
      "source": [
        "# **MNIST Fashion Item Classification with a Convolutional Neural Network (CNN) Using TensorFlow and Keras**\n",
        "*By Carlos Santiago Bañón*\n",
        "\n",
        "* **Year:** 2020\n",
        "* **Technologies:** Python, NumPy, Matplotlib, TensforFlow, Keras\n",
        "* **Areas:** Computer Vision, Deep Learning\n",
        "* **Keywords:** `classification`, `cnn`, `computer-vision`, `convolution`, `convolutional-neural-network`, `deep-learning`, `fully-connected`, `max-pooling`, `mnist`, `multi-class-classification`, `neural-network`, `2d-convolution`, `2d-max-pooling`\n",
        "* **Description:** This notebook presents an MNIST fashion item classifier built with a convolutional neural network (CNN) in TensorFlow and Keras."
      ]
    },
    {
      "cell_type": "markdown",
      "metadata": {
        "id": "Uzlnsvf1DGpk"
      },
      "source": [
        "## 1. Import Statements\n",
        "\n",
        "---\n",
        "\n"
      ]
    },
    {
      "cell_type": "code",
      "metadata": {
        "id": "l8DhknOWDIc4"
      },
      "source": [
        "import numpy as np\n",
        "import matplotlib.pyplot as plt\n",
        "\n",
        "%tensorflow_version 2.x\n",
        "import tensorflow as tf"
      ],
      "execution_count": null,
      "outputs": []
    },
    {
      "cell_type": "markdown",
      "metadata": {
        "id": "Yuvx7u4qDQ0p"
      },
      "source": [
        "## 2. Data Preprocessing\n",
        "\n",
        "---\n",
        "\n"
      ]
    },
    {
      "cell_type": "markdown",
      "metadata": {
        "id": "qI70NJ8SN4An"
      },
      "source": [
        "The first step is to preprocess our data. Here, we load the MNIST fashion dataset from the Keras datasets library, split it into training and test sets, and normalize the matrices."
      ]
    },
    {
      "cell_type": "code",
      "metadata": {
        "id": "IsaUq1mDDVLT"
      },
      "source": [
        "# Load the MNIST dataset.\n",
        "fashion_mnist = tf.keras.datasets.fashion_mnist\n",
        "train_data, test_data = fashion_mnist.load_data()"
      ],
      "execution_count": null,
      "outputs": []
    },
    {
      "cell_type": "code",
      "metadata": {
        "id": "nWuEpda6EBMN"
      },
      "source": [
        "# Divide the data into features and labels.\n",
        "train_images, y_train = train_data\n",
        "test_images, y_test = test_data"
      ],
      "execution_count": null,
      "outputs": []
    },
    {
      "cell_type": "code",
      "metadata": {
        "id": "wrAabZnyDinP"
      },
      "source": [
        "# Reshape and normalize the images.\n",
        "X_train = train_images.reshape((60000, 28, 28, 1))\n",
        "X_train = X_train.astype('float32') / 255\n",
        "X_test = test_images.reshape((10000, 28, 28, 1))\n",
        "X_test = X_test.astype('float32') / 255"
      ],
      "execution_count": null,
      "outputs": []
    },
    {
      "cell_type": "markdown",
      "metadata": {
        "id": "FVEOuuLPOJVH"
      },
      "source": [
        "Further, the following are the shapes of each matrix, as well as a visualization of a random MNIST fashion item."
      ]
    },
    {
      "cell_type": "code",
      "metadata": {
        "id": "9PpPi0qpNI_L",
        "colab": {
          "base_uri": "https://localhost:8080/"
        },
        "outputId": "4e12fefe-5da2-40a0-ece1-53e59e053a62"
      },
      "source": [
        "# Show the shapes of the data.\n",
        "print(\"Training Images:\", X_train.shape)\n",
        "print(\"Testing Images:\", X_test.shape)\n",
        "print(\"Training Labels:\", y_train.shape)\n",
        "print(\"Test Labels:\", y_test.shape)"
      ],
      "execution_count": null,
      "outputs": [
        {
          "output_type": "stream",
          "text": [
            "Training Images: (60000, 28, 28, 1)\n",
            "Testing Images: (10000, 28, 28, 1)\n",
            "Training Labels: (60000,)\n",
            "Test Labels: (10000,)\n"
          ],
          "name": "stdout"
        }
      ]
    },
    {
      "cell_type": "code",
      "metadata": {
        "id": "mSKjBaeNNc1m",
        "colab": {
          "base_uri": "https://localhost:8080/",
          "height": 265
        },
        "outputId": "98c19fe0-b21d-4a1e-9044-519b8b530e87"
      },
      "source": [
        "# Show a sample MNIST fashion item.\n",
        "plt.imshow(train_images[10])\n",
        "plt.show()"
      ],
      "execution_count": null,
      "outputs": [
        {
          "output_type": "display_data",
          "data": {
            "image/png": "[encoded data removed]",
            "text/plain": [
              "<Figure size 432x288 with 1 Axes>"
            ]
          },
          "metadata": {
            "tags": [],
            "needs_background": "light"
          }
        }
      ]
    },
    {
      "cell_type": "markdown",
      "metadata": {
        "id": "rFQyGMGthlsl"
      },
      "source": [
        "Finally, we define the corresponding item names for each class."
      ]
    },
    {
      "cell_type": "code",
      "metadata": {
        "id": "TUBbXxIzhjBt"
      },
      "source": [
        "# Define the class names.\n",
        "class_names = ['T-Shirt/Top', 'Trouser', 'Pullover', 'Dress', 'Coat',\n",
        "               'Sandal', 'Shirt', 'Sneaker', 'Bag', 'Ankle Boot']"
      ],
      "execution_count": null,
      "outputs": []
    },
    {
      "cell_type": "markdown",
      "metadata": {
        "id": "J5ubfhUsFLR8"
      },
      "source": [
        "## 3. Neural Network\n",
        "\n",
        "---\n",
        "\n"
      ]
    },
    {
      "cell_type": "markdown",
      "metadata": {
        "id": "-gPoq2dRFtrH"
      },
      "source": [
        "### 3.1. Define the Model"
      ]
    },
    {
      "cell_type": "markdown",
      "metadata": {
        "id": "jU5sDVjhOVgF"
      },
      "source": [
        "We then have to define our neural network. Here, we define a sequential model with two fully-connected layers."
      ]
    },
    {
      "cell_type": "code",
      "metadata": {
        "id": "Ri1rSpp3FSDS"
      },
      "source": [
        "# Define the sequential model.\n",
        "model = tf.keras.models.Sequential()"
      ],
      "execution_count": null,
      "outputs": []
    },
    {
      "cell_type": "code",
      "metadata": {
        "id": "5CNJ9gHWFWQv"
      },
      "source": [
        "# Define the network's layes.\n",
        "model.add(tf.keras.layers.Conv2D(32, (3, 3), activation='relu', input_shape=(28, 28, 1)))\n",
        "model.add(tf.keras.layers.MaxPooling2D((2, 2)))\n",
        "model.add(tf.keras.layers.Conv2D(64, (3, 3), activation='relu'))\n",
        "model.add(tf.keras.layers.MaxPooling2D((2, 2)))\n",
        "model.add(tf.keras.layers.Conv2D(64, (3, 3), activation='relu'))\n",
        "model.add(tf.keras.layers.Flatten())\n",
        "model.add(tf.keras.layers.Dense(64, activation='relu'))\n",
        "model.add(tf.keras.layers.Dense(10, activation='softmax'))"
      ],
      "execution_count": null,
      "outputs": []
    },
    {
      "cell_type": "code",
      "metadata": {
        "id": "cdMaLgtqFeV6",
        "colab": {
          "base_uri": "https://localhost:8080/"
        },
        "outputId": "0334ea41-e0cd-4c60-9018-f73b4070e840"
      },
      "source": [
        "# Show the model.\n",
        "model.summary()"
      ],
      "execution_count": null,
      "outputs": [
        {
          "output_type": "stream",
          "text": [
            "Model: \"sequential\"\n",
            "_________________________________________________________________\n",
            "Layer (type)                 Output Shape              Param #   \n",
            "=================================================================\n",
            "conv2d (Conv2D)              (None, 26, 26, 32)        320       \n",
            "_________________________________________________________________\n",
            "max_pooling2d (MaxPooling2D) (None, 13, 13, 32)        0         \n",
            "_________________________________________________________________\n",
            "conv2d_1 (Conv2D)            (None, 11, 11, 64)        18496     \n",
            "_________________________________________________________________\n",
            "max_pooling2d_1 (MaxPooling2 (None, 5, 5, 64)          0         \n",
            "_________________________________________________________________\n",
            "conv2d_2 (Conv2D)            (None, 3, 3, 64)          36928     \n",
            "_________________________________________________________________\n",
            "flatten (Flatten)            (None, 576)               0         \n",
            "_________________________________________________________________\n",
            "dense (Dense)                (None, 64)                36928     \n",
            "_________________________________________________________________\n",
            "dense_1 (Dense)              (None, 10)                650       \n",
            "=================================================================\n",
            "Total params: 93,322\n",
            "Trainable params: 93,322\n",
            "Non-trainable params: 0\n",
            "_________________________________________________________________\n"
          ],
          "name": "stdout"
        }
      ]
    },
    {
      "cell_type": "markdown",
      "metadata": {
        "id": "GYactRmuOhCW"
      },
      "source": [
        "Once our model is defined, we can compile it using the Adam optimizer and the categorical cross-entropy loss function."
      ]
    },
    {
      "cell_type": "code",
      "metadata": {
        "id": "57j-R0L4Fmmf"
      },
      "source": [
        "# Compile the model.\n",
        "model.compile(optimizer='adam', loss='sparse_categorical_crossentropy', metrics=['accuracy'])"
      ],
      "execution_count": null,
      "outputs": []
    },
    {
      "cell_type": "markdown",
      "metadata": {
        "id": "hRVabAG8F3IL"
      },
      "source": [
        "### 3.2. Train the Model"
      ]
    },
    {
      "cell_type": "markdown",
      "metadata": {
        "id": "0IuRzsr2Osga"
      },
      "source": [
        "We then train the model on 20 epochs, using a batch size of 256."
      ]
    },
    {
      "cell_type": "code",
      "metadata": {
        "id": "Yl1f9mvZF5Pc",
        "colab": {
          "base_uri": "https://localhost:8080/"
        },
        "outputId": "053c402e-e3f6-460f-9dad-0e2ec37080b2"
      },
      "source": [
        "# Define the parameters.\n",
        "num_epochs = 10\n",
        "batch_size = 256\n",
        "\n",
        "# Train the model.\n",
        "history = model.fit(X_train, \n",
        "                      y_train, \n",
        "                      epochs=num_epochs, \n",
        "                      batch_size=batch_size, \n",
        "                      validation_data=(X_test, y_test))"
      ],
      "execution_count": null,
      "outputs": [
        {
          "output_type": "stream",
          "text": [
            "Epoch 1/10\n",
            "235/235 [==============================] - 41s 174ms/step - loss: 0.7152 - accuracy: 0.7345 - val_loss: 0.4846 - val_accuracy: 0.8197\n",
            "Epoch 2/10\n",
            "235/235 [==============================] - 40s 171ms/step - loss: 0.4144 - accuracy: 0.8494 - val_loss: 0.4058 - val_accuracy: 0.8499\n",
            "Epoch 3/10\n",
            "235/235 [==============================] - 40s 171ms/step - loss: 0.3503 - accuracy: 0.8734 - val_loss: 0.3887 - val_accuracy: 0.8610\n",
            "Epoch 4/10\n",
            "235/235 [==============================] - 40s 171ms/step - loss: 0.3217 - accuracy: 0.8829 - val_loss: 0.3365 - val_accuracy: 0.8781\n",
            "Epoch 5/10\n",
            "235/235 [==============================] - 40s 170ms/step - loss: 0.2969 - accuracy: 0.8919 - val_loss: 0.3202 - val_accuracy: 0.8865\n",
            "Epoch 6/10\n",
            "235/235 [==============================] - 40s 170ms/step - loss: 0.2817 - accuracy: 0.8976 - val_loss: 0.3210 - val_accuracy: 0.8854\n",
            "Epoch 7/10\n",
            "235/235 [==============================] - 40s 169ms/step - loss: 0.2624 - accuracy: 0.9057 - val_loss: 0.3077 - val_accuracy: 0.8886\n",
            "Epoch 8/10\n",
            "235/235 [==============================] - 40s 170ms/step - loss: 0.2508 - accuracy: 0.9078 - val_loss: 0.2880 - val_accuracy: 0.8995\n",
            "Epoch 9/10\n",
            "235/235 [==============================] - 41s 173ms/step - loss: 0.2387 - accuracy: 0.9128 - val_loss: 0.2898 - val_accuracy: 0.8969\n",
            "Epoch 10/10\n",
            "235/235 [==============================] - 40s 171ms/step - loss: 0.2283 - accuracy: 0.9161 - val_loss: 0.2902 - val_accuracy: 0.8916\n"
          ],
          "name": "stdout"
        }
      ]
    },
    {
      "cell_type": "markdown",
      "metadata": {
        "id": "WhyG0-sPHOAv"
      },
      "source": [
        "### 3.4. Display the Metrics"
      ]
    },
    {
      "cell_type": "markdown",
      "metadata": {
        "id": "1TFadfX_Oyg_"
      },
      "source": [
        "Finally, we display the metrics. We begin by displaying the model's accuracy and loss based on the test set."
      ]
    },
    {
      "cell_type": "code",
      "metadata": {
        "id": "vFoIAPdSYXqh",
        "colab": {
          "base_uri": "https://localhost:8080/"
        },
        "outputId": "8199ad21-c75f-459c-d53f-8ee0550783db"
      },
      "source": [
        "test_loss, test_accuracy = model.evaluate(X_test, y_test)\n",
        "print('Test Accuracy:', test_accuracy)\n",
        "print('Test Loss:', test_loss)"
      ],
      "execution_count": null,
      "outputs": [
        {
          "output_type": "stream",
          "text": [
            "313/313 [==============================] - 3s 11ms/step - loss: 0.2902 - accuracy: 0.8916\n",
            "Test Accuracy: 0.8916000127792358\n",
            "Test Loss: 0.2902173697948456\n"
          ],
          "name": "stdout"
        }
      ]
    },
    {
      "cell_type": "markdown",
      "metadata": {
        "id": "k3p2c0-RO2M8"
      },
      "source": [
        "Then, we save the metric values for each epoch to plot the loss and accuracy curves for our model."
      ]
    },
    {
      "cell_type": "code",
      "metadata": {
        "id": "8-OdhC_0KtUx"
      },
      "source": [
        "# Save the metrics.\n",
        "metrics = history.history"
      ],
      "execution_count": null,
      "outputs": []
    },
    {
      "cell_type": "markdown",
      "metadata": {
        "id": "ZztnSHgjZPDN"
      },
      "source": [
        "Finally, once we have our metric history, we can plot the curves."
      ]
    },
    {
      "cell_type": "code",
      "metadata": {
        "id": "yfosMMiqHQB0"
      },
      "source": [
        "# Save the loss values.\n",
        "training_loss_list = metrics['loss']\n",
        "test_loss_list = metrics['val_loss']"
      ],
      "execution_count": null,
      "outputs": []
    },
    {
      "cell_type": "code",
      "metadata": {
        "id": "HKAZlyOmHV6f",
        "colab": {
          "base_uri": "https://localhost:8080/",
          "height": 295
        },
        "outputId": "efeae9e6-8485-4de5-8b60-6fba9720dee6"
      },
      "source": [
        "# Plot the training and test loss.\n",
        "x = np.arange(0, num_epochs, 1)\n",
        "plt.title('Training and Test Loss')\n",
        "plt.xlabel('Epoch')\n",
        "plt.ylabel('Loss')\n",
        "plt.plot(x, training_loss_list, label='Training Loss')\n",
        "plt.plot(x, test_loss_list, label='Test Loss')\n",
        "plt.legend()\n",
        "plt.show()"
      ],
      "execution_count": null,
      "outputs": [
        {
          "output_type": "display_data",
          "data": {
            "image/png": "[encoded data removed]",
            "text/plain": [
              "<Figure size 432x288 with 1 Axes>"
            ]
          },
          "metadata": {
            "tags": [],
            "needs_background": "light"
          }
        }
      ]
    },
    {
      "cell_type": "code",
      "metadata": {
        "id": "RwzIUzuuI0ZP"
      },
      "source": [
        "train_accuracy_list = metrics['accuracy']\n",
        "test_accuracy_list = metrics['val_accuracy']"
      ],
      "execution_count": null,
      "outputs": []
    },
    {
      "cell_type": "code",
      "metadata": {
        "id": "kHj-j2HpI2Lb",
        "colab": {
          "base_uri": "https://localhost:8080/",
          "height": 295
        },
        "outputId": "3ba2269a-fbce-4f0f-b1cd-90ef5c261d6e"
      },
      "source": [
        "plt.title('Training and Test Accuracy')\n",
        "plt.xlabel('Epoch')\n",
        "plt.ylabel('Accuracy')\n",
        "plt.plot(x, train_accuracy_list, label='Training Accuracy')\n",
        "plt.plot(x, test_accuracy_list, label='Test Accuracy')\n",
        "plt.legend()\n",
        "plt.show()"
      ],
      "execution_count": null,
      "outputs": [
        {
          "output_type": "display_data",
          "data": {
            "image/png": "[encoded data removed]",
            "text/plain": [
              "<Figure size 432x288 with 1 Axes>"
            ]
          },
          "metadata": {
            "tags": [],
            "needs_background": "light"
          }
        }
      ]
    },
    {
      "cell_type": "markdown",
      "metadata": {
        "id": "x2BDwaUigDgC"
      },
      "source": [
        "## 4. Make a Prediction\n",
        "\n",
        "---\n",
        "\n"
      ]
    },
    {
      "cell_type": "markdown",
      "metadata": {
        "id": "vx34e_AWgLeE"
      },
      "source": [
        "Once our model is trained, we can use it to make predictions. To do this, we first use our test set to predict the classes."
      ]
    },
    {
      "cell_type": "code",
      "metadata": {
        "id": "SylCmq61gTnM"
      },
      "source": [
        "# Make predictions with the trained model.\n",
        "predictions = model.predict(X_test)"
      ],
      "execution_count": null,
      "outputs": []
    },
    {
      "cell_type": "markdown",
      "metadata": {
        "id": "uMo9sEZpggPq"
      },
      "source": [
        "Finally, we can show a random test image with its corresponding prediction."
      ]
    },
    {
      "cell_type": "code",
      "metadata": {
        "id": "Gc6bx2stgfiY",
        "colab": {
          "base_uri": "https://localhost:8080/",
          "height": 265
        },
        "outputId": "73a84049-0628-46b2-a16f-9648857c262b"
      },
      "source": [
        "# Choose an index.\n",
        "index = 125\n",
        "\n",
        "# Show an image from the test set.\n",
        "plt.imshow(test_images[index])\n",
        "plt.show()"
      ],
      "execution_count": null,
      "outputs": [
        {
          "output_type": "display_data",
          "data": {
            "image/png": "[encoded data removed]",
            "text/plain": [
              "<Figure size 432x288 with 1 Axes>"
            ]
          },
          "metadata": {
            "tags": [],
            "needs_background": "light"
          }
        }
      ]
    },
    {
      "cell_type": "code",
      "metadata": {
        "id": "5bmSdfcFgunA",
        "colab": {
          "base_uri": "https://localhost:8080/"
        },
        "outputId": "0170b591-431a-45d2-b197-d57c9ccad2fd"
      },
      "source": [
        "print(\"Prediction:\", class_names[np.argmax(predictions[index])])"
      ],
      "execution_count": null,
      "outputs": [
        {
          "output_type": "stream",
          "text": [
            "Prediction: T-Shirt/Top\n"
          ],
          "name": "stdout"
        }
      ]
    }
  ]
}