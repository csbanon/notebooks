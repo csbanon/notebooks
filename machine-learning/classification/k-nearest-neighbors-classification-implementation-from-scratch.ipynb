{
  "nbformat": 4,
  "nbformat_minor": 0,
  "metadata": {
    "colab": {
      "name": "k-Nearest Neighbors Classification Implementation from Scratch",
      "provenance": [],
      "authorship_tag": "ABX9TyMrAZsvUwqitGpvTM1l8zNu"
    },
    "kernelspec": {
      "name": "python3",
      "display_name": "Python 3"
    }
  },
  "cells": [
    {
      "cell_type": "markdown",
      "metadata": {
        "id": "dZe5Fp3fzscj"
      },
      "source": [
        "# ***k*-Nearest Neighbors Classification Implementation from Scratch**\n",
        "\n",
        "*By Carlos Santiago Bañón*\n",
        "\n",
        "* **Year:** 2020\n",
        "* **Technologies:** Python, Pandas, NumPy, Matplotlib\n",
        "* **Areas**: Machine Learning, Classification\n",
        "* **Keywords:** `classification`, `k-nn`, `k-nn-classification`, `k-nearest-neighbors`, `machine-learning`\n",
        "* **Description:** This notebook presents an implementation of *k*-nearest neighbors classification from scratch. The data used is a preprocessed version of the Kaggle Titanic dataset hosted in the GitHub repository for this notebook."
      ]
    },
    {
      "cell_type": "markdown",
      "metadata": {
        "id": "UX94UXm8z7Nv"
      },
      "source": [
        "## 1. Import Statements\n",
        "---"
      ]
    },
    {
      "cell_type": "code",
      "metadata": {
        "id": "dnrBRGX3z9mQ"
      },
      "source": [
        "import matplotlib.pyplot as plt\n",
        "import numpy as np\n",
        "import pandas as pd"
      ],
      "execution_count": 1,
      "outputs": []
    },
    {
      "cell_type": "markdown",
      "metadata": {
        "id": "8wyC0ZRn0LHm"
      },
      "source": [
        "## 2. Load the Data\n",
        "---"
      ]
    },
    {
      "cell_type": "markdown",
      "metadata": {
        "id": "LWxu2qDP2fsE"
      },
      "source": [
        "First, we import the preprocessed Kaggle Titanic dataset hosted in the GitHub repository for this notebook."
      ]
    },
    {
      "cell_type": "code",
      "metadata": {
        "id": "mM6bKcvH0Nva"
      },
      "source": [
        "# Import the data into Pandas DataFrames.\n",
        "train_df = pd.read_csv('https://bit.ly/39AQRJj')\n",
        "test_df = pd.read_csv('https://bit.ly/3aoJzHG')\n",
        "y_test_df = pd.read_csv('https://bit.ly/2YxfKzi')"
      ],
      "execution_count": 2,
      "outputs": []
    },
    {
      "cell_type": "code",
      "metadata": {
        "colab": {
          "base_uri": "https://localhost:8080/",
          "height": 419
        },
        "id": "jZhgO8OJ0a_E",
        "outputId": "5d17277f-788e-456a-db19-b8491b765821"
      },
      "source": [
        "# Show the training set.\n",
        "train_df"
      ],
      "execution_count": 3,
      "outputs": [
        {
          "output_type": "execute_result",
          "data": {
            "text/html": [
              "<div>\n",
              "<style scoped>\n",
              "    .dataframe tbody tr th:only-of-type {\n",
              "        vertical-align: middle;\n",
              "    }\n",
              "\n",
              "    .dataframe tbody tr th {\n",
              "        vertical-align: top;\n",
              "    }\n",
              "\n",
              "    .dataframe thead th {\n",
              "        text-align: right;\n",
              "    }\n",
              "</style>\n",
              "<table border=\"1\" class=\"dataframe\">\n",
              "  <thead>\n",
              "    <tr style=\"text-align: right;\">\n",
              "      <th></th>\n",
              "      <th>Age</th>\n",
              "      <th>Survived</th>\n",
              "      <th>Pclass</th>\n",
              "      <th>SibSp</th>\n",
              "      <th>Fare</th>\n",
              "      <th>Gender</th>\n",
              "    </tr>\n",
              "  </thead>\n",
              "  <tbody>\n",
              "    <tr>\n",
              "      <th>0</th>\n",
              "      <td>2</td>\n",
              "      <td>0</td>\n",
              "      <td>3</td>\n",
              "      <td>1</td>\n",
              "      <td>0</td>\n",
              "      <td>0</td>\n",
              "    </tr>\n",
              "    <tr>\n",
              "      <th>1</th>\n",
              "      <td>3</td>\n",
              "      <td>1</td>\n",
              "      <td>1</td>\n",
              "      <td>1</td>\n",
              "      <td>3</td>\n",
              "      <td>1</td>\n",
              "    </tr>\n",
              "    <tr>\n",
              "      <th>2</th>\n",
              "      <td>2</td>\n",
              "      <td>1</td>\n",
              "      <td>3</td>\n",
              "      <td>0</td>\n",
              "      <td>1</td>\n",
              "      <td>1</td>\n",
              "    </tr>\n",
              "    <tr>\n",
              "      <th>3</th>\n",
              "      <td>3</td>\n",
              "      <td>1</td>\n",
              "      <td>1</td>\n",
              "      <td>1</td>\n",
              "      <td>3</td>\n",
              "      <td>1</td>\n",
              "    </tr>\n",
              "    <tr>\n",
              "      <th>4</th>\n",
              "      <td>3</td>\n",
              "      <td>0</td>\n",
              "      <td>3</td>\n",
              "      <td>0</td>\n",
              "      <td>1</td>\n",
              "      <td>0</td>\n",
              "    </tr>\n",
              "    <tr>\n",
              "      <th>...</th>\n",
              "      <td>...</td>\n",
              "      <td>...</td>\n",
              "      <td>...</td>\n",
              "      <td>...</td>\n",
              "      <td>...</td>\n",
              "      <td>...</td>\n",
              "    </tr>\n",
              "    <tr>\n",
              "      <th>886</th>\n",
              "      <td>2</td>\n",
              "      <td>0</td>\n",
              "      <td>2</td>\n",
              "      <td>0</td>\n",
              "      <td>1</td>\n",
              "      <td>0</td>\n",
              "    </tr>\n",
              "    <tr>\n",
              "      <th>887</th>\n",
              "      <td>2</td>\n",
              "      <td>1</td>\n",
              "      <td>1</td>\n",
              "      <td>0</td>\n",
              "      <td>2</td>\n",
              "      <td>1</td>\n",
              "    </tr>\n",
              "    <tr>\n",
              "      <th>888</th>\n",
              "      <td>2</td>\n",
              "      <td>0</td>\n",
              "      <td>3</td>\n",
              "      <td>1</td>\n",
              "      <td>2</td>\n",
              "      <td>1</td>\n",
              "    </tr>\n",
              "    <tr>\n",
              "      <th>889</th>\n",
              "      <td>2</td>\n",
              "      <td>1</td>\n",
              "      <td>1</td>\n",
              "      <td>0</td>\n",
              "      <td>2</td>\n",
              "      <td>0</td>\n",
              "    </tr>\n",
              "    <tr>\n",
              "      <th>890</th>\n",
              "      <td>3</td>\n",
              "      <td>0</td>\n",
              "      <td>3</td>\n",
              "      <td>0</td>\n",
              "      <td>0</td>\n",
              "      <td>0</td>\n",
              "    </tr>\n",
              "  </tbody>\n",
              "</table>\n",
              "<p>891 rows × 6 columns</p>\n",
              "</div>"
            ],
            "text/plain": [
              "     Age  Survived  Pclass  SibSp  Fare  Gender\n",
              "0      2         0       3      1     0       0\n",
              "1      3         1       1      1     3       1\n",
              "2      2         1       3      0     1       1\n",
              "3      3         1       1      1     3       1\n",
              "4      3         0       3      0     1       0\n",
              "..   ...       ...     ...    ...   ...     ...\n",
              "886    2         0       2      0     1       0\n",
              "887    2         1       1      0     2       1\n",
              "888    2         0       3      1     2       1\n",
              "889    2         1       1      0     2       0\n",
              "890    3         0       3      0     0       0\n",
              "\n",
              "[891 rows x 6 columns]"
            ]
          },
          "metadata": {
            "tags": []
          },
          "execution_count": 3
        }
      ]
    },
    {
      "cell_type": "code",
      "metadata": {
        "colab": {
          "base_uri": "https://localhost:8080/",
          "height": 419
        },
        "id": "Hg4hhA3F0c4b",
        "outputId": "8fdb4414-4401-4b00-83b3-881625d481c6"
      },
      "source": [
        "# Show the test set.\n",
        "test_df"
      ],
      "execution_count": 4,
      "outputs": [
        {
          "output_type": "execute_result",
          "data": {
            "text/html": [
              "<div>\n",
              "<style scoped>\n",
              "    .dataframe tbody tr th:only-of-type {\n",
              "        vertical-align: middle;\n",
              "    }\n",
              "\n",
              "    .dataframe tbody tr th {\n",
              "        vertical-align: top;\n",
              "    }\n",
              "\n",
              "    .dataframe thead th {\n",
              "        text-align: right;\n",
              "    }\n",
              "</style>\n",
              "<table border=\"1\" class=\"dataframe\">\n",
              "  <thead>\n",
              "    <tr style=\"text-align: right;\">\n",
              "      <th></th>\n",
              "      <th>Age</th>\n",
              "      <th>Pclass</th>\n",
              "      <th>SibSp</th>\n",
              "      <th>Fare</th>\n",
              "      <th>Gender</th>\n",
              "    </tr>\n",
              "  </thead>\n",
              "  <tbody>\n",
              "    <tr>\n",
              "      <th>0</th>\n",
              "      <td>3</td>\n",
              "      <td>3</td>\n",
              "      <td>0</td>\n",
              "      <td>0</td>\n",
              "      <td>0</td>\n",
              "    </tr>\n",
              "    <tr>\n",
              "      <th>1</th>\n",
              "      <td>4</td>\n",
              "      <td>3</td>\n",
              "      <td>1</td>\n",
              "      <td>0</td>\n",
              "      <td>1</td>\n",
              "    </tr>\n",
              "    <tr>\n",
              "      <th>2</th>\n",
              "      <td>5</td>\n",
              "      <td>2</td>\n",
              "      <td>0</td>\n",
              "      <td>1</td>\n",
              "      <td>0</td>\n",
              "    </tr>\n",
              "    <tr>\n",
              "      <th>3</th>\n",
              "      <td>2</td>\n",
              "      <td>3</td>\n",
              "      <td>0</td>\n",
              "      <td>1</td>\n",
              "      <td>0</td>\n",
              "    </tr>\n",
              "    <tr>\n",
              "      <th>4</th>\n",
              "      <td>2</td>\n",
              "      <td>3</td>\n",
              "      <td>1</td>\n",
              "      <td>1</td>\n",
              "      <td>1</td>\n",
              "    </tr>\n",
              "    <tr>\n",
              "      <th>...</th>\n",
              "      <td>...</td>\n",
              "      <td>...</td>\n",
              "      <td>...</td>\n",
              "      <td>...</td>\n",
              "      <td>...</td>\n",
              "    </tr>\n",
              "    <tr>\n",
              "      <th>413</th>\n",
              "      <td>3</td>\n",
              "      <td>3</td>\n",
              "      <td>0</td>\n",
              "      <td>1</td>\n",
              "      <td>0</td>\n",
              "    </tr>\n",
              "    <tr>\n",
              "      <th>414</th>\n",
              "      <td>3</td>\n",
              "      <td>1</td>\n",
              "      <td>0</td>\n",
              "      <td>3</td>\n",
              "      <td>1</td>\n",
              "    </tr>\n",
              "    <tr>\n",
              "      <th>415</th>\n",
              "      <td>3</td>\n",
              "      <td>3</td>\n",
              "      <td>0</td>\n",
              "      <td>0</td>\n",
              "      <td>0</td>\n",
              "    </tr>\n",
              "    <tr>\n",
              "      <th>416</th>\n",
              "      <td>3</td>\n",
              "      <td>3</td>\n",
              "      <td>0</td>\n",
              "      <td>1</td>\n",
              "      <td>0</td>\n",
              "    </tr>\n",
              "    <tr>\n",
              "      <th>417</th>\n",
              "      <td>3</td>\n",
              "      <td>3</td>\n",
              "      <td>1</td>\n",
              "      <td>2</td>\n",
              "      <td>0</td>\n",
              "    </tr>\n",
              "  </tbody>\n",
              "</table>\n",
              "<p>418 rows × 5 columns</p>\n",
              "</div>"
            ],
            "text/plain": [
              "     Age  Pclass  SibSp  Fare  Gender\n",
              "0      3       3      0     0       0\n",
              "1      4       3      1     0       1\n",
              "2      5       2      0     1       0\n",
              "3      2       3      0     1       0\n",
              "4      2       3      1     1       1\n",
              "..   ...     ...    ...   ...     ...\n",
              "413    3       3      0     1       0\n",
              "414    3       1      0     3       1\n",
              "415    3       3      0     0       0\n",
              "416    3       3      0     1       0\n",
              "417    3       3      1     2       0\n",
              "\n",
              "[418 rows x 5 columns]"
            ]
          },
          "metadata": {
            "tags": []
          },
          "execution_count": 4
        }
      ]
    },
    {
      "cell_type": "code",
      "metadata": {
        "id": "ekK9B6Yd0khJ"
      },
      "source": [
        "# Set up the learning matrices.\n",
        "X_train = train_df.drop('Survived', axis=1, inplace=False).to_numpy()\n",
        "y_train = train_df[['Survived']].to_numpy()\n",
        "X_test = test_df.to_numpy()\n",
        "y_test = y_test_df.drop('PassengerId', axis=1, inplace=False).to_numpy()"
      ],
      "execution_count": 5,
      "outputs": []
    },
    {
      "cell_type": "markdown",
      "metadata": {
        "id": "E7P0ZAo60rXW"
      },
      "source": [
        "## 3. *k*-Nearest Neighbors Classification\n",
        "---"
      ]
    },
    {
      "cell_type": "markdown",
      "metadata": {
        "id": "18K0JkTx0upe"
      },
      "source": [
        "### 3.1. Define the *k*-NN Model"
      ]
    },
    {
      "cell_type": "code",
      "metadata": {
        "id": "3Upnc3t38mGf"
      },
      "source": [
        "def knn_distances(X_train, X_test, k):\n",
        "\n",
        "  \"\"\"\n",
        "  Find the k-nearest neighbors of X_test in X_train.\n",
        "  \"\"\"\n",
        "  \n",
        "  # Calculate the Eucledian distance.\n",
        "  distances = -2 * X_train @ X_test.T + np.sum(X_test ** 2, axis=1) + np.sum(X_train ** 2, axis=1)[:, np.newaxis]\n",
        "  distances[distances < 0] = 0\n",
        "  distances = distances ** .5\n",
        "\n",
        "  # Get the indices of the sorted items.\n",
        "  indices = np.argsort(distances, 0)\n",
        "\n",
        "  # Sort the distances.\n",
        "  distances = np.sort(distances, 0)\n",
        "\n",
        "  # Return the top-k distances.\n",
        "  return indices[0:k, :], distances[0:k, :]"
      ],
      "execution_count": 6,
      "outputs": []
    },
    {
      "cell_type": "code",
      "metadata": {
        "id": "Tpy0X1VP8wkC"
      },
      "source": [
        "def knn_predictions(X_train, y_train, X_test, k=3):\n",
        "    \n",
        "  \"\"\"\n",
        "  Use X_train and y_train to predict X_test.\n",
        "  \"\"\"\n",
        "\n",
        "  indices, distances = knn_distances(X_train, X_test, k)\n",
        "  y_train = y_train.flatten()\n",
        "  rows, columns = indices.shape\n",
        "  predictions = list()\n",
        "\n",
        "  for j in range(columns):\n",
        "\n",
        "    temp = list()\n",
        "\n",
        "    for i in range(rows):\n",
        "\n",
        "      cell = indices[i][j]\n",
        "      temp.append(y_train[cell])\n",
        "\n",
        "    # Get the mode value.\n",
        "    predictions.append(max(temp, key=temp.count))\n",
        "\n",
        "  predictions = np.array(predictions)\n",
        "\n",
        "  return predictions"
      ],
      "execution_count": 7,
      "outputs": []
    },
    {
      "cell_type": "code",
      "metadata": {
        "id": "XPgG4NLG8zew"
      },
      "source": [
        "def knn_accuracy(y_test, predictions):\n",
        "\n",
        "  \"\"\"\n",
        "  Evaluate the accuracy of the knn_predictions.\n",
        "  \"\"\"\n",
        "\n",
        "  x = y_test.flatten() == predictions.flatten()\n",
        "  grade = np.mean(x)\n",
        "\n",
        "  return np.round(grade * 100, 2)"
      ],
      "execution_count": 8,
      "outputs": []
    },
    {
      "cell_type": "markdown",
      "metadata": {
        "id": "eJi74y7y04i_"
      },
      "source": [
        "### 3.2. Run the *k*-NN Model"
      ]
    },
    {
      "cell_type": "code",
      "metadata": {
        "colab": {
          "base_uri": "https://localhost:8080/"
        },
        "id": "RWz87jzE86HP",
        "outputId": "f77145b8-5e47-4fc9-87c3-66686f29a293"
      },
      "source": [
        "# Set the max k and accuracies array.\n",
        "num_k = 35\n",
        "accuracies = np.empty(num_k)\n",
        "\n",
        "for i in range(0, num_k):\n",
        "\n",
        "  # Train and run the KNN model.\n",
        "  knn_pred = knn_predictions(X_train, y_train, X_test, k = i + 1)\n",
        "\n",
        "  # Compute the accuracy.\n",
        "  accuracies[i] = knn_accuracy(y_test, knn_pred)\n",
        "\n",
        "  # Show the progress.\n",
        "  print(\"Training for k =\", i + 1, \"> Accuracy:\", accuracies[i])"
      ],
      "execution_count": 9,
      "outputs": [
        {
          "output_type": "stream",
          "text": [
            "Training for k = 1 > Accuracy: 73.44\n",
            "Training for k = 2 > Accuracy: 73.44\n",
            "Training for k = 3 > Accuracy: 80.38\n",
            "Training for k = 4 > Accuracy: 81.34\n",
            "Training for k = 5 > Accuracy: 84.93\n",
            "Training for k = 6 > Accuracy: 86.6\n",
            "Training for k = 7 > Accuracy: 84.93\n",
            "Training for k = 8 > Accuracy: 83.25\n",
            "Training for k = 9 > Accuracy: 84.21\n",
            "Training for k = 10 > Accuracy: 84.45\n",
            "Training for k = 11 > Accuracy: 86.6\n",
            "Training for k = 12 > Accuracy: 86.84\n",
            "Training for k = 13 > Accuracy: 85.89\n",
            "Training for k = 14 > Accuracy: 85.65\n",
            "Training for k = 15 > Accuracy: 86.6\n",
            "Training for k = 16 > Accuracy: 86.12\n",
            "Training for k = 17 > Accuracy: 85.41\n",
            "Training for k = 18 > Accuracy: 86.12\n",
            "Training for k = 19 > Accuracy: 86.36\n",
            "Training for k = 20 > Accuracy: 86.12\n",
            "Training for k = 21 > Accuracy: 87.32\n",
            "Training for k = 22 > Accuracy: 87.56\n",
            "Training for k = 23 > Accuracy: 86.84\n",
            "Training for k = 24 > Accuracy: 85.41\n",
            "Training for k = 25 > Accuracy: 88.28\n",
            "Training for k = 26 > Accuracy: 85.41\n",
            "Training for k = 27 > Accuracy: 89.71\n",
            "Training for k = 28 > Accuracy: 87.32\n",
            "Training for k = 29 > Accuracy: 88.76\n",
            "Training for k = 30 > Accuracy: 87.32\n",
            "Training for k = 31 > Accuracy: 87.8\n",
            "Training for k = 32 > Accuracy: 84.21\n",
            "Training for k = 33 > Accuracy: 86.36\n",
            "Training for k = 34 > Accuracy: 83.97\n",
            "Training for k = 35 > Accuracy: 89.47\n"
          ],
          "name": "stdout"
        }
      ]
    },
    {
      "cell_type": "markdown",
      "metadata": {
        "id": "1RcBpok-6WUE"
      },
      "source": [
        "### 3.3. Show the Accuracy"
      ]
    },
    {
      "cell_type": "code",
      "metadata": {
        "colab": {
          "base_uri": "https://localhost:8080/"
        },
        "id": "_sVomIVR88p7",
        "outputId": "767c74c5-4e36-46ad-c441-0d8682603c27"
      },
      "source": [
        "# Show the accuracies.\n",
        "print(accuracies)"
      ],
      "execution_count": 10,
      "outputs": [
        {
          "output_type": "stream",
          "text": [
            "[73.44 73.44 80.38 81.34 84.93 86.6  84.93 83.25 84.21 84.45 86.6  86.84\n",
            " 85.89 85.65 86.6  86.12 85.41 86.12 86.36 86.12 87.32 87.56 86.84 85.41\n",
            " 88.28 85.41 89.71 87.32 88.76 87.32 87.8  84.21 86.36 83.97 89.47]\n"
          ],
          "name": "stdout"
        }
      ]
    },
    {
      "cell_type": "code",
      "metadata": {
        "colab": {
          "base_uri": "https://localhost:8080/",
          "height": 299
        },
        "id": "GeITvcb1893d",
        "outputId": "bccff8b0-d671-4933-da02-d7bf178898fa"
      },
      "source": [
        "# Plot the accuracies.\n",
        "fig = plt.figure()\n",
        "ax = plt.axes()\n",
        "x = np.linspace(1, num_k, num_k)\n",
        "ax.bar(x, accuracies, color='orange')\n",
        "\n",
        "# Set the labels.\n",
        "plt.title('Accuracy vs. $k$')\n",
        "plt.xlabel('$k$')\n",
        "plt.ylabel('Accuracy');"
      ],
      "execution_count": 11,
      "outputs": [
        {
          "output_type": "display_data",
          "data": {
            "image/png": "[encoded data removed]",
            "text/plain": [
              "<Figure size 432x288 with 1 Axes>"
            ]
          },
          "metadata": {
            "tags": [],
            "needs_background": "light"
          }
        }
      ]
    },
    {
      "cell_type": "code",
      "metadata": {
        "colab": {
          "base_uri": "https://localhost:8080/"
        },
        "id": "WSwoqtJr9AAQ",
        "outputId": "ac643b92-90b1-4be3-e836-6d9b83d1a791"
      },
      "source": [
        "# Get the best k-value.\n",
        "best_k = np.argmax(accuracies, axis=0)\n",
        "print(\"Best k-Value:\", best_k + 1)"
      ],
      "execution_count": 12,
      "outputs": [
        {
          "output_type": "stream",
          "text": [
            "Best k-Value: 27\n"
          ],
          "name": "stdout"
        }
      ]
    },
    {
      "cell_type": "code",
      "metadata": {
        "colab": {
          "base_uri": "https://localhost:8080/"
        },
        "id": "P8ow3lXZ9BFL",
        "outputId": "7ee8e70c-f604-4e5c-d57b-45fbc162e66a"
      },
      "source": [
        "print(\"Accuracy:\", accuracies[best_k])"
      ],
      "execution_count": 13,
      "outputs": [
        {
          "output_type": "stream",
          "text": [
            "Accuracy: 89.71\n"
          ],
          "name": "stdout"
        }
      ]
    }
  ]
}