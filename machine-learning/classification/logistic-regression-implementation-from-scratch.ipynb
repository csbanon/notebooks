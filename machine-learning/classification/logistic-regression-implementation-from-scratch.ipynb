{
  "nbformat": 4,
  "nbformat_minor": 0,
  "metadata": {
    "colab": {
      "name": "Logistic Regression Implementation from Scratch",
      "provenance": [],
      "authorship_tag": "ABX9TyMfv0c4gIOhncTJH/60jVcz"
    },
    "kernelspec": {
      "name": "python3",
      "display_name": "Python 3"
    }
  },
  "cells": [
    {
      "cell_type": "markdown",
      "metadata": {
        "id": "2v4Vfmy55XGJ"
      },
      "source": [
        "# **Logistic Regression Implementation from Scratch**\n",
        "*By Carlos Santiago Bañón*\n",
        "\n",
        "* **Year:** 2020\n",
        "* **Technologies:** Python, NumPy, Matplotlib, Scikit-Learn\n",
        "* **Areas:** Machine Learning, Classification\n",
        "* **Keywords:** `binary-classification`, `classification`, `machine-learning`, `logistic-regression`\n",
        "* **Description:** This notebook presents an implementation of logistic regression from scratch."
      ]
    },
    {
      "cell_type": "markdown",
      "metadata": {
        "id": "eUH3En9k5-3e"
      },
      "source": [
        "## 1. Import Statements\n",
        "\n",
        "---\n",
        "\n"
      ]
    },
    {
      "cell_type": "code",
      "metadata": {
        "id": "z5KymEBX6Ijg"
      },
      "source": [
        "import matplotlib\n",
        "import matplotlib.pyplot as plt\n",
        "import numpy as np\n",
        "from sklearn.metrics import f1_score\n",
        "from sklearn.model_selection import train_test_split"
      ],
      "execution_count": 1,
      "outputs": []
    },
    {
      "cell_type": "markdown",
      "metadata": {
        "id": "as201WuK6TqW"
      },
      "source": [
        "## 2. Random Data Generation\n",
        "\n",
        "---\n",
        "\n",
        "\n",
        "\n",
        "Here, we generate random data to be used in this logistic regression implementation."
      ]
    },
    {
      "cell_type": "markdown",
      "metadata": {
        "id": "5J3HI6Uy6xFA"
      },
      "source": [
        "### 2.1. Generate Random Data"
      ]
    },
    {
      "cell_type": "markdown",
      "metadata": {
        "id": "NXR1jiX68OoP"
      },
      "source": [
        "First, we specify the parameters used in our random data generation function."
      ]
    },
    {
      "cell_type": "code",
      "metadata": {
        "id": "KBfndJCT8S_M"
      },
      "source": [
        "# Define the parameters.\n",
        "weight = 20\n",
        "bias = 10\n",
        "mu = 20\n",
        "sigma = 6\n",
        "m = 1000"
      ],
      "execution_count": 2,
      "outputs": []
    },
    {
      "cell_type": "markdown",
      "metadata": {
        "id": "9An8RspM64-7"
      },
      "source": [
        "The data for implementing logistic regression is then generated randomly with two features, $x_1$ and $x_2$. This function returns a `data` array of shape $(m, 2)$ and a `labels` array of shape $(m, 1)$.\n",
        "\n",
        "The data is generated as follows:\n",
        "\n",
        "*   Feature $x_1$: Chosen uniformly at random in the interval $[0, 1)$.\n",
        "*   Feature $x_2$: Chosen with the formula $x_2 = w * x_1 + b + -1^c * n$, where the \"noise\" `n` is chosen according to the normal distribution with mean $\\mu$ and standard deviation $\\sigma$.\n",
        "*   Class Labels: Choose $c = 0$ with probability $1 / 2$ or $c = 1$ with probability $1 / 2$."
      ]
    },
    {
      "cell_type": "code",
      "metadata": {
        "id": "x_n1arud8Z6t"
      },
      "source": [
        "def get_random_data(w, b, mu, sigma, m):\n",
        "  \"\"\"\n",
        "  Generate random data.\n",
        "\n",
        "  :w: the weigths.\n",
        "  :b: the bias.\n",
        "  :mu: the mean.\n",
        "  :sigma: the standard deviation.\n",
        "  :m: the number of data points.\n",
        "  \"\"\"\n",
        "\n",
        "  data = np.empty([m, 2])\n",
        "  labels = np.empty([m, 1], dtype=int)\n",
        "\n",
        "  for i in range(m):\n",
        "\n",
        "    # Choose either 0 or 1 for the label.\n",
        "    labels[i] = np.random.choice([0, 1], p=[0.5, 0.5])\n",
        "\n",
        "    # Set the first feature.\n",
        "    data[i, 0] = np.random.default_rng().uniform(0, 1)\n",
        "\n",
        "    # Set the second feature.\n",
        "    n = np.random.default_rng().normal(mu, sigma)\n",
        "    data[i, 1] = w * data[i, 0] + b + (-1) ** labels[i] * n\n",
        "\n",
        "  return data, labels"
      ],
      "execution_count": 3,
      "outputs": []
    },
    {
      "cell_type": "code",
      "metadata": {
        "id": "xNo5Am238d6_"
      },
      "source": [
        "data, labels = get_random_data(weight, bias, mu, sigma, m)"
      ],
      "execution_count": 4,
      "outputs": []
    },
    {
      "cell_type": "markdown",
      "metadata": {
        "id": "5z8WaS2Y8jtX"
      },
      "source": [
        "### 2.2. Display the Random Data"
      ]
    },
    {
      "cell_type": "markdown",
      "metadata": {
        "id": "p9CmlguS8pL4"
      },
      "source": [
        "Then, we use Matplotlib to display the data generated by our function."
      ]
    },
    {
      "cell_type": "code",
      "metadata": {
        "id": "XnytDnnm8zT3"
      },
      "source": [
        "def display_random_data(data, labels):\n",
        "  \"\"\"\n",
        "  Display the data on a 2-D plot.\n",
        "\n",
        "  :data: the data to be visualized.\n",
        "  :labels: the labels used for coloring.\n",
        "  \"\"\"\n",
        "\n",
        "  classes = ['1', '0']\n",
        "  colors = ['red', 'blue']\n",
        "\n",
        "  # Generate the scatter plot.\n",
        "  scatter = plt.scatter(data[:, 0], data[:, 1], c=labels, cmap=matplotlib.colors.ListedColormap(colors))\n",
        "  \n",
        "  # Format the title and axis labels.\n",
        "  plt.title('Random Data for Logistic Regression', fontsize=14)\n",
        "  plt.xlabel('$ x_1 $', fontsize=14)\n",
        "  plt.ylabel('$ x_2 $', fontsize=14)\n",
        "\n",
        "  # Include a legend.\n",
        "  plt.legend(handles=scatter.legend_elements()[0], labels=classes, fontsize=8)\n",
        "\n",
        "  plt.show()"
      ],
      "execution_count": 5,
      "outputs": []
    },
    {
      "cell_type": "code",
      "metadata": {
        "id": "--8B7X3F8-Rw",
        "colab": {
          "base_uri": "https://localhost:8080/",
          "height": 301
        },
        "outputId": "aa4bbe92-c9c7-4402-81ba-3c4df9348bb2"
      },
      "source": [
        "display_random_data(data, labels)"
      ],
      "execution_count": 6,
      "outputs": [
        {
          "output_type": "display_data",
          "data": {
            "image/png": "[encoded data removed]",
            "text/plain": [
              "<Figure size 432x288 with 1 Axes>"
            ]
          },
          "metadata": {
            "tags": [],
            "needs_background": "light"
          }
        }
      ]
    },
    {
      "cell_type": "markdown",
      "metadata": {
        "id": "Xq4DXPuJ9TWY"
      },
      "source": [
        "### 2.3. Split the Data into Training and Test Sets"
      ]
    },
    {
      "cell_type": "markdown",
      "metadata": {
        "id": "g9KIp0CH9XRa"
      },
      "source": [
        "Finally, we take the randomly-generated data and split it into training and test sets. Here, we use 80% of our data for training, and the remaining 20% for testing."
      ]
    },
    {
      "cell_type": "code",
      "metadata": {
        "id": "IW_cF_jR9s11"
      },
      "source": [
        "# Split the data into training and test sets.\n",
        "data_train, data_test, labels_train, labels_test = train_test_split(data, labels, train_size=0.8)"
      ],
      "execution_count": 7,
      "outputs": []
    },
    {
      "cell_type": "markdown",
      "metadata": {
        "id": "X5AZ1wVhFLTI"
      },
      "source": [
        "## 3. Logistic Regression from Scratch Using NumPy\n",
        "\n",
        "---\n",
        "\n",
        "\n",
        "\n",
        "Here, we present an implementation of logistic regression solely using *NumPy*. The model is built, trained, and displayed. In addition, the *sigmoid* and *binary cross-entropy loss* functions are used."
      ]
    },
    {
      "cell_type": "markdown",
      "metadata": {
        "id": "8rLKst2fFsYi"
      },
      "source": [
        "### 3.1. Define the Sigmoid function."
      ]
    },
    {
      "cell_type": "markdown",
      "metadata": {
        "id": "wwKrWU34Fwhn"
      },
      "source": [
        "The *sigmoid* function can be defined as: $\\sigma(z) = \\frac{1}{1 + e^{-z}}$."
      ]
    },
    {
      "cell_type": "code",
      "metadata": {
        "id": "wXmKYqX7GD3q"
      },
      "source": [
        "def sigmoid(z):\n",
        "  \"\"\"\n",
        "  Compute the sigmoid.\n",
        "\n",
        "  :z: the original value.\n",
        "  \"\"\"\n",
        "  \n",
        "  return 1 / (1 + np.exp(-z))"
      ],
      "execution_count": 8,
      "outputs": []
    },
    {
      "cell_type": "markdown",
      "metadata": {
        "id": "EKf87_RUGJTv"
      },
      "source": [
        "### 3.2. Define the Binary Cross-Entropy Loss Function"
      ]
    },
    {
      "cell_type": "markdown",
      "metadata": {
        "id": "KlbRL3BuGRUe"
      },
      "source": [
        "Further, the binary cross-entropy loss function can be defined as:\n",
        "\n",
        "$\\mathcal{L}_\\mathrm{ce} = - y \\log a - (1-y) \\log(1-a)$"
      ]
    },
    {
      "cell_type": "code",
      "metadata": {
        "id": "k16X_h4aHA5w"
      },
      "source": [
        "def binary_cross_entropy_loss(y, a):\n",
        "  \"\"\"\n",
        "  Compute the binary cross-entropy loss.\n",
        "\n",
        "  :y: the ground-truth label.\n",
        "  :a: the predicted value.\n",
        "  \"\"\"\n",
        "\n",
        "  return -(y * np.log(a) + (1 - y) * np.log(1 - a)).mean()"
      ],
      "execution_count": 9,
      "outputs": []
    },
    {
      "cell_type": "markdown",
      "metadata": {
        "id": "JkyVkoV3HSUb"
      },
      "source": [
        "### 3.3. Build and Train the Model"
      ]
    },
    {
      "cell_type": "markdown",
      "metadata": {
        "id": "Cy5DybJAHeGY"
      },
      "source": [
        "After defining the functions, we can train the model using *NumPy*."
      ]
    },
    {
      "cell_type": "code",
      "metadata": {
        "id": "xzOnUlgfHhuk"
      },
      "source": [
        "def train_model(data_train, labels_train):\n",
        "  \"\"\"\n",
        "  Train the logistic regression model.\n",
        "\n",
        "  :data_train: the training features.\n",
        "  :labels_train: the training labels.\n",
        "  \"\"\"\n",
        "\n",
        "  print(\"Training Model Using NumPy\\n\")\n",
        "\n",
        "  # Set up all the values.\n",
        "  w = np.zeros((2, 1))\n",
        "  b = np.zeros((1, 1))\n",
        "  learning_rate = 0.01\n",
        "  num_epochs = 5000\n",
        "  n = len(labels_train)\n",
        "\n",
        "  for epoch in range(num_epochs):\n",
        "\n",
        "    # Get the data for the model.\n",
        "    z = np.matmul(data_train, w) + b\n",
        "    a = sigmoid(z)\n",
        "    loss = binary_cross_entropy_loss(labels_train, a)\n",
        "    \n",
        "    # Print the statistics\n",
        "    if epoch % 1000 == 0:\n",
        "      print(\"Epoch \", epoch, \"/\", num_epochs, \": Loss = \", loss, sep=\"\")\n",
        "\n",
        "    # Calculate the derivatives.\n",
        "    dz = a - labels_train\n",
        "    dw = 1/n * np.matmul(data_train.T, dz)\n",
        "    db = 1/n * np.sum(dz)\n",
        "\n",
        "    # Implement gradient descent.\n",
        "    w = w - (learning_rate * dw)\n",
        "    b = b - (learning_rate * db)\n",
        "\n",
        "  return w, b, loss, z"
      ],
      "execution_count": 10,
      "outputs": []
    },
    {
      "cell_type": "code",
      "metadata": {
        "id": "U969-1nMIk_l",
        "colab": {
          "base_uri": "https://localhost:8080/"
        },
        "outputId": "dbf641f9-15d3-4161-ae11-8ce2eac265b1"
      },
      "source": [
        "w, b, loss, z = train_model(data_train, labels_train)"
      ],
      "execution_count": 11,
      "outputs": [
        {
          "output_type": "stream",
          "text": [
            "Training Model Using NumPy\n",
            "\n",
            "Epoch 0/5000: Loss = 0.6931471805599452\n",
            "Epoch 1000/5000: Loss = 0.13872256206359007\n",
            "Epoch 2000/5000: Loss = 0.08606272551753838\n",
            "Epoch 3000/5000: Loss = 0.06433690225255785\n",
            "Epoch 4000/5000: Loss = 0.052399783606383005\n"
          ],
          "name": "stdout"
        }
      ]
    },
    {
      "cell_type": "markdown",
      "metadata": {
        "id": "0CHQ2ZpUzm5v"
      },
      "source": [
        "### 3.4. Get the Weights and the Bias"
      ]
    },
    {
      "cell_type": "markdown",
      "metadata": {
        "id": "VI0SYXVDzsvy"
      },
      "source": [
        "Next, we can extract the weights $w_1$, $w_2$ and the bias $b$ from the arrays."
      ]
    },
    {
      "cell_type": "code",
      "metadata": {
        "id": "4gNdwbrjz3rc",
        "colab": {
          "base_uri": "https://localhost:8080/"
        },
        "outputId": "30c8acb8-6254-4eaf-ecba-119699b4e52d"
      },
      "source": [
        "w1 = w[0]\n",
        "w2 = w[1]\n",
        "b = b[0]\n",
        "\n",
        "print(w1, w2, b)"
      ],
      "execution_count": 12,
      "outputs": [
        {
          "output_type": "stream",
          "text": [
            "[1.90771255] [-0.21671916] [2.75513699]\n"
          ],
          "name": "stdout"
        }
      ]
    },
    {
      "cell_type": "markdown",
      "metadata": {
        "id": "ojpxxVVH0kD7"
      },
      "source": [
        "### 3.5. Compute the Binary Cross-Entropy Loss"
      ]
    },
    {
      "cell_type": "markdown",
      "metadata": {
        "id": "wXSPaTAb0qPm"
      },
      "source": [
        "Since the loss is calculated as we train the model, the overall loss can be easily extracted."
      ]
    },
    {
      "cell_type": "code",
      "metadata": {
        "id": "-KUeSAJY0yW6",
        "colab": {
          "base_uri": "https://localhost:8080/"
        },
        "outputId": "62a875a4-a143-4b6a-be48-0c257feb2fa2"
      },
      "source": [
        "print(\"Binary Cross-Entropy Loss:\", loss)"
      ],
      "execution_count": 13,
      "outputs": [
        {
          "output_type": "stream",
          "text": [
            "Binary Cross-Entropy Loss: 0.04480189835044085\n"
          ],
          "name": "stdout"
        }
      ]
    },
    {
      "cell_type": "markdown",
      "metadata": {
        "id": "NreCclz01J2K"
      },
      "source": [
        "### 3.6. Make Predictions Using the Model"
      ]
    },
    {
      "cell_type": "markdown",
      "metadata": {
        "id": "5niCPITv1Mro"
      },
      "source": [
        "Now that the model is trained, we can make predictions."
      ]
    },
    {
      "cell_type": "code",
      "metadata": {
        "id": "npjwYH2e1P8d",
        "colab": {
          "base_uri": "https://localhost:8080/"
        },
        "outputId": "2abdf321-f644-4752-9656-f99f49e5340b"
      },
      "source": [
        "predictions = []\n",
        "\n",
        "for i in sigmoid(z):\n",
        "  if i >= 0.5:\n",
        "    predictions.append(1)\n",
        "  else:\n",
        "    predictions.append(0)\n",
        "\n",
        "print(predictions)"
      ],
      "execution_count": 14,
      "outputs": [
        {
          "output_type": "stream",
          "text": [
            "[0, 1, 0, 1, 1, 0, 0, 0, 1, 1, 1, 1, 1, 1, 0, 0, 1, 1, 0, 0, 1, 1, 0, 1, 1, 0, 0, 1, 1, 1, 1, 1, 0, 1, 0, 1, 0, 0, 0, 0, 1, 1, 1, 0, 1, 0, 0, 0, 0, 0, 0, 1, 0, 0, 0, 1, 1, 0, 0, 1, 0, 0, 0, 1, 1, 0, 1, 1, 1, 0, 0, 0, 1, 1, 1, 0, 0, 1, 0, 0, 1, 0, 1, 0, 1, 1, 0, 0, 0, 0, 0, 1, 0, 0, 0, 0, 0, 0, 1, 0, 0, 1, 1, 0, 0, 0, 0, 0, 1, 0, 0, 1, 0, 0, 0, 1, 1, 1, 1, 1, 0, 1, 1, 1, 1, 1, 1, 1, 0, 0, 1, 1, 1, 1, 1, 0, 0, 1, 0, 0, 0, 1, 1, 0, 1, 1, 0, 1, 1, 0, 0, 0, 0, 0, 0, 0, 1, 1, 1, 1, 1, 1, 1, 0, 0, 0, 1, 0, 1, 1, 1, 1, 0, 1, 1, 0, 0, 1, 0, 0, 0, 0, 0, 0, 1, 0, 0, 1, 1, 0, 0, 0, 0, 1, 1, 0, 0, 0, 1, 0, 1, 0, 0, 1, 1, 0, 1, 0, 1, 0, 1, 1, 0, 1, 1, 1, 0, 1, 0, 1, 1, 1, 0, 1, 1, 0, 0, 0, 0, 0, 0, 0, 0, 1, 0, 0, 1, 0, 1, 0, 1, 1, 0, 1, 0, 0, 1, 0, 1, 0, 0, 0, 0, 1, 1, 1, 0, 0, 1, 0, 1, 0, 0, 0, 0, 0, 0, 0, 0, 1, 1, 1, 0, 1, 1, 0, 0, 0, 1, 1, 1, 1, 0, 0, 0, 0, 0, 1, 1, 0, 1, 0, 0, 1, 0, 1, 0, 0, 0, 1, 1, 1, 1, 0, 1, 1, 0, 1, 1, 0, 1, 1, 1, 1, 1, 1, 0, 0, 1, 0, 1, 0, 0, 0, 1, 1, 0, 1, 1, 1, 0, 1, 1, 1, 0, 1, 0, 0, 1, 0, 0, 0, 0, 0, 1, 0, 1, 1, 0, 0, 0, 0, 1, 1, 1, 0, 0, 1, 0, 0, 0, 0, 1, 1, 0, 1, 0, 1, 1, 0, 1, 1, 1, 0, 0, 0, 1, 1, 0, 1, 0, 0, 1, 1, 1, 0, 0, 1, 0, 1, 0, 0, 0, 1, 0, 0, 0, 0, 1, 1, 0, 0, 1, 1, 1, 1, 0, 1, 1, 1, 0, 1, 1, 0, 0, 0, 1, 0, 1, 1, 1, 0, 0, 0, 0, 1, 1, 1, 0, 1, 1, 0, 1, 0, 1, 0, 0, 1, 1, 1, 0, 0, 1, 0, 1, 1, 0, 0, 1, 0, 0, 0, 0, 1, 0, 0, 0, 1, 1, 1, 1, 1, 1, 0, 0, 1, 1, 0, 1, 0, 1, 0, 0, 0, 0, 1, 1, 0, 1, 1, 1, 0, 1, 0, 0, 0, 1, 1, 1, 1, 1, 0, 0, 0, 1, 0, 0, 1, 0, 0, 1, 1, 0, 1, 1, 1, 0, 0, 0, 0, 1, 0, 0, 0, 1, 0, 1, 0, 0, 0, 1, 0, 0, 0, 0, 0, 1, 1, 1, 0, 0, 1, 1, 1, 0, 0, 0, 0, 1, 0, 0, 0, 1, 0, 1, 1, 1, 1, 0, 0, 0, 1, 1, 0, 1, 1, 1, 0, 1, 1, 1, 0, 0, 0, 0, 0, 1, 1, 0, 0, 1, 0, 1, 1, 1, 0, 1, 0, 1, 0, 0, 0, 0, 1, 0, 1, 1, 1, 1, 0, 0, 0, 1, 1, 1, 0, 1, 1, 0, 0, 1, 0, 0, 1, 1, 1, 1, 1, 1, 0, 1, 0, 0, 0, 1, 0, 0, 1, 0, 0, 1, 1, 0, 1, 0, 0, 1, 0, 0, 0, 1, 0, 0, 0, 1, 1, 0, 0, 1, 0, 1, 1, 1, 1, 0, 0, 0, 0, 0, 1, 1, 0, 1, 1, 0, 0, 0, 0, 0, 1, 1, 1, 1, 0, 1, 0, 1, 0, 1, 1, 0, 0, 0, 0, 1, 1, 1, 1, 0, 1, 0, 0, 1, 1, 0, 1, 1, 1, 0, 0, 1, 1, 0, 1, 1, 1, 0, 1, 0, 0, 1, 1, 1, 0, 0, 0, 1, 0, 1, 1, 1, 0, 0, 0, 1, 0, 0, 0, 0, 1, 0, 0, 0, 1, 1, 0, 0, 1, 1, 1, 1, 1, 1, 0, 0, 0, 0, 1, 1, 1, 1, 0, 0, 1, 1, 1, 0, 0, 0, 0, 1, 1, 1, 0, 0, 1, 0, 0, 0, 0, 1, 0, 0, 1, 1, 1, 0, 1, 1, 1, 1, 0, 0, 0, 1, 1, 0, 0, 0, 1, 0, 0, 1, 0, 1, 1, 1, 0, 1, 0, 0, 1, 1, 0, 1, 1, 1, 1, 1, 0]\n"
          ],
          "name": "stdout"
        }
      ]
    },
    {
      "cell_type": "markdown",
      "metadata": {
        "id": "tooHnJOW1gzB"
      },
      "source": [
        "### 3.7. Compute the Accuracy of the Model"
      ]
    },
    {
      "cell_type": "markdown",
      "metadata": {
        "id": "fiI8-wW01nP-"
      },
      "source": [
        "We can now analyze the accuracy of the model by looking at the predictions and the test set."
      ]
    },
    {
      "cell_type": "code",
      "metadata": {
        "id": "qTQ7MTbj1xnW",
        "colab": {
          "base_uri": "https://localhost:8080/"
        },
        "outputId": "3dbb79b2-1ebc-46a3-fe9a-798c3267f257"
      },
      "source": [
        "print(\"Accuracy:\", f1_score(predictions, labels_train))"
      ],
      "execution_count": 15,
      "outputs": [
        {
          "output_type": "stream",
          "text": [
            "Accuracy: 0.9948717948717948\n"
          ],
          "name": "stdout"
        }
      ]
    },
    {
      "cell_type": "markdown",
      "metadata": {
        "id": "SWiDH0Ke1-pG"
      },
      "source": [
        "### 3.8. Display the Data with the Trained Model"
      ]
    },
    {
      "cell_type": "markdown",
      "metadata": {
        "id": "DRZPsA8y2GOu"
      },
      "source": [
        "We can now compute a new separating line and plot it with the original data. Once again, to obtain the new separating line, we use the function `get_separating_line()`, which sets $w_1x_1 + w_2x_2 + b = 0$. From there, it simply solves for $x_2$ to get the sepatating line when the sigmoid function is $1/2$."
      ]
    },
    {
      "cell_type": "code",
      "metadata": {
        "id": "zpMGjUcc2GOu"
      },
      "source": [
        "def get_separating_line(w1, w2, b):\n",
        "  \"\"\"\n",
        "  Generate a separating line based on the weights.\n",
        "\n",
        "  :w1: the first weight.\n",
        "  :w2: the second weight.\n",
        "  :b: the bias.\n",
        "  \"\"\"\n",
        "\n",
        "  return -(w1 * 0.5 + b) / w2"
      ],
      "execution_count": 16,
      "outputs": []
    },
    {
      "cell_type": "code",
      "metadata": {
        "id": "h8bhyEBe2GOx"
      },
      "source": [
        "def display_model_data(data, labels):\n",
        "  \"\"\"\n",
        "  Display the data on a 2-D plot.\n",
        "\n",
        "  :data: the data to be visualized.\n",
        "  :labels: the labels used for coloring.\n",
        "  \"\"\"\n",
        "\n",
        "  classes = ['0', '1']\n",
        "  colors = ['red', 'blue']\n",
        "\n",
        "  # Generate the scatter plot.\n",
        "  scatter = plt.scatter(data[:, 0], data[:, 1], c=labels, cmap=matplotlib.colors.ListedColormap(colors))\n",
        "  \n",
        "  # Format the title and axis labels\n",
        "  plt.title('Trained Model', fontsize=14)\n",
        "  plt.xlabel('$ x_1 $', fontsize=14)\n",
        "  plt.ylabel('$ x_2 $', fontsize=14)\n",
        "\n",
        "  # Inlcude a legend.\n",
        "  plt.legend(handles=scatter.legend_elements()[0], labels=classes, fontsize=8)\n",
        "\n",
        "  # Plot the true line used to generate the data.\n",
        "  x = np.linspace(0,1,100)\n",
        "  y = weight * x + bias\n",
        "  plt.plot(x, y)\n",
        "\n",
        "  # Plot the separating line of the trained model\n",
        "  separating_line = get_separating_line(w1, w2, b)\n",
        "  print(separating_line)\n",
        "  y = separating_line * x + b\n",
        "  plt.plot(x, y)\n",
        "\n",
        "  plt.show()"
      ],
      "execution_count": 17,
      "outputs": []
    },
    {
      "cell_type": "code",
      "metadata": {
        "id": "ZCxkKiea2GOy",
        "colab": {
          "base_uri": "https://localhost:8080/",
          "height": 318
        },
        "outputId": "ff827452-6fa1-4f9f-ee3e-59188e9bfe6e"
      },
      "source": [
        "display_model_data(data, labels)"
      ],
      "execution_count": 18,
      "outputs": [
        {
          "output_type": "stream",
          "text": [
            "[17.11428374]\n"
          ],
          "name": "stdout"
        },
        {
          "output_type": "display_data",
          "data": {
            "image/png": "[encoded data removed]",
            "text/plain": [
              "<Figure size 432x288 with 1 Axes>"
            ]
          },
          "metadata": {
            "tags": [],
            "needs_background": "light"
          }
        }
      ]
    },
    {
      "cell_type": "markdown",
      "metadata": {
        "id": "Si6JY7fr3Jk7"
      },
      "source": [
        "### 3.9. Generate a Heatmap for the Trained Model"
      ]
    },
    {
      "cell_type": "markdown",
      "metadata": {
        "id": "h-H5h2L53Jk8"
      },
      "source": [
        "Finally, we visualize the model with a heatmap."
      ]
    },
    {
      "cell_type": "code",
      "metadata": {
        "id": "s0zgP0Ak3Jk9"
      },
      "source": [
        "def sigmoid(x):\n",
        "  \"\"\"\n",
        "  Compute the sigmoid.\n",
        "\n",
        "  :x: the original value.\n",
        "  \"\"\"\n",
        "  \n",
        "  return 1 / (1 + np.exp(-x))"
      ],
      "execution_count": 19,
      "outputs": []
    },
    {
      "cell_type": "code",
      "metadata": {
        "id": "G-MLxd6v3Jk_"
      },
      "source": [
        "def display_heatmap(w1, w2, b):\n",
        "  \"\"\"\n",
        "  Display the data on a 2-D heatmap.\n",
        "\n",
        "  :w1: the first weight.\n",
        "  :w2: the second weight.\n",
        "  :b: the bias.\n",
        "  \"\"\"\n",
        "\n",
        "  # Get the data for the heatmap.\n",
        "  x1, x2 = np.meshgrid(np.linspace(0, 1, 200), np.linspace(-20, 60, 200))\n",
        "  z = sigmoid(w1 * x1 + w2 * x2 + b)\n",
        "\n",
        "  # Set the bounds for z.\n",
        "  z = z[:-1, :-1]\n",
        "  z_min, z_max = -np.abs(z).max(), np.abs(z).max()\n",
        "\n",
        "  # Generate the heatmap.\n",
        "  fig, ax = plt.subplots()\n",
        "  c = ax.pcolormesh(x1, x2, z, cmap='RdBu', vmin=0, vmax=1)\n",
        "  ax.set_title('Trained Model (Heatmap)', fontsize=14)\n",
        "  fig.colorbar(c, ax=ax)\n",
        "  plt.xlabel('$ x_1 $', fontsize=14)\n",
        "  plt.ylabel('$ x_2 $', fontsize=14)\n",
        "  \n",
        "  # Set the limits of the plot.\n",
        "  ax.axis([x1.min(), x1.max(), x2.min(), x2.max()])\n",
        "\n",
        "  plt.show()"
      ],
      "execution_count": 20,
      "outputs": []
    },
    {
      "cell_type": "code",
      "metadata": {
        "id": "HxBoJTKI3JlB",
        "colab": {
          "base_uri": "https://localhost:8080/",
          "height": 301
        },
        "outputId": "0f6682b6-6e02-4300-95c4-136a1975fc0c"
      },
      "source": [
        "display_heatmap(w1, w2, b)"
      ],
      "execution_count": 21,
      "outputs": [
        {
          "output_type": "display_data",
          "data": {
            "image/png": "[encoded data removed]",
            "text/plain": [
              "<Figure size 432x288 with 2 Axes>"
            ]
          },
          "metadata": {
            "tags": [],
            "needs_background": "light"
          }
        }
      ]
    }
  ]
}