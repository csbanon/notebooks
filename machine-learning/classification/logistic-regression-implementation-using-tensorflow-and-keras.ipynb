{
  "nbformat": 4,
  "nbformat_minor": 0,
  "metadata": {
    "colab": {
      "name": "Logistic Regression Implementation Using TensorFlow and Keras",
      "provenance": [],
      "authorship_tag": "ABX9TyNDCbHgOIFkNb5/oa79vRfE"
    },
    "kernelspec": {
      "name": "python3",
      "display_name": "Python 3"
    }
  },
  "cells": [
    {
      "cell_type": "markdown",
      "metadata": {
        "id": "oRTwweeen8Mu"
      },
      "source": [
        "# **Logistic Regression Implementation Using TensorFlow and Keras**\n",
        "*By Carlos Santiago Bañón*\n",
        "\n",
        "* **Year:** 2020\n",
        "* **Technologies:** Python, NumPy, Matplotlib, TensorFlow, Keras, Scikit-Learn\n",
        "* **Areas:** Machine Learning, Classification\n",
        "* **Keywords:** `binary-classification`, `classification`, `deep-learning`, `logistic-regression`, `machine-learning`\n",
        "* **Description:** This notebook presents an implementation of logistic regression using TensorFlow and Keras."
      ]
    },
    {
      "cell_type": "markdown",
      "metadata": {
        "id": "bfTSzJdhoU0Z"
      },
      "source": [
        "## 1. Import Statements\n",
        "---"
      ]
    },
    {
      "cell_type": "code",
      "metadata": {
        "id": "6jxE_o4gogyV"
      },
      "source": [
        "import numpy as np\n",
        "import matplotlib\n",
        "import matplotlib.pyplot as plt\n",
        "from sklearn.model_selection import train_test_split"
      ],
      "execution_count": 1,
      "outputs": []
    },
    {
      "cell_type": "code",
      "metadata": {
        "id": "rXvoyoOHonoQ",
        "colab": {
          "base_uri": "https://localhost:8080/"
        },
        "outputId": "8ee77363-6b65-44c9-a441-1232df3ea474"
      },
      "source": [
        "%tensorflow_version 2.x\n",
        "import tensorflow as tf\n",
        "print(tf.__version__)"
      ],
      "execution_count": 2,
      "outputs": [
        {
          "output_type": "stream",
          "text": [
            "2.4.1\n"
          ],
          "name": "stdout"
        }
      ]
    },
    {
      "cell_type": "markdown",
      "metadata": {
        "id": "2RYKumP1o4QS"
      },
      "source": [
        "## 2. Random Data Generation\n",
        "---\n"
      ]
    },
    {
      "cell_type": "markdown",
      "metadata": {
        "id": "wcj_NYGFo8Ec"
      },
      "source": [
        "To generate random data for our model, we must first specify the parameters used in our function."
      ]
    },
    {
      "cell_type": "code",
      "metadata": {
        "id": "n6mDR_zzpKU2"
      },
      "source": [
        "# Define the parameters.\n",
        "weight = 20\n",
        "bias = 10\n",
        "mu = 20\n",
        "sigma = 6\n",
        "m = 1000"
      ],
      "execution_count": 3,
      "outputs": []
    },
    {
      "cell_type": "markdown",
      "metadata": {
        "id": "M5xKXxOzpVtG"
      },
      "source": [
        "The data for implementing logistic regression is then generated randomly with two features, $x_1$ and $x_2$. This function returns a `data` array of shape $(m, 2)$ and a `labels` array of shape $(m, 1)$.\n",
        "\n",
        "The data is generated as follows:\n",
        "\n",
        "*   Feature $x_1$: Chosen uniformly at random in the interval $[0, 1)$.\n",
        "*   Feature $x_2$: Chosen with the formula $x_2 = w * x_1 + b - 1^c * n$, where the \"noise\" `n` is chosen according to the normal distribution with mean $\\mu$ and standard deviation $\\sigma$.\n",
        "*   Class Labels: Choose $c = 0$ with probability $\\frac{1}{2}$ or $c = 1$ with probability $\\frac{1}{2}$."
      ]
    },
    {
      "cell_type": "code",
      "metadata": {
        "id": "A_mYSW2wp4Eo"
      },
      "source": [
        "def get_random_data(w, b, mu, sigma, m):\n",
        "  \"\"\"\n",
        "  Generate random data.\n",
        "\n",
        "  :w: the weigths.\n",
        "  :b: the bias.\n",
        "  :mu: the mean.\n",
        "  :sigma: the standard deviation.\n",
        "  :m: the number of data points.\n",
        "  \"\"\"\n",
        "\n",
        "  data = np.empty([m, 2])\n",
        "  labels = np.empty([m, 1], dtype=int)\n",
        "\n",
        "  for i in range(m):\n",
        "\n",
        "    # Choose either 0 or 1 for the label.\n",
        "    labels[i] = np.random.choice([0, 1], p=[0.5, 0.5])\n",
        "\n",
        "    # Set the first feature.\n",
        "    data[i, 0] = np.random.default_rng().uniform(0, 1)\n",
        "\n",
        "    # Set the second feature.\n",
        "    n = np.random.default_rng().normal(mu, sigma)\n",
        "    data[i, 1] = w * data[i, 0] + b + (-1) ** labels[i] * n\n",
        "\n",
        "  return data, labels"
      ],
      "execution_count": 4,
      "outputs": []
    },
    {
      "cell_type": "code",
      "metadata": {
        "id": "4_O-0wOyqBBS"
      },
      "source": [
        "data, labels = get_random_data(weight, bias, mu, sigma, m)"
      ],
      "execution_count": 5,
      "outputs": []
    },
    {
      "cell_type": "markdown",
      "metadata": {
        "id": "gt-_D5u7qFKp"
      },
      "source": [
        "Then, we can use Matplotlib to display the data generated by our function."
      ]
    },
    {
      "cell_type": "code",
      "metadata": {
        "id": "71MWQx1pqHmo"
      },
      "source": [
        "def display_random_data(data, labels):\n",
        "  \"\"\"\n",
        "  Display the data on a 2-D plot.\n",
        "\n",
        "  :data: the data to be visualized.\n",
        "  :labels: the labels used for coloring.\n",
        "  \"\"\"\n",
        "\n",
        "  # Define the classes and colors.\n",
        "  classes = ['1', '0']\n",
        "  colors = ['red', 'blue']\n",
        "\n",
        "  # Generate the scatter plot.\n",
        "  scatter = plt.scatter(data[:, 0], data[:, 1], c=labels, cmap=matplotlib.colors.ListedColormap(colors))\n",
        "  \n",
        "  # Format the title and axis labels.\n",
        "  plt.title('Random Data for Logistic Regression', fontsize=14)\n",
        "  plt.xlabel(r'$ x_1 $', fontsize=14)\n",
        "  plt.ylabel(r'$ x_2 $', fontsize=14)\n",
        "\n",
        "  # Include a legend.\n",
        "  plt.legend(handles=scatter.legend_elements()[0], labels=classes, fontsize=8)\n",
        "\n",
        "  plt.show()"
      ],
      "execution_count": 6,
      "outputs": []
    },
    {
      "cell_type": "code",
      "metadata": {
        "id": "VilSZSVRqda5",
        "colab": {
          "base_uri": "https://localhost:8080/",
          "height": 301
        },
        "outputId": "2a27f9ff-f803-4485-acc1-126b11694def"
      },
      "source": [
        "display_random_data(data, labels)"
      ],
      "execution_count": 7,
      "outputs": [
        {
          "output_type": "display_data",
          "data": {
            "image/png": "[encoded data removed]",
            "text/plain": [
              "<Figure size 432x288 with 1 Axes>"
            ]
          },
          "metadata": {
            "tags": [],
            "needs_background": "light"
          }
        }
      ]
    },
    {
      "cell_type": "markdown",
      "metadata": {
        "id": "KcDqE1OvqjMp"
      },
      "source": [
        "## 3. Split the Data into Training and Test Sets\n",
        "---"
      ]
    },
    {
      "cell_type": "markdown",
      "metadata": {
        "id": "X_CSy4qBqn_n"
      },
      "source": [
        "Once we have our data generated, we need to split it into training and test sets. Here, we use 80% of our data for training, and the remaining 20% for testing."
      ]
    },
    {
      "cell_type": "code",
      "metadata": {
        "id": "h3xWq5dxqvBv"
      },
      "source": [
        "# Split the data into training and test sets.\n",
        "data_train, data_test, labels_train, labels_test = train_test_split(data, labels, train_size=0.8)"
      ],
      "execution_count": 8,
      "outputs": []
    },
    {
      "cell_type": "markdown",
      "metadata": {
        "id": "SedRzdFcq0uK"
      },
      "source": [
        "## 4. Logistic Regression\n",
        "---"
      ]
    },
    {
      "cell_type": "markdown",
      "metadata": {
        "id": "si4PZrN3q8aY"
      },
      "source": [
        "Now we're ready to implement logistic regression using TensorFlow and Keras. A prediction model is built and trained, and is then displayed with the original data. The loss function used is binary cross-entropy loss."
      ]
    },
    {
      "cell_type": "markdown",
      "metadata": {
        "id": "9XNZyrHyrRJa"
      },
      "source": [
        "We first have to build our model using *Keras*. Here, we use a dense layer with sigmoid activation for our model."
      ]
    },
    {
      "cell_type": "code",
      "metadata": {
        "id": "45856bYGrY0J"
      },
      "source": [
        "def build_model():\n",
        "  \"\"\"\n",
        "  Build the logistic regression model.\n",
        "  \"\"\"\n",
        "\n",
        "  # Build the model.\n",
        "  model = tf.keras.Sequential()\n",
        "\n",
        "  # Add a dense layer with sigmoid activation.\n",
        "  model.add(tf.keras.layers.Dense(1, activation='sigmoid', input_shape=(2,)))\n",
        "\n",
        "  return model"
      ],
      "execution_count": 9,
      "outputs": []
    },
    {
      "cell_type": "code",
      "metadata": {
        "id": "op5GW6K1rZQ4",
        "colab": {
          "base_uri": "https://localhost:8080/"
        },
        "outputId": "46e0d32b-4245-4db0-fb75-afb2eecd768e"
      },
      "source": [
        "model = build_model()\n",
        "model.summary()"
      ],
      "execution_count": 10,
      "outputs": [
        {
          "output_type": "stream",
          "text": [
            "Model: \"sequential\"\n",
            "_________________________________________________________________\n",
            "Layer (type)                 Output Shape              Param #   \n",
            "=================================================================\n",
            "dense (Dense)                (None, 1)                 3         \n",
            "=================================================================\n",
            "Total params: 3\n",
            "Trainable params: 3\n",
            "Non-trainable params: 0\n",
            "_________________________________________________________________\n"
          ],
          "name": "stdout"
        }
      ]
    },
    {
      "cell_type": "markdown",
      "metadata": {
        "id": "O9YTUB41rhpU"
      },
      "source": [
        "Then, we can compile our model using binary cross-entropy loss as our loss function."
      ]
    },
    {
      "cell_type": "code",
      "metadata": {
        "id": "fbsrSauJrojd"
      },
      "source": [
        "def compile_model(model):\n",
        "  \"\"\"\n",
        "  Compile the logistic regression model.\n",
        "  \"\"\"\n",
        "\n",
        "  model.compile(optimizer='rmsprop',\n",
        "                loss='binary_crossentropy',\n",
        "                metrics=['accuracy'])"
      ],
      "execution_count": 11,
      "outputs": []
    },
    {
      "cell_type": "code",
      "metadata": {
        "id": "359NysWirsMr"
      },
      "source": [
        "compile_model(model)"
      ],
      "execution_count": 12,
      "outputs": []
    },
    {
      "cell_type": "markdown",
      "metadata": {
        "id": "G-lInj8drsz7"
      },
      "source": [
        "After compiling the model, we are ready to train it using our data."
      ]
    },
    {
      "cell_type": "code",
      "metadata": {
        "id": "2aWdsXRVrzgx",
        "colab": {
          "base_uri": "https://localhost:8080/"
        },
        "outputId": "eef58109-838a-4b86-8a16-b29012e0e4b7"
      },
      "source": [
        "history = model.fit(data_train, labels_train, epochs=100)"
      ],
      "execution_count": 13,
      "outputs": [
        {
          "output_type": "stream",
          "text": [
            "Epoch 1/100\n",
            "25/25 [==============================] - 0s 1ms/step - loss: 1.2317 - accuracy: 0.7278\n",
            "Epoch 2/100\n",
            "25/25 [==============================] - 0s 1ms/step - loss: 1.1288 - accuracy: 0.7393\n",
            "Epoch 3/100\n",
            "25/25 [==============================] - 0s 1ms/step - loss: 1.0931 - accuracy: 0.7401\n",
            "Epoch 4/100\n",
            "25/25 [==============================] - 0s 1ms/step - loss: 1.0195 - accuracy: 0.7366\n",
            "Epoch 5/100\n",
            "25/25 [==============================] - 0s 1ms/step - loss: 0.9464 - accuracy: 0.7489\n",
            "Epoch 6/100\n",
            "25/25 [==============================] - 0s 1ms/step - loss: 1.0493 - accuracy: 0.7285\n",
            "Epoch 7/100\n",
            "25/25 [==============================] - 0s 2ms/step - loss: 0.8230 - accuracy: 0.7570\n",
            "Epoch 8/100\n",
            "25/25 [==============================] - 0s 1ms/step - loss: 0.8592 - accuracy: 0.7374\n",
            "Epoch 9/100\n",
            "25/25 [==============================] - 0s 1ms/step - loss: 0.7867 - accuracy: 0.7540\n",
            "Epoch 10/100\n",
            "25/25 [==============================] - 0s 1ms/step - loss: 0.7712 - accuracy: 0.7485\n",
            "Epoch 11/100\n",
            "25/25 [==============================] - 0s 1ms/step - loss: 0.7718 - accuracy: 0.7338\n",
            "Epoch 12/100\n",
            "25/25 [==============================] - 0s 1ms/step - loss: 0.6144 - accuracy: 0.7818\n",
            "Epoch 13/100\n",
            "25/25 [==============================] - 0s 2ms/step - loss: 0.5518 - accuracy: 0.7888\n",
            "Epoch 14/100\n",
            "25/25 [==============================] - 0s 1ms/step - loss: 0.5923 - accuracy: 0.7726\n",
            "Epoch 15/100\n",
            "25/25 [==============================] - 0s 1ms/step - loss: 0.5177 - accuracy: 0.7713\n",
            "Epoch 16/100\n",
            "25/25 [==============================] - 0s 1ms/step - loss: 0.4728 - accuracy: 0.7649\n",
            "Epoch 17/100\n",
            "25/25 [==============================] - 0s 1ms/step - loss: 0.4370 - accuracy: 0.7854\n",
            "Epoch 18/100\n",
            "25/25 [==============================] - 0s 1ms/step - loss: 0.4129 - accuracy: 0.7951\n",
            "Epoch 19/100\n",
            "25/25 [==============================] - 0s 2ms/step - loss: 0.3996 - accuracy: 0.8051\n",
            "Epoch 20/100\n",
            "25/25 [==============================] - 0s 1ms/step - loss: 0.3296 - accuracy: 0.8181\n",
            "Epoch 21/100\n",
            "25/25 [==============================] - 0s 1ms/step - loss: 0.3148 - accuracy: 0.8364\n",
            "Epoch 22/100\n",
            "25/25 [==============================] - 0s 1ms/step - loss: 0.2996 - accuracy: 0.8455\n",
            "Epoch 23/100\n",
            "25/25 [==============================] - 0s 1ms/step - loss: 0.2752 - accuracy: 0.8528\n",
            "Epoch 24/100\n",
            "25/25 [==============================] - 0s 1ms/step - loss: 0.2678 - accuracy: 0.8833\n",
            "Epoch 25/100\n",
            "25/25 [==============================] - 0s 2ms/step - loss: 0.2790 - accuracy: 0.8788\n",
            "Epoch 26/100\n",
            "25/25 [==============================] - 0s 1ms/step - loss: 0.2466 - accuracy: 0.8953\n",
            "Epoch 27/100\n",
            "25/25 [==============================] - 0s 1ms/step - loss: 0.2629 - accuracy: 0.8977\n",
            "Epoch 28/100\n",
            "25/25 [==============================] - 0s 1ms/step - loss: 0.2292 - accuracy: 0.9221\n",
            "Epoch 29/100\n",
            "25/25 [==============================] - 0s 1ms/step - loss: 0.2295 - accuracy: 0.9252\n",
            "Epoch 30/100\n",
            "25/25 [==============================] - 0s 1ms/step - loss: 0.2268 - accuracy: 0.9268\n",
            "Epoch 31/100\n",
            "25/25 [==============================] - 0s 1ms/step - loss: 0.2273 - accuracy: 0.9209\n",
            "Epoch 32/100\n",
            "25/25 [==============================] - 0s 1ms/step - loss: 0.2172 - accuracy: 0.9312\n",
            "Epoch 33/100\n",
            "25/25 [==============================] - 0s 1ms/step - loss: 0.2355 - accuracy: 0.9233\n",
            "Epoch 34/100\n",
            "25/25 [==============================] - 0s 2ms/step - loss: 0.2381 - accuracy: 0.9237\n",
            "Epoch 35/100\n",
            "25/25 [==============================] - 0s 1ms/step - loss: 0.1872 - accuracy: 0.9521\n",
            "Epoch 36/100\n",
            "25/25 [==============================] - 0s 1ms/step - loss: 0.2230 - accuracy: 0.9263\n",
            "Epoch 37/100\n",
            "25/25 [==============================] - 0s 2ms/step - loss: 0.1856 - accuracy: 0.9531\n",
            "Epoch 38/100\n",
            "25/25 [==============================] - 0s 1ms/step - loss: 0.1942 - accuracy: 0.9588\n",
            "Epoch 39/100\n",
            "25/25 [==============================] - 0s 1ms/step - loss: 0.1973 - accuracy: 0.9503\n",
            "Epoch 40/100\n",
            "25/25 [==============================] - 0s 1ms/step - loss: 0.1754 - accuracy: 0.9671\n",
            "Epoch 41/100\n",
            "25/25 [==============================] - 0s 1ms/step - loss: 0.1672 - accuracy: 0.9721\n",
            "Epoch 42/100\n",
            "25/25 [==============================] - 0s 1ms/step - loss: 0.1688 - accuracy: 0.9755\n",
            "Epoch 43/100\n",
            "25/25 [==============================] - 0s 2ms/step - loss: 0.1717 - accuracy: 0.9711\n",
            "Epoch 44/100\n",
            "25/25 [==============================] - 0s 1ms/step - loss: 0.1617 - accuracy: 0.9792\n",
            "Epoch 45/100\n",
            "25/25 [==============================] - 0s 1ms/step - loss: 0.1628 - accuracy: 0.9734\n",
            "Epoch 46/100\n",
            "25/25 [==============================] - 0s 1ms/step - loss: 0.1622 - accuracy: 0.9798\n",
            "Epoch 47/100\n",
            "25/25 [==============================] - 0s 2ms/step - loss: 0.1625 - accuracy: 0.9736\n",
            "Epoch 48/100\n",
            "25/25 [==============================] - 0s 1ms/step - loss: 0.1637 - accuracy: 0.9687\n",
            "Epoch 49/100\n",
            "25/25 [==============================] - 0s 1ms/step - loss: 0.1510 - accuracy: 0.9737\n",
            "Epoch 50/100\n",
            "25/25 [==============================] - 0s 1ms/step - loss: 0.1413 - accuracy: 0.9755\n",
            "Epoch 51/100\n",
            "25/25 [==============================] - 0s 1ms/step - loss: 0.1500 - accuracy: 0.9762\n",
            "Epoch 52/100\n",
            "25/25 [==============================] - 0s 1ms/step - loss: 0.1334 - accuracy: 0.9816\n",
            "Epoch 53/100\n",
            "25/25 [==============================] - 0s 1ms/step - loss: 0.1243 - accuracy: 0.9814\n",
            "Epoch 54/100\n",
            "25/25 [==============================] - 0s 1ms/step - loss: 0.1289 - accuracy: 0.9754\n",
            "Epoch 55/100\n",
            "25/25 [==============================] - 0s 1ms/step - loss: 0.1369 - accuracy: 0.9795\n",
            "Epoch 56/100\n",
            "25/25 [==============================] - 0s 1ms/step - loss: 0.1235 - accuracy: 0.9872\n",
            "Epoch 57/100\n",
            "25/25 [==============================] - 0s 1ms/step - loss: 0.1199 - accuracy: 0.9859\n",
            "Epoch 58/100\n",
            "25/25 [==============================] - 0s 1ms/step - loss: 0.1324 - accuracy: 0.9887\n",
            "Epoch 59/100\n",
            "25/25 [==============================] - 0s 1ms/step - loss: 0.1284 - accuracy: 0.9829\n",
            "Epoch 60/100\n",
            "25/25 [==============================] - 0s 1ms/step - loss: 0.1182 - accuracy: 0.9893\n",
            "Epoch 61/100\n",
            "25/25 [==============================] - 0s 1ms/step - loss: 0.1102 - accuracy: 0.9911\n",
            "Epoch 62/100\n",
            "25/25 [==============================] - 0s 1ms/step - loss: 0.1142 - accuracy: 0.9894\n",
            "Epoch 63/100\n",
            "25/25 [==============================] - 0s 1ms/step - loss: 0.1065 - accuracy: 0.9897\n",
            "Epoch 64/100\n",
            "25/25 [==============================] - 0s 1ms/step - loss: 0.1103 - accuracy: 0.9932\n",
            "Epoch 65/100\n",
            "25/25 [==============================] - 0s 1ms/step - loss: 0.1059 - accuracy: 0.9897\n",
            "Epoch 66/100\n",
            "25/25 [==============================] - 0s 1ms/step - loss: 0.0944 - accuracy: 0.9938\n",
            "Epoch 67/100\n",
            "25/25 [==============================] - 0s 1ms/step - loss: 0.1059 - accuracy: 0.9894\n",
            "Epoch 68/100\n",
            "25/25 [==============================] - 0s 1ms/step - loss: 0.0968 - accuracy: 0.9904\n",
            "Epoch 69/100\n",
            "25/25 [==============================] - 0s 1ms/step - loss: 0.0879 - accuracy: 0.9952\n",
            "Epoch 70/100\n",
            "25/25 [==============================] - 0s 1ms/step - loss: 0.0853 - accuracy: 0.9952\n",
            "Epoch 71/100\n",
            "25/25 [==============================] - 0s 1ms/step - loss: 0.0903 - accuracy: 0.9921\n",
            "Epoch 72/100\n",
            "25/25 [==============================] - 0s 1ms/step - loss: 0.0851 - accuracy: 0.9926\n",
            "Epoch 73/100\n",
            "25/25 [==============================] - 0s 1ms/step - loss: 0.0882 - accuracy: 0.9923\n",
            "Epoch 74/100\n",
            "25/25 [==============================] - 0s 1ms/step - loss: 0.0755 - accuracy: 0.9966\n",
            "Epoch 75/100\n",
            "25/25 [==============================] - 0s 1ms/step - loss: 0.0763 - accuracy: 0.9956\n",
            "Epoch 76/100\n",
            "25/25 [==============================] - 0s 1ms/step - loss: 0.0753 - accuracy: 0.9914\n",
            "Epoch 77/100\n",
            "25/25 [==============================] - 0s 1ms/step - loss: 0.0813 - accuracy: 0.9931\n",
            "Epoch 78/100\n",
            "25/25 [==============================] - 0s 1ms/step - loss: 0.0727 - accuracy: 0.9977\n",
            "Epoch 79/100\n",
            "25/25 [==============================] - 0s 1ms/step - loss: 0.0730 - accuracy: 0.9949\n",
            "Epoch 80/100\n",
            "25/25 [==============================] - 0s 1ms/step - loss: 0.0709 - accuracy: 0.9966\n",
            "Epoch 81/100\n",
            "25/25 [==============================] - 0s 2ms/step - loss: 0.0765 - accuracy: 0.9953\n",
            "Epoch 82/100\n",
            "25/25 [==============================] - 0s 1ms/step - loss: 0.0725 - accuracy: 0.9915\n",
            "Epoch 83/100\n",
            "25/25 [==============================] - 0s 1ms/step - loss: 0.0675 - accuracy: 0.9909\n",
            "Epoch 84/100\n",
            "25/25 [==============================] - 0s 1ms/step - loss: 0.0664 - accuracy: 0.9963\n",
            "Epoch 85/100\n",
            "25/25 [==============================] - 0s 1ms/step - loss: 0.0625 - accuracy: 0.9941\n",
            "Epoch 86/100\n",
            "25/25 [==============================] - 0s 1ms/step - loss: 0.0621 - accuracy: 0.9956\n",
            "Epoch 87/100\n",
            "25/25 [==============================] - 0s 1ms/step - loss: 0.0633 - accuracy: 0.9966\n",
            "Epoch 88/100\n",
            "25/25 [==============================] - 0s 1ms/step - loss: 0.0582 - accuracy: 0.9971\n",
            "Epoch 89/100\n",
            "25/25 [==============================] - 0s 1ms/step - loss: 0.0591 - accuracy: 0.9962\n",
            "Epoch 90/100\n",
            "25/25 [==============================] - 0s 1ms/step - loss: 0.0603 - accuracy: 0.9929\n",
            "Epoch 91/100\n",
            "25/25 [==============================] - 0s 1ms/step - loss: 0.0591 - accuracy: 0.9912\n",
            "Epoch 92/100\n",
            "25/25 [==============================] - 0s 1ms/step - loss: 0.0556 - accuracy: 0.9958\n",
            "Epoch 93/100\n",
            "25/25 [==============================] - 0s 1ms/step - loss: 0.0536 - accuracy: 0.9966\n",
            "Epoch 94/100\n",
            "25/25 [==============================] - 0s 1ms/step - loss: 0.0495 - accuracy: 0.9984\n",
            "Epoch 95/100\n",
            "25/25 [==============================] - 0s 1ms/step - loss: 0.0574 - accuracy: 0.9928\n",
            "Epoch 96/100\n",
            "25/25 [==============================] - 0s 1ms/step - loss: 0.0515 - accuracy: 0.9975\n",
            "Epoch 97/100\n",
            "25/25 [==============================] - 0s 1ms/step - loss: 0.0527 - accuracy: 0.9964\n",
            "Epoch 98/100\n",
            "25/25 [==============================] - 0s 1ms/step - loss: 0.0481 - accuracy: 0.9973\n",
            "Epoch 99/100\n",
            "25/25 [==============================] - 0s 1ms/step - loss: 0.0471 - accuracy: 0.9957\n",
            "Epoch 100/100\n",
            "25/25 [==============================] - 0s 1ms/step - loss: 0.0535 - accuracy: 0.9895\n"
          ],
          "name": "stdout"
        }
      ]
    },
    {
      "cell_type": "markdown",
      "metadata": {
        "id": "DldqbXjgr8Hw"
      },
      "source": [
        "We then need to extract the weight, or $\\theta$, values produced by our model. Here, `get_weights()` is used to get the weights and bias into an array."
      ]
    },
    {
      "cell_type": "code",
      "metadata": {
        "id": "u3aF_G4lsHT6",
        "colab": {
          "base_uri": "https://localhost:8080/"
        },
        "outputId": "9c648981-6944-4a86-cfe9-516bd6361838"
      },
      "source": [
        "weights = model.get_weights()\n",
        "\n",
        "w1 = weights[0][0][0]\n",
        "w2 = weights[0][1][0]\n",
        "b = weights[1][0]\n",
        "\n",
        "print(w1, w2, b)"
      ],
      "execution_count": 14,
      "outputs": [
        {
          "output_type": "stream",
          "text": [
            "1.9290528 -0.19694744 2.3408415\n"
          ],
          "name": "stdout"
        }
      ]
    },
    {
      "cell_type": "markdown",
      "metadata": {
        "id": "80Q8n8J6sUeI"
      },
      "source": [
        "Using the testing data and labels, the model can then be analyzed to measure the total loss and accuracy."
      ]
    },
    {
      "cell_type": "code",
      "metadata": {
        "id": "tuI1RWvZsbEZ",
        "colab": {
          "base_uri": "https://localhost:8080/"
        },
        "outputId": "b197187c-d2cd-4566-f837-dc0c6a7a112d"
      },
      "source": [
        "results = model.evaluate(data_test, labels_test)"
      ],
      "execution_count": 15,
      "outputs": [
        {
          "output_type": "stream",
          "text": [
            "7/7 [==============================] - 0s 2ms/step - loss: 0.0529 - accuracy: 0.9900\n"
          ],
          "name": "stdout"
        }
      ]
    },
    {
      "cell_type": "markdown",
      "metadata": {
        "id": "S0SoC7HkshAm"
      },
      "source": [
        "Once our model is trained, we can visualize it with the original data. We can use the model to get a new separating line. To it, we use the function `get_separating_line()`, which sets $w_1x_1 + w_2x_2 + b = 0$. From there, it simply solves for $x_2$ to get the sepatating line when the sigmoid function is $1/2$."
      ]
    },
    {
      "cell_type": "code",
      "metadata": {
        "id": "oC54q8W8sv9F"
      },
      "source": [
        "def get_separating_line(w1, w2, b):\n",
        "  \"\"\"\n",
        "  Generate a separating line based on the weights.\n",
        "\n",
        "  :w1: the first weight.\n",
        "  :w2: the second weight.\n",
        "  :b: the bias.\n",
        "  \"\"\"\n",
        "\n",
        "  return -(w1 * 0.5 + b) / w2"
      ],
      "execution_count": 16,
      "outputs": []
    },
    {
      "cell_type": "code",
      "metadata": {
        "id": "u4R0JRHAs056"
      },
      "source": [
        "def display_model_data(data, labels):\n",
        "  \"\"\"\n",
        "  Display the data on a 2-D plot.\n",
        "\n",
        "  :data: the data to be visualized.\n",
        "  :labels: the labels used for coloring.\n",
        "  \"\"\"\n",
        "\n",
        "  # Define the classes and colors.\n",
        "  classes = ['0', '1']\n",
        "  colors = ['red', 'blue']\n",
        "\n",
        "  # Generate the scatter plot.\n",
        "  scatter = plt.scatter(data[:, 0], data[:, 1], c=labels, cmap=matplotlib.colors.ListedColormap(colors))\n",
        "  \n",
        "  # Format the title and axis labels\n",
        "  plt.title('Trained Model', fontsize=14)\n",
        "  plt.xlabel('$ x_1 $', fontsize=14)\n",
        "  plt.ylabel('$ x_2 $', fontsize=14)\n",
        "\n",
        "  # Inlcude a legend.\n",
        "  plt.legend(handles=scatter.legend_elements()[0], labels=classes, fontsize=8)\n",
        "\n",
        "  # Plot the true line used to generate the data.\n",
        "  x = np.linspace(0,1,100)\n",
        "  y = weight * x + bias\n",
        "  plt.plot(x, y)\n",
        "\n",
        "  # Plot the separating line of the trained model.\n",
        "  separating_line = get_separating_line(w1, w2, b)\n",
        "  print(separating_line)\n",
        "  y = separating_line * x + b\n",
        "  plt.plot(x, y)\n",
        "\n",
        "  plt.show()"
      ],
      "execution_count": 17,
      "outputs": []
    },
    {
      "cell_type": "code",
      "metadata": {
        "id": "-GiAL8Abs7z2",
        "colab": {
          "base_uri": "https://localhost:8080/",
          "height": 318
        },
        "outputId": "0c87bea2-c06f-41fc-fc3d-2210289fc29c"
      },
      "source": [
        "display_model_data(data, labels)"
      ],
      "execution_count": 18,
      "outputs": [
        {
          "output_type": "stream",
          "text": [
            "16.782995189726137\n"
          ],
          "name": "stdout"
        },
        {
          "output_type": "display_data",
          "data": {
            "image/png": "[encoded data removed]",
            "text/plain": [
              "<Figure size 432x288 with 1 Axes>"
            ]
          },
          "metadata": {
            "tags": [],
            "needs_background": "light"
          }
        }
      ]
    },
    {
      "cell_type": "markdown",
      "metadata": {
        "id": "a3oNpvwktEvX"
      },
      "source": [
        "Finally, we can visualize the model with a heatmap, using the original weights and bias and the sigmoid function.\n"
      ]
    },
    {
      "cell_type": "code",
      "metadata": {
        "id": "HAh88WFUtKLg"
      },
      "source": [
        "def sigmoid(x):\n",
        "  \"\"\"\n",
        "  Compute the sigmoid.\n",
        "\n",
        "  :x: the original value.\n",
        "  \"\"\"\n",
        "  \n",
        "  return 1 / (1 + np.exp(-x))"
      ],
      "execution_count": 19,
      "outputs": []
    },
    {
      "cell_type": "code",
      "metadata": {
        "id": "i-WxVM2etMMp"
      },
      "source": [
        "def display_heatmap(w1, w2, b):\n",
        "  \"\"\"\n",
        "  Display the data on a 2-D heatmap.\n",
        "\n",
        "  :w1: the first weight.\n",
        "  :w2: the second weight.\n",
        "  :b: the bias.\n",
        "  \"\"\"\n",
        "\n",
        "  # Get the data for the heatmap.\n",
        "  x1, x2 = np.meshgrid(np.linspace(0, 1, 200), np.linspace(-20, 60, 200))\n",
        "  z = sigmoid(w1 * x1 + w2 * x2 + b)\n",
        "\n",
        "  # Set the bounds for z.\n",
        "  z = z[:-1, :-1]\n",
        "  z_min, z_max = -np.abs(z).max(), np.abs(z).max()\n",
        "\n",
        "  # Generate the heatmap.\n",
        "  fig, ax = plt.subplots()\n",
        "  c = ax.pcolormesh(x1, x2, z, cmap='RdBu', vmin=0, vmax=1)\n",
        "  ax.set_title('Trained Model (Heatmap)', fontsize=14)\n",
        "  fig.colorbar(c, ax=ax)\n",
        "  plt.xlabel(r'$ x_1 $', fontsize=14)\n",
        "  plt.ylabel(r'$ x_2 $', fontsize=14)\n",
        "  \n",
        "  # Set the limits of the plot.\n",
        "  ax.axis([x1.min(), x1.max(), x2.min(), x2.max()])\n",
        "\n",
        "  plt.show()"
      ],
      "execution_count": 20,
      "outputs": []
    },
    {
      "cell_type": "code",
      "metadata": {
        "id": "lQNx6GQrtQ7H",
        "colab": {
          "base_uri": "https://localhost:8080/",
          "height": 301
        },
        "outputId": "27ff8694-9f4b-4413-94c5-41ce618c886e"
      },
      "source": [
        "display_heatmap(w1, w2, b)"
      ],
      "execution_count": 21,
      "outputs": [
        {
          "output_type": "display_data",
          "data": {
            "image/png": "[encoded data removed]",
            "text/plain": [
              "<Figure size 432x288 with 2 Axes>"
            ]
          },
          "metadata": {
            "tags": [],
            "needs_background": "light"
          }
        }
      ]
    }
  ]
}