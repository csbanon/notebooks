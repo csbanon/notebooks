{
  "nbformat": 4,
  "nbformat_minor": 0,
  "metadata": {
    "colab": {
      "name": "Logistic Regression Implementation with TensorFlow and Keras",
      "provenance": [],
      "authorship_tag": "ABX9TyOgcmSw4atWdttTOOcn30Im"
    },
    "kernelspec": {
      "name": "python3",
      "display_name": "Python 3"
    }
  },
  "cells": [
    {
      "cell_type": "markdown",
      "metadata": {
        "id": "oRTwweeen8Mu"
      },
      "source": [
        "# Logistic Regression Implementation with TensorFlow and Keras\n",
        "*By Carlos Santiago Bañón*\n",
        "\n",
        "**Year:** 2020\n",
        "\n",
        "**Technologies:** Python, NumPy, Matplotlib, TensorFlow, Keras, Scikit-Learn\n",
        "\n",
        "**Discipline(s):** Machine Learning\n",
        "\n",
        "**Keywords:** `binary-classification`, `classification`, `deep-learning`, `logistic-regression`, `machine-learning`"
      ]
    },
    {
      "cell_type": "markdown",
      "metadata": {
        "id": "ugwJh0hZoKzN"
      },
      "source": [
        "This notebook proivdes an implementation of binary classification with logistic regression using TensorFlow and Keras."
      ]
    },
    {
      "cell_type": "markdown",
      "metadata": {
        "id": "bfTSzJdhoU0Z"
      },
      "source": [
        "## 1. Import Statements\n",
        "---"
      ]
    },
    {
      "cell_type": "code",
      "metadata": {
        "id": "6jxE_o4gogyV"
      },
      "source": [
        "import numpy as np\n",
        "import matplotlib\n",
        "import matplotlib.pyplot as plt\n",
        "\n",
        "from sklearn.model_selection import train_test_split"
      ],
      "execution_count": 1,
      "outputs": []
    },
    {
      "cell_type": "code",
      "metadata": {
        "id": "rXvoyoOHonoQ",
        "outputId": "56da9580-bcb3-4b6d-f888-edb4e8c433f5",
        "colab": {
          "base_uri": "https://localhost:8080/"
        }
      },
      "source": [
        "%tensorflow_version 2.x\n",
        "import tensorflow as tf\n",
        "print(tf.__version__)"
      ],
      "execution_count": 2,
      "outputs": [
        {
          "output_type": "stream",
          "text": [
            "2.3.0\n"
          ],
          "name": "stdout"
        }
      ]
    },
    {
      "cell_type": "markdown",
      "metadata": {
        "id": "2RYKumP1o4QS"
      },
      "source": [
        "## 2. Random Data Generation\n",
        "---\n"
      ]
    },
    {
      "cell_type": "markdown",
      "metadata": {
        "id": "wcj_NYGFo8Ec"
      },
      "source": [
        "To generate random data for our model, we must first specify the parameters used in our function."
      ]
    },
    {
      "cell_type": "code",
      "metadata": {
        "id": "n6mDR_zzpKU2"
      },
      "source": [
        "# Define the parameters.\n",
        "weight = 20\n",
        "bias = 10\n",
        "mu = 20\n",
        "sigma = 6\n",
        "m = 1000"
      ],
      "execution_count": 3,
      "outputs": []
    },
    {
      "cell_type": "markdown",
      "metadata": {
        "id": "M5xKXxOzpVtG"
      },
      "source": [
        "The data for implementing logistic regression is then generated randomly with two features, $x_1$ and $x_2$. This function returns a `data` array of shape $(m, 2)$ and a `labels` array of shape $(m, 1)$.\n",
        "\n",
        "The data is generated as follows:\n",
        "\n",
        "*   Feature $x_1$: Chosen uniformly at random in the interval $[0, 1)$.\n",
        "*   Feature $x_2$: Chosen with the formula $x_2 = w * x_1 + b - 1^c * n$, where the \"noise\" `n` is chosen according to the normal distribution with mean $\\mu$ and standard deviation $\\sigma$.\n",
        "*   Class Labels: Choose $c = 0$ with probability $\\frac{1}{2}$ or $c = 1$ with probability $\\frac{1}{2}$."
      ]
    },
    {
      "cell_type": "code",
      "metadata": {
        "id": "A_mYSW2wp4Eo"
      },
      "source": [
        "def get_random_data(w, b, mu, sigma, m):\n",
        "  \"\"\"\n",
        "  Generate random data.\n",
        "\n",
        "  :w: the weigths.\n",
        "  :b: the bias.\n",
        "  :mu: the mean.\n",
        "  :sigma: the standard deviation.\n",
        "  :m: the number of data points.\n",
        "  \"\"\"\n",
        "\n",
        "  data = np.empty([m, 2])\n",
        "  labels = np.empty([m, 1], dtype=int)\n",
        "\n",
        "  for i in range(m):\n",
        "\n",
        "    # Choose either 0 or 1 for the label.\n",
        "    labels[i] = np.random.choice([0, 1], p=[0.5, 0.5])\n",
        "\n",
        "    # Set the first feature.\n",
        "    data[i, 0] = np.random.default_rng().uniform(0, 1)\n",
        "\n",
        "    # Set the second feature.\n",
        "    n = np.random.default_rng().normal(mu, sigma)\n",
        "    data[i, 1] = w * data[i, 0] + b + (-1) ** labels[i] * n\n",
        "\n",
        "  return data, labels"
      ],
      "execution_count": 4,
      "outputs": []
    },
    {
      "cell_type": "code",
      "metadata": {
        "id": "4_O-0wOyqBBS"
      },
      "source": [
        "data, labels = get_random_data(weight, bias, mu, sigma, m)"
      ],
      "execution_count": 5,
      "outputs": []
    },
    {
      "cell_type": "markdown",
      "metadata": {
        "id": "gt-_D5u7qFKp"
      },
      "source": [
        "Then, we can use Matplotlib to display the data generated by our function."
      ]
    },
    {
      "cell_type": "code",
      "metadata": {
        "id": "71MWQx1pqHmo"
      },
      "source": [
        "def display_random_data(data, labels):\n",
        "  \"\"\"\n",
        "  Display the data on a 2-D plot.\n",
        "\n",
        "  :data: the data to be visualized.\n",
        "  :labels: the labels used for coloring.\n",
        "  \"\"\"\n",
        "\n",
        "  # Define the classes and colors.\n",
        "  classes = ['1', '0']\n",
        "  colors = ['red', 'blue']\n",
        "\n",
        "  # Generate the scatter plot.\n",
        "  scatter = plt.scatter(data[:, 0], data[:, 1], c=labels, cmap=matplotlib.colors.ListedColormap(colors))\n",
        "  \n",
        "  # Format the title and axis labels.\n",
        "  plt.title('Random Data for Logistic Regression', fontsize=14)\n",
        "  plt.xlabel(r'$ x_1 $', fontsize=14)\n",
        "  plt.ylabel(r'$ x_2 $', fontsize=14)\n",
        "\n",
        "  # Include a legend.\n",
        "  plt.legend(handles=scatter.legend_elements()[0], labels=classes, fontsize=8)\n",
        "\n",
        "  plt.show()"
      ],
      "execution_count": 6,
      "outputs": []
    },
    {
      "cell_type": "code",
      "metadata": {
        "id": "VilSZSVRqda5",
        "outputId": "239fd4a5-bc92-4e7c-b413-efe09b04167b",
        "colab": {
          "base_uri": "https://localhost:8080/",
          "height": 301
        }
      },
      "source": [
        "display_random_data(data, labels)"
      ],
      "execution_count": 7,
      "outputs": [
        {
          "output_type": "display_data",
          "data": {
            "image/png": "[encoded data removed]",
            "text/plain": [
              "<Figure size 432x288 with 1 Axes>"
            ]
          },
          "metadata": {
            "tags": [],
            "needs_background": "light"
          }
        }
      ]
    },
    {
      "cell_type": "markdown",
      "metadata": {
        "id": "KcDqE1OvqjMp"
      },
      "source": [
        "## 3. Split the Data into Training and Test Sets\n",
        "---"
      ]
    },
    {
      "cell_type": "markdown",
      "metadata": {
        "id": "X_CSy4qBqn_n"
      },
      "source": [
        "Once we have our data generated, we need to split it into training and test sets. Here, we use 80% of our data for training, and the remaining 20% for testing."
      ]
    },
    {
      "cell_type": "code",
      "metadata": {
        "id": "h3xWq5dxqvBv"
      },
      "source": [
        "# Split the data into training and test sets.\n",
        "data_train, data_test, labels_train, labels_test = train_test_split(data, labels, train_size=0.8)"
      ],
      "execution_count": 8,
      "outputs": []
    },
    {
      "cell_type": "markdown",
      "metadata": {
        "id": "SedRzdFcq0uK"
      },
      "source": [
        "## 4. Logistic Regression\n",
        "---"
      ]
    },
    {
      "cell_type": "markdown",
      "metadata": {
        "id": "si4PZrN3q8aY"
      },
      "source": [
        "Now we're ready to implement logistic regression using TensorFlow and Keras. A prediction model is built and trained, and is then displayed with the original data. The loss function used is binary cross-entropy loss."
      ]
    },
    {
      "cell_type": "markdown",
      "metadata": {
        "id": "9XNZyrHyrRJa"
      },
      "source": [
        "We first have to build our model using *Keras*. Here, we use a dense layer with sigmoid activation for our model."
      ]
    },
    {
      "cell_type": "code",
      "metadata": {
        "id": "45856bYGrY0J"
      },
      "source": [
        "def build_model():\n",
        "  \"\"\"\n",
        "  Build the logistic regression model.\n",
        "  \"\"\"\n",
        "\n",
        "  # Build the model.\n",
        "  model = tf.keras.Sequential()\n",
        "\n",
        "  # Add a dense layer with sigmoid activation.\n",
        "  model.add(tf.keras.layers.Dense(1, activation='sigmoid', input_shape=(2,)))\n",
        "\n",
        "  return model"
      ],
      "execution_count": 9,
      "outputs": []
    },
    {
      "cell_type": "code",
      "metadata": {
        "id": "op5GW6K1rZQ4",
        "outputId": "12da00c3-20f4-4b8e-e111-94be56b124c1",
        "colab": {
          "base_uri": "https://localhost:8080/"
        }
      },
      "source": [
        "model = build_model()\n",
        "model.summary()"
      ],
      "execution_count": 10,
      "outputs": [
        {
          "output_type": "stream",
          "text": [
            "Model: \"sequential\"\n",
            "_________________________________________________________________\n",
            "Layer (type)                 Output Shape              Param #   \n",
            "=================================================================\n",
            "dense (Dense)                (None, 1)                 3         \n",
            "=================================================================\n",
            "Total params: 3\n",
            "Trainable params: 3\n",
            "Non-trainable params: 0\n",
            "_________________________________________________________________\n"
          ],
          "name": "stdout"
        }
      ]
    },
    {
      "cell_type": "markdown",
      "metadata": {
        "id": "O9YTUB41rhpU"
      },
      "source": [
        "Then, we can compile our model using binary cross-entropy loss as our loss function."
      ]
    },
    {
      "cell_type": "code",
      "metadata": {
        "id": "fbsrSauJrojd"
      },
      "source": [
        "def compile_model(model):\n",
        "  \"\"\"\n",
        "  Compile the logistic regression model.\n",
        "  \"\"\"\n",
        "\n",
        "  model.compile(optimizer='rmsprop',\n",
        "                loss='binary_crossentropy',\n",
        "                metrics=['accuracy'])"
      ],
      "execution_count": 11,
      "outputs": []
    },
    {
      "cell_type": "code",
      "metadata": {
        "id": "359NysWirsMr"
      },
      "source": [
        "compile_model(model)"
      ],
      "execution_count": 12,
      "outputs": []
    },
    {
      "cell_type": "markdown",
      "metadata": {
        "id": "G-lInj8drsz7"
      },
      "source": [
        "After compiling the model, we are ready to train it using our data."
      ]
    },
    {
      "cell_type": "code",
      "metadata": {
        "id": "2aWdsXRVrzgx",
        "outputId": "bf11f3e4-4c3f-450e-85a4-f38d523fde99",
        "colab": {
          "base_uri": "https://localhost:8080/"
        }
      },
      "source": [
        "history = model.fit(data_train, labels_train, epochs=250)"
      ],
      "execution_count": 13,
      "outputs": [
        {
          "output_type": "stream",
          "text": [
            "Epoch 1/250\n",
            "25/25 [==============================] - 0s 961us/step - loss: 7.3881 - accuracy: 0.2475\n",
            "Epoch 2/250\n",
            "25/25 [==============================] - 0s 1ms/step - loss: 6.7901 - accuracy: 0.2475\n",
            "Epoch 3/250\n",
            "25/25 [==============================] - 0s 1ms/step - loss: 6.2475 - accuracy: 0.2475\n",
            "Epoch 4/250\n",
            "25/25 [==============================] - 0s 949us/step - loss: 5.6898 - accuracy: 0.2475\n",
            "Epoch 5/250\n",
            "25/25 [==============================] - 0s 956us/step - loss: 5.1353 - accuracy: 0.2475\n",
            "Epoch 6/250\n",
            "25/25 [==============================] - 0s 824us/step - loss: 4.5903 - accuracy: 0.2475\n",
            "Epoch 7/250\n",
            "25/25 [==============================] - 0s 865us/step - loss: 4.0467 - accuracy: 0.2463\n",
            "Epoch 8/250\n",
            "25/25 [==============================] - 0s 1ms/step - loss: 3.5047 - accuracy: 0.2450\n",
            "Epoch 9/250\n",
            "25/25 [==============================] - 0s 953us/step - loss: 2.9606 - accuracy: 0.2425\n",
            "Epoch 10/250\n",
            "25/25 [==============================] - 0s 965us/step - loss: 2.4294 - accuracy: 0.2350\n",
            "Epoch 11/250\n",
            "25/25 [==============================] - 0s 1ms/step - loss: 1.9271 - accuracy: 0.2300\n",
            "Epoch 12/250\n",
            "25/25 [==============================] - 0s 992us/step - loss: 1.4486 - accuracy: 0.2200\n",
            "Epoch 13/250\n",
            "25/25 [==============================] - 0s 977us/step - loss: 1.0438 - accuracy: 0.2000\n",
            "Epoch 14/250\n",
            "25/25 [==============================] - 0s 1ms/step - loss: 0.7451 - accuracy: 0.3625\n",
            "Epoch 15/250\n",
            "25/25 [==============================] - 0s 1ms/step - loss: 0.5618 - accuracy: 0.6600\n",
            "Epoch 16/250\n",
            "25/25 [==============================] - 0s 936us/step - loss: 0.4583 - accuracy: 0.7425\n",
            "Epoch 17/250\n",
            "25/25 [==============================] - 0s 996us/step - loss: 0.4031 - accuracy: 0.7812\n",
            "Epoch 18/250\n",
            "25/25 [==============================] - 0s 908us/step - loss: 0.3736 - accuracy: 0.8012\n",
            "Epoch 19/250\n",
            "25/25 [==============================] - 0s 898us/step - loss: 0.3571 - accuracy: 0.8062\n",
            "Epoch 20/250\n",
            "25/25 [==============================] - 0s 924us/step - loss: 0.3471 - accuracy: 0.8150\n",
            "Epoch 21/250\n",
            "25/25 [==============================] - 0s 973us/step - loss: 0.3387 - accuracy: 0.8238\n",
            "Epoch 22/250\n",
            "25/25 [==============================] - 0s 991us/step - loss: 0.3307 - accuracy: 0.8288\n",
            "Epoch 23/250\n",
            "25/25 [==============================] - 0s 875us/step - loss: 0.3231 - accuracy: 0.8363\n",
            "Epoch 24/250\n",
            "25/25 [==============================] - 0s 1ms/step - loss: 0.3156 - accuracy: 0.8438\n",
            "Epoch 25/250\n",
            "25/25 [==============================] - 0s 1ms/step - loss: 0.3081 - accuracy: 0.8512\n",
            "Epoch 26/250\n",
            "25/25 [==============================] - 0s 1ms/step - loss: 0.3009 - accuracy: 0.8562\n",
            "Epoch 27/250\n",
            "25/25 [==============================] - 0s 1ms/step - loss: 0.2939 - accuracy: 0.8612\n",
            "Epoch 28/250\n",
            "25/25 [==============================] - 0s 995us/step - loss: 0.2870 - accuracy: 0.8675\n",
            "Epoch 29/250\n",
            "25/25 [==============================] - 0s 960us/step - loss: 0.2803 - accuracy: 0.8725\n",
            "Epoch 30/250\n",
            "25/25 [==============================] - 0s 967us/step - loss: 0.2737 - accuracy: 0.8788\n",
            "Epoch 31/250\n",
            "25/25 [==============================] - 0s 923us/step - loss: 0.2671 - accuracy: 0.8900\n",
            "Epoch 32/250\n",
            "25/25 [==============================] - 0s 1ms/step - loss: 0.2607 - accuracy: 0.8913\n",
            "Epoch 33/250\n",
            "25/25 [==============================] - 0s 891us/step - loss: 0.2546 - accuracy: 0.9050\n",
            "Epoch 34/250\n",
            "25/25 [==============================] - 0s 1ms/step - loss: 0.2484 - accuracy: 0.9100\n",
            "Epoch 35/250\n",
            "25/25 [==============================] - 0s 986us/step - loss: 0.2425 - accuracy: 0.9150\n",
            "Epoch 36/250\n",
            "25/25 [==============================] - 0s 924us/step - loss: 0.2367 - accuracy: 0.9200\n",
            "Epoch 37/250\n",
            "25/25 [==============================] - 0s 1ms/step - loss: 0.2311 - accuracy: 0.9237\n",
            "Epoch 38/250\n",
            "25/25 [==============================] - 0s 922us/step - loss: 0.2254 - accuracy: 0.9287\n",
            "Epoch 39/250\n",
            "25/25 [==============================] - 0s 951us/step - loss: 0.2200 - accuracy: 0.9362\n",
            "Epoch 40/250\n",
            "25/25 [==============================] - 0s 975us/step - loss: 0.2147 - accuracy: 0.9375\n",
            "Epoch 41/250\n",
            "25/25 [==============================] - 0s 997us/step - loss: 0.2096 - accuracy: 0.9450\n",
            "Epoch 42/250\n",
            "25/25 [==============================] - 0s 1ms/step - loss: 0.2044 - accuracy: 0.9450\n",
            "Epoch 43/250\n",
            "25/25 [==============================] - 0s 1ms/step - loss: 0.1995 - accuracy: 0.9488\n",
            "Epoch 44/250\n",
            "25/25 [==============================] - 0s 972us/step - loss: 0.1946 - accuracy: 0.9525\n",
            "Epoch 45/250\n",
            "25/25 [==============================] - 0s 970us/step - loss: 0.1899 - accuracy: 0.9538\n",
            "Epoch 46/250\n",
            "25/25 [==============================] - 0s 851us/step - loss: 0.1854 - accuracy: 0.9600\n",
            "Epoch 47/250\n",
            "25/25 [==============================] - 0s 1ms/step - loss: 0.1808 - accuracy: 0.9613\n",
            "Epoch 48/250\n",
            "25/25 [==============================] - 0s 835us/step - loss: 0.1765 - accuracy: 0.9675\n",
            "Epoch 49/250\n",
            "25/25 [==============================] - 0s 1ms/step - loss: 0.1722 - accuracy: 0.9688\n",
            "Epoch 50/250\n",
            "25/25 [==============================] - 0s 1ms/step - loss: 0.1680 - accuracy: 0.9688\n",
            "Epoch 51/250\n",
            "25/25 [==============================] - 0s 1ms/step - loss: 0.1640 - accuracy: 0.9737\n",
            "Epoch 52/250\n",
            "25/25 [==============================] - 0s 930us/step - loss: 0.1601 - accuracy: 0.9712\n",
            "Epoch 53/250\n",
            "25/25 [==============================] - 0s 964us/step - loss: 0.1562 - accuracy: 0.9787\n",
            "Epoch 54/250\n",
            "25/25 [==============================] - 0s 967us/step - loss: 0.1524 - accuracy: 0.9775\n",
            "Epoch 55/250\n",
            "25/25 [==============================] - 0s 882us/step - loss: 0.1487 - accuracy: 0.9800\n",
            "Epoch 56/250\n",
            "25/25 [==============================] - 0s 1ms/step - loss: 0.1451 - accuracy: 0.9800\n",
            "Epoch 57/250\n",
            "25/25 [==============================] - 0s 943us/step - loss: 0.1417 - accuracy: 0.9812\n",
            "Epoch 58/250\n",
            "25/25 [==============================] - 0s 948us/step - loss: 0.1382 - accuracy: 0.9812\n",
            "Epoch 59/250\n",
            "25/25 [==============================] - 0s 1ms/step - loss: 0.1350 - accuracy: 0.9862\n",
            "Epoch 60/250\n",
            "25/25 [==============================] - 0s 1ms/step - loss: 0.1318 - accuracy: 0.9825\n",
            "Epoch 61/250\n",
            "25/25 [==============================] - 0s 958us/step - loss: 0.1287 - accuracy: 0.9862\n",
            "Epoch 62/250\n",
            "25/25 [==============================] - 0s 999us/step - loss: 0.1257 - accuracy: 0.9862\n",
            "Epoch 63/250\n",
            "25/25 [==============================] - 0s 1ms/step - loss: 0.1227 - accuracy: 0.9862\n",
            "Epoch 64/250\n",
            "25/25 [==============================] - 0s 975us/step - loss: 0.1197 - accuracy: 0.9887\n",
            "Epoch 65/250\n",
            "25/25 [==============================] - 0s 1ms/step - loss: 0.1168 - accuracy: 0.9875\n",
            "Epoch 66/250\n",
            "25/25 [==============================] - 0s 984us/step - loss: 0.1139 - accuracy: 0.9900\n",
            "Epoch 67/250\n",
            "25/25 [==============================] - 0s 1ms/step - loss: 0.1113 - accuracy: 0.9912\n",
            "Epoch 68/250\n",
            "25/25 [==============================] - 0s 1ms/step - loss: 0.1087 - accuracy: 0.9925\n",
            "Epoch 69/250\n",
            "25/25 [==============================] - 0s 1ms/step - loss: 0.1062 - accuracy: 0.9912\n",
            "Epoch 70/250\n",
            "25/25 [==============================] - 0s 921us/step - loss: 0.1037 - accuracy: 0.9925\n",
            "Epoch 71/250\n",
            "25/25 [==============================] - 0s 964us/step - loss: 0.1014 - accuracy: 0.9925\n",
            "Epoch 72/250\n",
            "25/25 [==============================] - 0s 985us/step - loss: 0.0990 - accuracy: 0.9912\n",
            "Epoch 73/250\n",
            "25/25 [==============================] - 0s 876us/step - loss: 0.0967 - accuracy: 0.9925\n",
            "Epoch 74/250\n",
            "25/25 [==============================] - 0s 932us/step - loss: 0.0944 - accuracy: 0.9925\n",
            "Epoch 75/250\n",
            "25/25 [==============================] - 0s 881us/step - loss: 0.0922 - accuracy: 0.9937\n",
            "Epoch 76/250\n",
            "25/25 [==============================] - 0s 1ms/step - loss: 0.0902 - accuracy: 0.9937\n",
            "Epoch 77/250\n",
            "25/25 [==============================] - 0s 1ms/step - loss: 0.0880 - accuracy: 0.9937\n",
            "Epoch 78/250\n",
            "25/25 [==============================] - 0s 1ms/step - loss: 0.0861 - accuracy: 0.9937\n",
            "Epoch 79/250\n",
            "25/25 [==============================] - 0s 1ms/step - loss: 0.0842 - accuracy: 0.9937\n",
            "Epoch 80/250\n",
            "25/25 [==============================] - 0s 1ms/step - loss: 0.0822 - accuracy: 0.9937\n",
            "Epoch 81/250\n",
            "25/25 [==============================] - 0s 1ms/step - loss: 0.0805 - accuracy: 0.9937\n",
            "Epoch 82/250\n",
            "25/25 [==============================] - 0s 1ms/step - loss: 0.0786 - accuracy: 0.9937\n",
            "Epoch 83/250\n",
            "25/25 [==============================] - 0s 1ms/step - loss: 0.0768 - accuracy: 0.9937\n",
            "Epoch 84/250\n",
            "25/25 [==============================] - 0s 900us/step - loss: 0.0752 - accuracy: 0.9937\n",
            "Epoch 85/250\n",
            "25/25 [==============================] - 0s 894us/step - loss: 0.0735 - accuracy: 0.9937\n",
            "Epoch 86/250\n",
            "25/25 [==============================] - 0s 889us/step - loss: 0.0718 - accuracy: 0.9937\n",
            "Epoch 87/250\n",
            "25/25 [==============================] - 0s 947us/step - loss: 0.0702 - accuracy: 0.9975\n",
            "Epoch 88/250\n",
            "25/25 [==============================] - 0s 1ms/step - loss: 0.0687 - accuracy: 0.9950\n",
            "Epoch 89/250\n",
            "25/25 [==============================] - 0s 1ms/step - loss: 0.0671 - accuracy: 0.9975\n",
            "Epoch 90/250\n",
            "25/25 [==============================] - 0s 1ms/step - loss: 0.0656 - accuracy: 0.9962\n",
            "Epoch 91/250\n",
            "25/25 [==============================] - 0s 1ms/step - loss: 0.0642 - accuracy: 0.9975\n",
            "Epoch 92/250\n",
            "25/25 [==============================] - 0s 1ms/step - loss: 0.0628 - accuracy: 0.9987\n",
            "Epoch 93/250\n",
            "25/25 [==============================] - 0s 950us/step - loss: 0.0614 - accuracy: 0.9975\n",
            "Epoch 94/250\n",
            "25/25 [==============================] - 0s 898us/step - loss: 0.0601 - accuracy: 0.9987\n",
            "Epoch 95/250\n",
            "25/25 [==============================] - 0s 996us/step - loss: 0.0588 - accuracy: 0.9987\n",
            "Epoch 96/250\n",
            "25/25 [==============================] - 0s 956us/step - loss: 0.0575 - accuracy: 0.9987\n",
            "Epoch 97/250\n",
            "25/25 [==============================] - 0s 887us/step - loss: 0.0563 - accuracy: 0.9987\n",
            "Epoch 98/250\n",
            "25/25 [==============================] - 0s 1ms/step - loss: 0.0552 - accuracy: 0.9987\n",
            "Epoch 99/250\n",
            "25/25 [==============================] - 0s 1ms/step - loss: 0.0540 - accuracy: 0.9987\n",
            "Epoch 100/250\n",
            "25/25 [==============================] - 0s 1ms/step - loss: 0.0528 - accuracy: 0.9987\n",
            "Epoch 101/250\n",
            "25/25 [==============================] - 0s 1ms/step - loss: 0.0517 - accuracy: 0.9987\n",
            "Epoch 102/250\n",
            "25/25 [==============================] - 0s 1ms/step - loss: 0.0506 - accuracy: 0.9987\n",
            "Epoch 103/250\n",
            "25/25 [==============================] - 0s 944us/step - loss: 0.0496 - accuracy: 0.9987\n",
            "Epoch 104/250\n",
            "25/25 [==============================] - 0s 988us/step - loss: 0.0486 - accuracy: 0.9987\n",
            "Epoch 105/250\n",
            "25/25 [==============================] - 0s 1ms/step - loss: 0.0476 - accuracy: 0.9987\n",
            "Epoch 106/250\n",
            "25/25 [==============================] - 0s 978us/step - loss: 0.0466 - accuracy: 0.9987\n",
            "Epoch 107/250\n",
            "25/25 [==============================] - 0s 1ms/step - loss: 0.0456 - accuracy: 0.9987\n",
            "Epoch 108/250\n",
            "25/25 [==============================] - 0s 1ms/step - loss: 0.0447 - accuracy: 0.9987\n",
            "Epoch 109/250\n",
            "25/25 [==============================] - 0s 982us/step - loss: 0.0438 - accuracy: 0.9987\n",
            "Epoch 110/250\n",
            "25/25 [==============================] - 0s 1ms/step - loss: 0.0430 - accuracy: 0.9987\n",
            "Epoch 111/250\n",
            "25/25 [==============================] - 0s 1ms/step - loss: 0.0421 - accuracy: 0.9987\n",
            "Epoch 112/250\n",
            "25/25 [==============================] - 0s 1ms/step - loss: 0.0413 - accuracy: 0.9987\n",
            "Epoch 113/250\n",
            "25/25 [==============================] - 0s 1ms/step - loss: 0.0405 - accuracy: 0.9987\n",
            "Epoch 114/250\n",
            "25/25 [==============================] - 0s 978us/step - loss: 0.0397 - accuracy: 0.9987\n",
            "Epoch 115/250\n",
            "25/25 [==============================] - 0s 965us/step - loss: 0.0390 - accuracy: 0.9987\n",
            "Epoch 116/250\n",
            "25/25 [==============================] - 0s 1ms/step - loss: 0.0383 - accuracy: 0.9987\n",
            "Epoch 117/250\n",
            "25/25 [==============================] - 0s 1ms/step - loss: 0.0376 - accuracy: 0.9987\n",
            "Epoch 118/250\n",
            "25/25 [==============================] - 0s 984us/step - loss: 0.0369 - accuracy: 0.9987\n",
            "Epoch 119/250\n",
            "25/25 [==============================] - 0s 960us/step - loss: 0.0362 - accuracy: 0.9987\n",
            "Epoch 120/250\n",
            "25/25 [==============================] - 0s 948us/step - loss: 0.0356 - accuracy: 0.9987\n",
            "Epoch 121/250\n",
            "25/25 [==============================] - 0s 1ms/step - loss: 0.0348 - accuracy: 0.9987\n",
            "Epoch 122/250\n",
            "25/25 [==============================] - 0s 1ms/step - loss: 0.0342 - accuracy: 0.9987\n",
            "Epoch 123/250\n",
            "25/25 [==============================] - 0s 1ms/step - loss: 0.0336 - accuracy: 0.9987\n",
            "Epoch 124/250\n",
            "25/25 [==============================] - 0s 1ms/step - loss: 0.0330 - accuracy: 0.9987\n",
            "Epoch 125/250\n",
            "25/25 [==============================] - 0s 1ms/step - loss: 0.0324 - accuracy: 0.9987\n",
            "Epoch 126/250\n",
            "25/25 [==============================] - 0s 962us/step - loss: 0.0317 - accuracy: 0.9987\n",
            "Epoch 127/250\n",
            "25/25 [==============================] - 0s 1ms/step - loss: 0.0312 - accuracy: 0.9987\n",
            "Epoch 128/250\n",
            "25/25 [==============================] - 0s 1ms/step - loss: 0.0306 - accuracy: 0.9987\n",
            "Epoch 129/250\n",
            "25/25 [==============================] - 0s 1ms/step - loss: 0.0301 - accuracy: 0.9987\n",
            "Epoch 130/250\n",
            "25/25 [==============================] - 0s 2ms/step - loss: 0.0296 - accuracy: 0.9987\n",
            "Epoch 131/250\n",
            "25/25 [==============================] - 0s 1ms/step - loss: 0.0291 - accuracy: 0.9987\n",
            "Epoch 132/250\n",
            "25/25 [==============================] - 0s 1ms/step - loss: 0.0286 - accuracy: 0.9987\n",
            "Epoch 133/250\n",
            "25/25 [==============================] - 0s 1ms/step - loss: 0.0281 - accuracy: 0.9987\n",
            "Epoch 134/250\n",
            "25/25 [==============================] - 0s 1ms/step - loss: 0.0277 - accuracy: 0.9987\n",
            "Epoch 135/250\n",
            "25/25 [==============================] - 0s 968us/step - loss: 0.0272 - accuracy: 0.9987\n",
            "Epoch 136/250\n",
            "25/25 [==============================] - 0s 1ms/step - loss: 0.0268 - accuracy: 0.9987\n",
            "Epoch 137/250\n",
            "25/25 [==============================] - 0s 1ms/step - loss: 0.0263 - accuracy: 0.9987\n",
            "Epoch 138/250\n",
            "25/25 [==============================] - 0s 1ms/step - loss: 0.0258 - accuracy: 0.9987\n",
            "Epoch 139/250\n",
            "25/25 [==============================] - 0s 1ms/step - loss: 0.0254 - accuracy: 0.9987\n",
            "Epoch 140/250\n",
            "25/25 [==============================] - 0s 1ms/step - loss: 0.0250 - accuracy: 0.9987\n",
            "Epoch 141/250\n",
            "25/25 [==============================] - 0s 1ms/step - loss: 0.0246 - accuracy: 0.9987\n",
            "Epoch 142/250\n",
            "25/25 [==============================] - 0s 978us/step - loss: 0.0242 - accuracy: 0.9987\n",
            "Epoch 143/250\n",
            "25/25 [==============================] - 0s 1ms/step - loss: 0.0239 - accuracy: 0.9987\n",
            "Epoch 144/250\n",
            "25/25 [==============================] - 0s 1ms/step - loss: 0.0235 - accuracy: 0.9987\n",
            "Epoch 145/250\n",
            "25/25 [==============================] - 0s 949us/step - loss: 0.0231 - accuracy: 0.9987\n",
            "Epoch 146/250\n",
            "25/25 [==============================] - 0s 1ms/step - loss: 0.0228 - accuracy: 0.9987\n",
            "Epoch 147/250\n",
            "25/25 [==============================] - 0s 1ms/step - loss: 0.0224 - accuracy: 0.9987\n",
            "Epoch 148/250\n",
            "25/25 [==============================] - 0s 916us/step - loss: 0.0221 - accuracy: 0.9987\n",
            "Epoch 149/250\n",
            "25/25 [==============================] - 0s 1ms/step - loss: 0.0218 - accuracy: 0.9987\n",
            "Epoch 150/250\n",
            "25/25 [==============================] - 0s 938us/step - loss: 0.0215 - accuracy: 0.9987\n",
            "Epoch 151/250\n",
            "25/25 [==============================] - 0s 1ms/step - loss: 0.0212 - accuracy: 0.9987\n",
            "Epoch 152/250\n",
            "25/25 [==============================] - 0s 1ms/step - loss: 0.0209 - accuracy: 0.9987\n",
            "Epoch 153/250\n",
            "25/25 [==============================] - 0s 1ms/step - loss: 0.0206 - accuracy: 0.9987\n",
            "Epoch 154/250\n",
            "25/25 [==============================] - 0s 1ms/step - loss: 0.0203 - accuracy: 0.9987\n",
            "Epoch 155/250\n",
            "25/25 [==============================] - 0s 1ms/step - loss: 0.0200 - accuracy: 0.9987\n",
            "Epoch 156/250\n",
            "25/25 [==============================] - 0s 1ms/step - loss: 0.0198 - accuracy: 0.9987\n",
            "Epoch 157/250\n",
            "25/25 [==============================] - 0s 1ms/step - loss: 0.0195 - accuracy: 0.9987\n",
            "Epoch 158/250\n",
            "25/25 [==============================] - 0s 1ms/step - loss: 0.0192 - accuracy: 0.9987\n",
            "Epoch 159/250\n",
            "25/25 [==============================] - 0s 1ms/step - loss: 0.0190 - accuracy: 0.9987\n",
            "Epoch 160/250\n",
            "25/25 [==============================] - 0s 1ms/step - loss: 0.0187 - accuracy: 0.9987\n",
            "Epoch 161/250\n",
            "25/25 [==============================] - 0s 975us/step - loss: 0.0185 - accuracy: 0.9987\n",
            "Epoch 162/250\n",
            "25/25 [==============================] - 0s 968us/step - loss: 0.0183 - accuracy: 0.9987\n",
            "Epoch 163/250\n",
            "25/25 [==============================] - 0s 1ms/step - loss: 0.0181 - accuracy: 0.9987\n",
            "Epoch 164/250\n",
            "25/25 [==============================] - 0s 962us/step - loss: 0.0178 - accuracy: 0.9987\n",
            "Epoch 165/250\n",
            "25/25 [==============================] - 0s 1ms/step - loss: 0.0176 - accuracy: 0.9987\n",
            "Epoch 166/250\n",
            "25/25 [==============================] - 0s 1ms/step - loss: 0.0174 - accuracy: 0.9987\n",
            "Epoch 167/250\n",
            "25/25 [==============================] - 0s 1ms/step - loss: 0.0172 - accuracy: 0.9987\n",
            "Epoch 168/250\n",
            "25/25 [==============================] - 0s 1ms/step - loss: 0.0170 - accuracy: 0.9987\n",
            "Epoch 169/250\n",
            "25/25 [==============================] - 0s 1ms/step - loss: 0.0168 - accuracy: 0.9987\n",
            "Epoch 170/250\n",
            "25/25 [==============================] - 0s 1ms/step - loss: 0.0166 - accuracy: 0.9987\n",
            "Epoch 171/250\n",
            "25/25 [==============================] - 0s 1ms/step - loss: 0.0164 - accuracy: 0.9987\n",
            "Epoch 172/250\n",
            "25/25 [==============================] - 0s 1ms/step - loss: 0.0162 - accuracy: 0.9987\n",
            "Epoch 173/250\n",
            "25/25 [==============================] - 0s 1ms/step - loss: 0.0160 - accuracy: 0.9987\n",
            "Epoch 174/250\n",
            "25/25 [==============================] - 0s 1ms/step - loss: 0.0159 - accuracy: 0.9987\n",
            "Epoch 175/250\n",
            "25/25 [==============================] - 0s 1ms/step - loss: 0.0157 - accuracy: 0.9987\n",
            "Epoch 176/250\n",
            "25/25 [==============================] - 0s 1ms/step - loss: 0.0155 - accuracy: 0.9987\n",
            "Epoch 177/250\n",
            "25/25 [==============================] - 0s 1ms/step - loss: 0.0154 - accuracy: 0.9987\n",
            "Epoch 178/250\n",
            "25/25 [==============================] - 0s 1ms/step - loss: 0.0151 - accuracy: 0.9987\n",
            "Epoch 179/250\n",
            "25/25 [==============================] - 0s 1ms/step - loss: 0.0150 - accuracy: 0.9987\n",
            "Epoch 180/250\n",
            "25/25 [==============================] - 0s 984us/step - loss: 0.0149 - accuracy: 0.9987\n",
            "Epoch 181/250\n",
            "25/25 [==============================] - 0s 1ms/step - loss: 0.0147 - accuracy: 0.9987\n",
            "Epoch 182/250\n",
            "25/25 [==============================] - 0s 1ms/step - loss: 0.0145 - accuracy: 0.9987\n",
            "Epoch 183/250\n",
            "25/25 [==============================] - 0s 1ms/step - loss: 0.0144 - accuracy: 0.9987\n",
            "Epoch 184/250\n",
            "25/25 [==============================] - 0s 973us/step - loss: 0.0142 - accuracy: 0.9987\n",
            "Epoch 185/250\n",
            "25/25 [==============================] - 0s 1ms/step - loss: 0.0142 - accuracy: 0.9987\n",
            "Epoch 186/250\n",
            "25/25 [==============================] - 0s 1ms/step - loss: 0.0140 - accuracy: 0.9987\n",
            "Epoch 187/250\n",
            "25/25 [==============================] - 0s 917us/step - loss: 0.0138 - accuracy: 0.9987\n",
            "Epoch 188/250\n",
            "25/25 [==============================] - 0s 1ms/step - loss: 0.0137 - accuracy: 0.9987\n",
            "Epoch 189/250\n",
            "25/25 [==============================] - 0s 976us/step - loss: 0.0136 - accuracy: 0.9987\n",
            "Epoch 190/250\n",
            "25/25 [==============================] - 0s 1ms/step - loss: 0.0136 - accuracy: 0.9987\n",
            "Epoch 191/250\n",
            "25/25 [==============================] - 0s 1ms/step - loss: 0.0133 - accuracy: 0.9987\n",
            "Epoch 192/250\n",
            "25/25 [==============================] - 0s 1ms/step - loss: 0.0133 - accuracy: 0.9987\n",
            "Epoch 193/250\n",
            "25/25 [==============================] - 0s 1ms/step - loss: 0.0131 - accuracy: 0.9987\n",
            "Epoch 194/250\n",
            "25/25 [==============================] - 0s 1ms/step - loss: 0.0130 - accuracy: 0.9987\n",
            "Epoch 195/250\n",
            "25/25 [==============================] - 0s 953us/step - loss: 0.0128 - accuracy: 0.9987\n",
            "Epoch 196/250\n",
            "25/25 [==============================] - 0s 1ms/step - loss: 0.0128 - accuracy: 0.9987\n",
            "Epoch 197/250\n",
            "25/25 [==============================] - 0s 1ms/step - loss: 0.0126 - accuracy: 0.9987\n",
            "Epoch 198/250\n",
            "25/25 [==============================] - 0s 1ms/step - loss: 0.0125 - accuracy: 0.9987\n",
            "Epoch 199/250\n",
            "25/25 [==============================] - 0s 1ms/step - loss: 0.0124 - accuracy: 0.9987\n",
            "Epoch 200/250\n",
            "25/25 [==============================] - 0s 1ms/step - loss: 0.0124 - accuracy: 0.9987\n",
            "Epoch 201/250\n",
            "25/25 [==============================] - 0s 1ms/step - loss: 0.0123 - accuracy: 0.9987\n",
            "Epoch 202/250\n",
            "25/25 [==============================] - 0s 974us/step - loss: 0.0122 - accuracy: 0.9987\n",
            "Epoch 203/250\n",
            "25/25 [==============================] - 0s 1ms/step - loss: 0.0121 - accuracy: 0.9987\n",
            "Epoch 204/250\n",
            "25/25 [==============================] - 0s 1ms/step - loss: 0.0119 - accuracy: 0.9987\n",
            "Epoch 205/250\n",
            "25/25 [==============================] - 0s 1ms/step - loss: 0.0118 - accuracy: 0.9987\n",
            "Epoch 206/250\n",
            "25/25 [==============================] - 0s 1ms/step - loss: 0.0118 - accuracy: 0.9987\n",
            "Epoch 207/250\n",
            "25/25 [==============================] - 0s 1ms/step - loss: 0.0117 - accuracy: 0.9987\n",
            "Epoch 208/250\n",
            "25/25 [==============================] - 0s 1ms/step - loss: 0.0116 - accuracy: 0.9987\n",
            "Epoch 209/250\n",
            "25/25 [==============================] - 0s 1ms/step - loss: 0.0115 - accuracy: 0.9987\n",
            "Epoch 210/250\n",
            "25/25 [==============================] - 0s 1ms/step - loss: 0.0114 - accuracy: 0.9987\n",
            "Epoch 211/250\n",
            "25/25 [==============================] - 0s 994us/step - loss: 0.0113 - accuracy: 0.9987\n",
            "Epoch 212/250\n",
            "25/25 [==============================] - 0s 1ms/step - loss: 0.0112 - accuracy: 0.9987\n",
            "Epoch 213/250\n",
            "25/25 [==============================] - 0s 1ms/step - loss: 0.0111 - accuracy: 0.9987\n",
            "Epoch 214/250\n",
            "25/25 [==============================] - 0s 1ms/step - loss: 0.0110 - accuracy: 0.9987\n",
            "Epoch 215/250\n",
            "25/25 [==============================] - 0s 1ms/step - loss: 0.0110 - accuracy: 0.9987\n",
            "Epoch 216/250\n",
            "25/25 [==============================] - 0s 1ms/step - loss: 0.0109 - accuracy: 0.9987\n",
            "Epoch 217/250\n",
            "25/25 [==============================] - 0s 988us/step - loss: 0.0108 - accuracy: 0.9987\n",
            "Epoch 218/250\n",
            "25/25 [==============================] - 0s 1ms/step - loss: 0.0108 - accuracy: 0.9987\n",
            "Epoch 219/250\n",
            "25/25 [==============================] - 0s 1ms/step - loss: 0.0107 - accuracy: 0.9987\n",
            "Epoch 220/250\n",
            "25/25 [==============================] - 0s 1ms/step - loss: 0.0106 - accuracy: 0.9987\n",
            "Epoch 221/250\n",
            "25/25 [==============================] - 0s 952us/step - loss: 0.0105 - accuracy: 0.9987\n",
            "Epoch 222/250\n",
            "25/25 [==============================] - 0s 1ms/step - loss: 0.0104 - accuracy: 0.9987\n",
            "Epoch 223/250\n",
            "25/25 [==============================] - 0s 1ms/step - loss: 0.0103 - accuracy: 0.9987\n",
            "Epoch 224/250\n",
            "25/25 [==============================] - 0s 1ms/step - loss: 0.0102 - accuracy: 0.9987\n",
            "Epoch 225/250\n",
            "25/25 [==============================] - 0s 1ms/step - loss: 0.0102 - accuracy: 0.9987\n",
            "Epoch 226/250\n",
            "25/25 [==============================] - 0s 1ms/step - loss: 0.0101 - accuracy: 0.9987\n",
            "Epoch 227/250\n",
            "25/25 [==============================] - 0s 1ms/step - loss: 0.0101 - accuracy: 0.9987\n",
            "Epoch 228/250\n",
            "25/25 [==============================] - 0s 1ms/step - loss: 0.0100 - accuracy: 0.9987\n",
            "Epoch 229/250\n",
            "25/25 [==============================] - 0s 1ms/step - loss: 0.0100 - accuracy: 0.9987\n",
            "Epoch 230/250\n",
            "25/25 [==============================] - 0s 1ms/step - loss: 0.0099 - accuracy: 0.9987\n",
            "Epoch 231/250\n",
            "25/25 [==============================] - 0s 1ms/step - loss: 0.0098 - accuracy: 0.9987\n",
            "Epoch 232/250\n",
            "25/25 [==============================] - 0s 1ms/step - loss: 0.0098 - accuracy: 0.9987\n",
            "Epoch 233/250\n",
            "25/25 [==============================] - 0s 1ms/step - loss: 0.0097 - accuracy: 0.9987\n",
            "Epoch 234/250\n",
            "25/25 [==============================] - 0s 1ms/step - loss: 0.0096 - accuracy: 0.9987\n",
            "Epoch 235/250\n",
            "25/25 [==============================] - 0s 1ms/step - loss: 0.0096 - accuracy: 0.9987\n",
            "Epoch 236/250\n",
            "25/25 [==============================] - 0s 1ms/step - loss: 0.0095 - accuracy: 0.9987\n",
            "Epoch 237/250\n",
            "25/25 [==============================] - 0s 1ms/step - loss: 0.0095 - accuracy: 0.9987\n",
            "Epoch 238/250\n",
            "25/25 [==============================] - 0s 1ms/step - loss: 0.0094 - accuracy: 0.9987\n",
            "Epoch 239/250\n",
            "25/25 [==============================] - 0s 1ms/step - loss: 0.0094 - accuracy: 0.9987\n",
            "Epoch 240/250\n",
            "25/25 [==============================] - 0s 1ms/step - loss: 0.0093 - accuracy: 0.9987\n",
            "Epoch 241/250\n",
            "25/25 [==============================] - 0s 1ms/step - loss: 0.0092 - accuracy: 0.9987\n",
            "Epoch 242/250\n",
            "25/25 [==============================] - 0s 1ms/step - loss: 0.0092 - accuracy: 0.9987\n",
            "Epoch 243/250\n",
            "25/25 [==============================] - 0s 1ms/step - loss: 0.0092 - accuracy: 0.9987\n",
            "Epoch 244/250\n",
            "25/25 [==============================] - 0s 1ms/step - loss: 0.0091 - accuracy: 0.9987\n",
            "Epoch 245/250\n",
            "25/25 [==============================] - 0s 1ms/step - loss: 0.0091 - accuracy: 0.9987\n",
            "Epoch 246/250\n",
            "25/25 [==============================] - 0s 1ms/step - loss: 0.0090 - accuracy: 0.9987\n",
            "Epoch 247/250\n",
            "25/25 [==============================] - 0s 927us/step - loss: 0.0090 - accuracy: 0.9987\n",
            "Epoch 248/250\n",
            "25/25 [==============================] - 0s 1ms/step - loss: 0.0089 - accuracy: 0.9987\n",
            "Epoch 249/250\n",
            "25/25 [==============================] - 0s 1ms/step - loss: 0.0088 - accuracy: 0.9987\n",
            "Epoch 250/250\n",
            "25/25 [==============================] - 0s 1ms/step - loss: 0.0088 - accuracy: 0.9987\n"
          ],
          "name": "stdout"
        }
      ]
    },
    {
      "cell_type": "markdown",
      "metadata": {
        "id": "DldqbXjgr8Hw"
      },
      "source": [
        "We then need to extract the weight, or $\\theta$, values produced by our model. Here, `get_weights()` is used to get the weights and bias into an array."
      ]
    },
    {
      "cell_type": "code",
      "metadata": {
        "id": "u3aF_G4lsHT6",
        "outputId": "0498457b-6216-4fb9-824f-6b0daa120745",
        "colab": {
          "base_uri": "https://localhost:8080/"
        }
      },
      "source": [
        "weights = model.get_weights()\n",
        "\n",
        "w1 = weights[0][0][0]\n",
        "w2 = weights[0][1][0]\n",
        "b = weights[1][0]\n",
        "\n",
        "print(w1, w2, b)"
      ],
      "execution_count": 14,
      "outputs": [
        {
          "output_type": "stream",
          "text": [
            "4.8457336 -0.34671223 4.151142\n"
          ],
          "name": "stdout"
        }
      ]
    },
    {
      "cell_type": "markdown",
      "metadata": {
        "id": "80Q8n8J6sUeI"
      },
      "source": [
        "Using the testing data and labels, the model can then be analyzed to measure the total loss and accuracy."
      ]
    },
    {
      "cell_type": "code",
      "metadata": {
        "id": "tuI1RWvZsbEZ",
        "outputId": "35252080-cc66-4522-857d-cdb158f5d259",
        "colab": {
          "base_uri": "https://localhost:8080/"
        }
      },
      "source": [
        "results = model.evaluate(data_test, labels_test)"
      ],
      "execution_count": 15,
      "outputs": [
        {
          "output_type": "stream",
          "text": [
            "7/7 [==============================] - 0s 1ms/step - loss: 0.0097 - accuracy: 1.0000\n"
          ],
          "name": "stdout"
        }
      ]
    },
    {
      "cell_type": "markdown",
      "metadata": {
        "id": "S0SoC7HkshAm"
      },
      "source": [
        "Once our model is trained, we can visualize it with the original data. We can use the model to get a new separating line. To it, we use the function `get_separating_line()`, which sets $w_1x_1 + w_2x_2 + b = 0$. From there, it simply solves for $x_2$ to get the sepatating line when the sigmoid function is $1/2$."
      ]
    },
    {
      "cell_type": "code",
      "metadata": {
        "id": "oC54q8W8sv9F"
      },
      "source": [
        "def get_separating_line(w1, w2, b):\n",
        "  \"\"\"\n",
        "  Generate a separating line based on the weights.\n",
        "\n",
        "  :w1: the first weight.\n",
        "  :w2: the second weight.\n",
        "  :b: the bias.\n",
        "  \"\"\"\n",
        "\n",
        "  return -(w1 * 0.5 + b) / w2"
      ],
      "execution_count": 16,
      "outputs": []
    },
    {
      "cell_type": "code",
      "metadata": {
        "id": "u4R0JRHAs056"
      },
      "source": [
        "def display_model_data(data, labels):\n",
        "  \"\"\"\n",
        "  Display the data on a 2-D plot.\n",
        "\n",
        "  :data: the data to be visualized.\n",
        "  :labels: the labels used for coloring.\n",
        "  \"\"\"\n",
        "\n",
        "  # Define the classes and colors.\n",
        "  classes = ['0', '1']\n",
        "  colors = ['red', 'blue']\n",
        "\n",
        "  # Generate the scatter plot.\n",
        "  scatter = plt.scatter(data[:, 0], data[:, 1], c=labels, cmap=matplotlib.colors.ListedColormap(colors))\n",
        "  \n",
        "  # Format the title and axis labels\n",
        "  plt.title('Trained Model with TensorFlow and Keras', fontsize=14)\n",
        "  plt.xlabel('$ x_1 $', fontsize=14)\n",
        "  plt.ylabel('$ x_2 $', fontsize=14)\n",
        "\n",
        "  # Inlcude a legend.\n",
        "  plt.legend(handles=scatter.legend_elements()[0], labels=classes, fontsize=8)\n",
        "\n",
        "  # Plot the true line used to generate the data.\n",
        "  x = np.linspace(0,1,100)\n",
        "  y = weight * x + bias\n",
        "  plt.plot(x, y)\n",
        "\n",
        "  # Plot the separating line of the trained model.\n",
        "  separating_line = get_separating_line(w1, w2, b)\n",
        "  print(separating_line)\n",
        "  y = separating_line * x + b\n",
        "  plt.plot(x, y)\n",
        "\n",
        "  plt.show()"
      ],
      "execution_count": 17,
      "outputs": []
    },
    {
      "cell_type": "code",
      "metadata": {
        "id": "-GiAL8Abs7z2",
        "outputId": "8cbef8ef-8a48-4e4e-a388-7769ccc08000",
        "colab": {
          "base_uri": "https://localhost:8080/",
          "height": 318
        }
      },
      "source": [
        "display_model_data(data, labels)"
      ],
      "execution_count": 18,
      "outputs": [
        {
          "output_type": "stream",
          "text": [
            "18.96099514755884\n"
          ],
          "name": "stdout"
        },
        {
          "output_type": "display_data",
          "data": {
            "image/png": "[encoded data removed]",
            "text/plain": [
              "<Figure size 432x288 with 1 Axes>"
            ]
          },
          "metadata": {
            "tags": [],
            "needs_background": "light"
          }
        }
      ]
    },
    {
      "cell_type": "markdown",
      "metadata": {
        "id": "a3oNpvwktEvX"
      },
      "source": [
        "Finally, we can visualize the model with a heatmap, using the original weights and bias and the sigmoid function.\n"
      ]
    },
    {
      "cell_type": "code",
      "metadata": {
        "id": "HAh88WFUtKLg"
      },
      "source": [
        "def sigmoid(x):\n",
        "  \"\"\"\n",
        "  Compute the sigmoid.\n",
        "\n",
        "  :x: the original value.\n",
        "  \"\"\"\n",
        "  \n",
        "  return 1 / (1 + np.exp(-x))"
      ],
      "execution_count": 19,
      "outputs": []
    },
    {
      "cell_type": "code",
      "metadata": {
        "id": "i-WxVM2etMMp"
      },
      "source": [
        "def display_heatmap(w1, w2, b):\n",
        "  \"\"\"\n",
        "  Display the data on a 2-D heatmap.\n",
        "\n",
        "  :w1: the first weight.\n",
        "  :w2: the second weight.\n",
        "  :b: the bias.\n",
        "  \"\"\"\n",
        "\n",
        "  # Get the data for the heatmap.\n",
        "  x1, x2 = np.meshgrid(np.linspace(0, 1, 200), np.linspace(-20, 60, 200))\n",
        "  z = sigmoid(w1 * x1 + w2 * x2 + b)\n",
        "\n",
        "  # Set the bounds for z.\n",
        "  z = z[:-1, :-1]\n",
        "  z_min, z_max = -np.abs(z).max(), np.abs(z).max()\n",
        "\n",
        "  # Generate the heatmap.\n",
        "  fig, ax = plt.subplots()\n",
        "  c = ax.pcolormesh(x1, x2, z, cmap='RdBu', vmin=0, vmax=1)\n",
        "  ax.set_title('Trained Model with TensorFlow and Keras', fontsize=14)\n",
        "  fig.colorbar(c, ax=ax)\n",
        "  plt.xlabel(r'$ x_1 $', fontsize=14)\n",
        "  plt.ylabel(r'$ x_2 $', fontsize=14)\n",
        "  \n",
        "  # Set the limits of the plot.\n",
        "  ax.axis([x1.min(), x1.max(), x2.min(), x2.max()])\n",
        "\n",
        "  plt.show()"
      ],
      "execution_count": 20,
      "outputs": []
    },
    {
      "cell_type": "code",
      "metadata": {
        "id": "lQNx6GQrtQ7H",
        "outputId": "1bc4a95a-322c-4d1c-b785-cf3e22b5f203",
        "colab": {
          "base_uri": "https://localhost:8080/",
          "height": 301
        }
      },
      "source": [
        "display_heatmap(w1, w2, b)"
      ],
      "execution_count": 21,
      "outputs": [
        {
          "output_type": "display_data",
          "data": {
            "image/png": "[encoded data removed]",
            "text/plain": [
              "<Figure size 432x288 with 2 Axes>"
            ]
          },
          "metadata": {
            "tags": [],
            "needs_background": "light"
          }
        }
      ]
    }
  ]
}
