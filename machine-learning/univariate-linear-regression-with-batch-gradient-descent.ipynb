{
  "nbformat": 4,
  "nbformat_minor": 0,
  "metadata": {
    "colab": {
      "name": "Univariate Linear Regression with Batch Gradient Descent",
      "provenance": [],
      "collapsed_sections": [],
      "authorship_tag": "ABX9TyP5QMYTH04HvUm1axKjy7GK"
    },
    "kernelspec": {
      "name": "python3",
      "display_name": "Python 3"
    }
  },
  "cells": [
    {
      "cell_type": "markdown",
      "metadata": {
        "id": "UejnaSULteQb"
      },
      "source": [
        "# Univariate Linear Regression with Batch Gradient Descent\n",
        "*By Carlos Santiago Bañón*\n",
        "\n",
        "**Year:** 2020\n",
        "\n",
        "**Technologies:** Python, NumPy, Matplotlib\n",
        "\n",
        "**Discipline(s):** Machine Learning\n",
        "\n",
        "**Keywords:** `batch-gradient-descent`, `gradient-descent`, `linear-regression`, `machine-learning`, `regression`\n"
      ]
    },
    {
      "cell_type": "markdown",
      "metadata": {
        "id": "JcWjwESjttuN"
      },
      "source": [
        "This notebook provides an implementation of univariate linear regression with batch gradient descent from scratch."
      ]
    },
    {
      "cell_type": "markdown",
      "metadata": {
        "id": "Qo7fXeWTt7KA"
      },
      "source": [
        "## 1. Import Statements\n",
        "---"
      ]
    },
    {
      "cell_type": "code",
      "metadata": {
        "id": "1-lY_A_oRfr9"
      },
      "source": [
        "import numpy as np\n",
        "import matplotlib.pyplot as plt"
      ],
      "execution_count": 1,
      "outputs": []
    },
    {
      "cell_type": "markdown",
      "metadata": {
        "id": "DdQ4c2aNuRIA"
      },
      "source": [
        "## 2. Random Data Generation\n",
        "---"
      ]
    },
    {
      "cell_type": "markdown",
      "metadata": {
        "id": "TSAosfUGuWQ2"
      },
      "source": [
        "To more easily visualize the data we are working with, we will be generating random data based on the specific linear function $f(x) = 2x + 3$. Doing so will allow us to better visualize the regression line after we train our model."
      ]
    },
    {
      "cell_type": "code",
      "metadata": {
        "id": "WWqllHo4Qsw0"
      },
      "source": [
        "def f(X):\n",
        "  return (2 * X) + 3"
      ],
      "execution_count": 2,
      "outputs": []
    },
    {
      "cell_type": "code",
      "metadata": {
        "id": "xEq-p4PEuuBa"
      },
      "source": [
        "# Generate 100 training examples.\n",
        "m = 100\n",
        "X = np.random.rand(m, 1)\n",
        "y = f(X) + np.random.rand(m, 1)"
      ],
      "execution_count": 3,
      "outputs": []
    },
    {
      "cell_type": "code",
      "metadata": {
        "id": "KPUk697wrMV3",
        "outputId": "3df21e43-8724-42e9-d44b-61a2f7188a03",
        "colab": {
          "base_uri": "https://localhost:8080/",
          "height": 297
        }
      },
      "source": [
        "# Plot the random data.\n",
        "plt.scatter(X, y)\n",
        "plt.title('Random Data for Linear Regression')\n",
        "plt.xlabel(r'$X$')\n",
        "plt.ylabel(r'$y$')\n",
        "plt.show()"
      ],
      "execution_count": 4,
      "outputs": [
        {
          "output_type": "display_data",
          "data": {
            "image/png": "[encoded data removed]",
            "text/plain": [
              "<Figure size 432x288 with 1 Axes>"
            ]
          },
          "metadata": {
            "tags": [],
            "needs_background": "light"
          }
        }
      ]
    },
    {
      "cell_type": "markdown",
      "metadata": {
        "id": "Zw3GhUwUvqRj"
      },
      "source": [
        "## 3. Batch Gradient Descent\n",
        "---"
      ]
    },
    {
      "cell_type": "markdown",
      "metadata": {
        "id": "3gBfeYr6vumD"
      },
      "source": [
        "Once we have our data ready, we must define the optimization algorithm we will be using in our linear regression model.\n",
        "\n",
        "Here, we will employ **Batch Gradient Descent**, which will help us minimize the parameters in our hypothesis function for linear regression."
      ]
    },
    {
      "cell_type": "markdown",
      "metadata": {
        "id": "aQRJKCXrwPNj"
      },
      "source": [
        "Therefore, we begin by defining the **Mean Squared Error (MSE)** loss function, which will be our cost function for batch gradient descent algorithm:\n",
        "\n",
        "$J(\\theta_0, \\theta_1) = \\frac{1}{2m} \\sum_{i = 1}^{m}(h_\\theta(x^{(i)})-y^{(i)})^2$"
      ]
    },
    {
      "cell_type": "code",
      "metadata": {
        "id": "9iuSEP1aX7UX"
      },
      "source": [
        "def cost_function(X, y, theta):\n",
        "  \n",
        "  m = len(y)\n",
        "\n",
        "  # Calculate the hypothesis.\n",
        "  h = np.dot(X, theta)\n",
        "\n",
        "  # Calculate the squared error.\n",
        "  squared_error = (h - y) ** 2\n",
        "\n",
        "  # Sum all the squared errors and multiply by the reciprocal.\n",
        "  J = (1 / 2 * m) * np.dot(np.ones(m), squared_error)\n",
        "\n",
        "  return J"
      ],
      "execution_count": 5,
      "outputs": []
    },
    {
      "cell_type": "markdown",
      "metadata": {
        "id": "OV2_DR4Kw-2X"
      },
      "source": [
        "Now, we're ready to formally define our batch gradient descent algorithm. Here, we employ the following instruction repeatedly for a certain number of iterations until our cost function is minimized:\n",
        "\n",
        "$\\theta_j := \\theta_j - \\alpha\\frac{\\partial}{\\partial\\theta_j}J(\\theta_0, \\theta_1)$"
      ]
    },
    {
      "cell_type": "code",
      "metadata": {
        "id": "zocRPluqYnr_"
      },
      "source": [
        "def batch_gradient_descent(X, y, theta, alpha, iterations):\n",
        "\n",
        "  m = len(y)\n",
        "  J_history = np.zeros((iterations, 1));\n",
        "\n",
        "  for i in range(iterations):\n",
        "\n",
        "    # Calculate the hypothesis.\n",
        "    h = np.dot(X, theta)\n",
        "\n",
        "    # Calculate the loss.\n",
        "    loss = h - y\n",
        "\n",
        "    # Calculate the gradient.\n",
        "    gradient = np.dot(X.T, loss) / m\n",
        "\n",
        "    # Adjust theta accordingly.\n",
        "    theta = theta - alpha * gradient\n",
        "\n",
        "    J_history[i] = cost_function(X, y, theta)\n",
        "  \n",
        "  # Plot the cost function.\n",
        "  plt.title('Cost Function')\n",
        "  plt.xlabel('Iterations')\n",
        "  plt.ylabel(r'$J(\\theta)$')\n",
        "  x = np.linspace(0, iterations, iterations)\n",
        "  plt.plot(x, J_history)\n",
        "  plt.show()\n",
        "\n",
        "  return theta"
      ],
      "execution_count": 6,
      "outputs": []
    },
    {
      "cell_type": "markdown",
      "metadata": {
        "id": "Ok4tD588y7Yc"
      },
      "source": [
        "## 4. Linear Regression\n",
        "---"
      ]
    },
    {
      "cell_type": "markdown",
      "metadata": {
        "id": "x7LF7yLMx6IF"
      },
      "source": [
        "Once our minimization algorithm is defined, we can proceed to build our linear regression model."
      ]
    },
    {
      "cell_type": "code",
      "metadata": {
        "id": "bfHTvMO1VBUb"
      },
      "source": [
        "def linear_regression(X, y):\n",
        "\n",
        "  # Set up our initial values.\n",
        "  alpha = 0.01\n",
        "  iterations = 500\n",
        "  theta = np.zeros((2, 1))\n",
        "\n",
        "  # Add an extra column of ones for vectorization.\n",
        "  X_train = np.append(np.ones((m, 1)), X, axis = 1)\n",
        "\n",
        "  # Calculate the cost.\n",
        "  J = cost_function(X_train, y, theta)\n",
        "\n",
        "  # Use batch gradient descent to minimize the cost.\n",
        "  theta = batch_gradient_descent(X_train, y, theta, alpha, iterations)\n",
        "\n",
        "  return theta"
      ],
      "execution_count": 7,
      "outputs": []
    },
    {
      "cell_type": "code",
      "metadata": {
        "id": "ThKWOe3zyvRU",
        "outputId": "c70d94f0-78ec-4979-8cec-775a43f8ea5c",
        "colab": {
          "base_uri": "https://localhost:8080/",
          "height": 329
        }
      },
      "source": [
        "theta = linear_regression(X, y)\n",
        "\n",
        "print(\"Theta:\", theta)"
      ],
      "execution_count": 8,
      "outputs": [
        {
          "output_type": "display_data",
          "data": {
            "image/png": "[encoded data removed]",
            "text/plain": [
              "<Figure size 432x288 with 1 Axes>"
            ]
          },
          "metadata": {
            "tags": [],
            "needs_background": "light"
          }
        },
        {
          "output_type": "stream",
          "text": [
            "Theta: [[3.50261188]\n",
            " [2.02172492]]\n"
          ],
          "name": "stdout"
        }
      ]
    },
    {
      "cell_type": "markdown",
      "metadata": {
        "id": "6Y5R8FmOz-0G"
      },
      "source": [
        "Finally, once we have the values for $\\theta$ that minimize our cost function $J(\\theta)$, we can produce a final plot for our model."
      ]
    },
    {
      "cell_type": "code",
      "metadata": {
        "id": "gQHUdo_JwREM",
        "outputId": "ebffc819-d7d0-4549-a1ac-2b9a7b5c3fb5",
        "colab": {
          "base_uri": "https://localhost:8080/",
          "height": 297
        }
      },
      "source": [
        "# Plot the prediction line with the original data.\n",
        "plt.scatter(X, y)\n",
        "plt.title('Linear Regression')\n",
        "plt.xlabel(r'$X$')\n",
        "plt.ylabel(r'$y$')\n",
        "x = np.linspace(0, 1, 1000)\n",
        "plt.plot(x, x * theta[1] + theta[0], '-r')\n",
        "plt.show()"
      ],
      "execution_count": 9,
      "outputs": [
        {
          "output_type": "display_data",
          "data": {
            "image/png": "[encoded data removed]",
            "text/plain": [
              "<Figure size 432x288 with 1 Axes>"
            ]
          },
          "metadata": {
            "tags": [],
            "needs_background": "light"
          }
        }
      ]
    }
  ]
}