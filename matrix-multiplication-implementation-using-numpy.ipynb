{
  "nbformat": 4,
  "nbformat_minor": 0,
  "metadata": {
    "colab": {
      "name": "Matrix Multiplication Implementation Using NumPy",
      "provenance": [],
      "authorship_tag": "ABX9TyOA0CQ3qJhIxulePRDgwd9f"
    },
    "kernelspec": {
      "name": "python3",
      "display_name": "Python 3"
    }
  },
  "cells": [
    {
      "cell_type": "markdown",
      "metadata": {
        "id": "2Dim0Lf6unvT",
        "colab_type": "text"
      },
      "source": [
        "# Matrix Multiplication Implementation Using NumPy\n",
        "*By Carlos Santiago Bañón*\n",
        "\n",
        "**Year:** 2020\n",
        "\n",
        "**Technologies:** Python, NumPy, TeX, Jupyter Notebook\n",
        "\n",
        "**Discipline(s):** Linear Algebra\n",
        "\n",
        "**Keywords:** `linear-algebra`, `matrices`, `matrix`, `matrix-multiplication`"
      ]
    },
    {
      "cell_type": "markdown",
      "metadata": {
        "id": "2HXU3UJdusU8",
        "colab_type": "text"
      },
      "source": [
        "In this notebook, we provide a simple matrix multiplication implementation in Python using NumPy. We then provide some test cases and show the use of exception handling."
      ]
    },
    {
      "cell_type": "markdown",
      "metadata": {
        "id": "dMwAItg5w8IU",
        "colab_type": "text"
      },
      "source": [
        "## 1. Implementation\n",
        "---"
      ]
    },
    {
      "cell_type": "markdown",
      "metadata": {
        "id": "UmupHBBMvLnf",
        "colab_type": "text"
      },
      "source": [
        "The following function, `multiply_matrices()`, takes as input a list of numpy arrays and returns their product. When multiplying a pair of matrices, it also checks to ensure they are compatible. Finally, the function also ensures that (a) the list of matrices is not empty, and that (b) there is more than one matrix in the list.\n",
        "\n",
        "For two matrices to be compatible, the number of columns in the first matrix must be the same as the number of rows in the second matrix. That is, the first matrix must have dimensions $a \\times b$ and the second matrix should have dimensions $b \\times c$."
      ]
    },
    {
      "cell_type": "code",
      "metadata": {
        "id": "wacxntcXvS6P",
        "colab_type": "code",
        "colab": {}
      },
      "source": [
        "import numpy as np\n",
        "\n",
        "def multiply_matrices(*matrices):\n",
        "\n",
        "  # Check if the list of matrices is empty.\n",
        "  if not matrices:\n",
        "    raise Exception(\"Error. The list of matrices is empty.\")\n",
        "\n",
        "  # Check if there is more than one matrix.\n",
        "  if len(matrices) < 2:\n",
        "    raise Exception(\"Error. Only one matrix found.\")\n",
        "\n",
        "  product = matrices[0]\n",
        "\n",
        "  for i, matrix in enumerate(matrices, start = 0):\n",
        "    \n",
        "    if i == 0:\n",
        "      continue\n",
        "\n",
        "    # Check if the matrices are compatible.\n",
        "    if product.shape[1] == matrix.shape[0]:\n",
        "      product = np.dot(product, matrix)\n",
        "    else:\n",
        "      raise Exception(\"Error. Two or more matrices are incompatible.\", product,\n",
        "                      matrix)\n",
        "\n",
        "  return product"
      ],
      "execution_count": 1,
      "outputs": []
    },
    {
      "cell_type": "markdown",
      "metadata": {
        "id": "ZGog-lxwvohL",
        "colab_type": "text"
      },
      "source": [
        "## 2. Testing\n",
        "---"
      ]
    },
    {
      "cell_type": "markdown",
      "metadata": {
        "id": "0StoLlz_vsgn",
        "colab_type": "text"
      },
      "source": [
        "### 2.1. Matrix Multiplication"
      ]
    },
    {
      "cell_type": "markdown",
      "metadata": {
        "id": "ArGwgS-swKpy",
        "colab_type": "text"
      },
      "source": [
        "The following code tests the `multiply_matrices()` function with two matrices:\n",
        "\n",
        "> $\\begin{bmatrix}\n",
        "1 & 2\\\\\n",
        "-1 & 0\n",
        "\\end{bmatrix} \\times \\begin{bmatrix}\n",
        "1 & 2 & 0\\\\\n",
        "1 & -1 & 3\n",
        "\\end{bmatrix} = \\begin{bmatrix}\n",
        "3 & 0 & 6 \\\\\n",
        "-1 & -2 & 0\n",
        "\\end{bmatrix}$"
      ]
    },
    {
      "cell_type": "code",
      "metadata": {
        "id": "NK4XSXHGv6ka",
        "colab_type": "code",
        "colab": {
          "base_uri": "https://localhost:8080/",
          "height": 51
        },
        "outputId": "9a7e48e7-f072-4d1b-85f4-bf4ef2f03541"
      },
      "source": [
        "a = np.array([[1, 2], [-1, 0]])\n",
        "b = np.array([[1, 2, 0,], [1, -1, 3]])\n",
        "\n",
        "print(multiply_matrices(a, b))"
      ],
      "execution_count": 2,
      "outputs": [
        {
          "output_type": "stream",
          "text": [
            "[[ 3  0  6]\n",
            " [-1 -2  0]]\n"
          ],
          "name": "stdout"
        }
      ]
    },
    {
      "cell_type": "markdown",
      "metadata": {
        "id": "WYG0Jn25v7Ob",
        "colab_type": "text"
      },
      "source": [
        "Here, the `multiply_matrices()` function is tested with three matrices:\n",
        "\n",
        "> $\\begin{bmatrix}\n",
        "1 & 2\\\\\n",
        "-1 & 0\n",
        "\\end{bmatrix} \\times \\begin{bmatrix}\n",
        "1 & 2 & 0\\\\\n",
        "1 & -1 & 3\n",
        "\\end{bmatrix} \\times \\begin{bmatrix}\n",
        "1 & 3 & 4 \\\\\n",
        "-2 & -1 & 5\\\\\n",
        "3 & 0 & -2\n",
        "\\end{bmatrix} = \\begin{bmatrix}\n",
        "21 & 9 & 0 \\\\\n",
        "3 & -1 & -14\n",
        "\\end{bmatrix}$"
      ]
    },
    {
      "cell_type": "code",
      "metadata": {
        "id": "Tf1PZsUXwBu6",
        "colab_type": "code",
        "colab": {
          "base_uri": "https://localhost:8080/",
          "height": 51
        },
        "outputId": "d3b1bc0c-50d0-44d9-ec08-98bfde895921"
      },
      "source": [
        "a = np.array([[1, 2], [-1, 0]])\n",
        "b = np.array([[1, 2, 0,], [1, -1, 3]])\n",
        "c = np.array([[1, 3, 4], [-2, -1, 5], [3, 0, -2]])\n",
        "\n",
        "print(multiply_matrices(a, b, c))"
      ],
      "execution_count": 3,
      "outputs": [
        {
          "output_type": "stream",
          "text": [
            "[[ 21   9   0]\n",
            " [  3  -1 -14]]\n"
          ],
          "name": "stdout"
        }
      ]
    },
    {
      "cell_type": "markdown",
      "metadata": {
        "id": "e05O6VdQwCol",
        "colab_type": "text"
      },
      "source": [
        "### 2.2. Exception Handling"
      ]
    },
    {
      "cell_type": "markdown",
      "metadata": {
        "id": "fwI4S_OhwMpr",
        "colab_type": "text"
      },
      "source": [
        "The following code tests the exception handling of incompatible matrices in the `multiply_matrices()` function:\n",
        "\n",
        "$\\begin{bmatrix}\n",
        "1 & 2 & 4\\\\\n",
        "-1 & 0 & 5\n",
        "\\end{bmatrix} \\times \\begin{bmatrix}\n",
        "1 & 2 & 0\\\\\n",
        "1 & -1 & 3\n",
        "\\end{bmatrix} = \\text{Incompatible}$"
      ]
    },
    {
      "cell_type": "code",
      "metadata": {
        "id": "kF7uoK5hwPna",
        "colab_type": "code",
        "colab": {
          "base_uri": "https://localhost:8080/",
          "height": 351
        },
        "outputId": "51b53fc1-1d73-48b8-bfee-37135a6e77f3"
      },
      "source": [
        "a = np.array([[1, 2, 4], [-1, 0, 5]])\n",
        "b = np.array([[1, 2, 0,], [1, -1, 3]])\n",
        "\n",
        "print(multiply_matrices(a, b))"
      ],
      "execution_count": 4,
      "outputs": [
        {
          "output_type": "error",
          "ename": "Exception",
          "evalue": "ignored",
          "traceback": [
            "\u001b[0;31m---------------------------------------------------------------------------\u001b[0m",
            "\u001b[0;31mException\u001b[0m                                 Traceback (most recent call last)",
            "\u001b[0;32m<ipython-input-4-edb754576a21>\u001b[0m in \u001b[0;36m<module>\u001b[0;34m()\u001b[0m\n\u001b[1;32m      2\u001b[0m \u001b[0mb\u001b[0m \u001b[0;34m=\u001b[0m \u001b[0mnp\u001b[0m\u001b[0;34m.\u001b[0m\u001b[0marray\u001b[0m\u001b[0;34m(\u001b[0m\u001b[0;34m[\u001b[0m\u001b[0;34m[\u001b[0m\u001b[0;36m1\u001b[0m\u001b[0;34m,\u001b[0m \u001b[0;36m2\u001b[0m\u001b[0;34m,\u001b[0m \u001b[0;36m0\u001b[0m\u001b[0;34m,\u001b[0m\u001b[0;34m]\u001b[0m\u001b[0;34m,\u001b[0m \u001b[0;34m[\u001b[0m\u001b[0;36m1\u001b[0m\u001b[0;34m,\u001b[0m \u001b[0;34m-\u001b[0m\u001b[0;36m1\u001b[0m\u001b[0;34m,\u001b[0m \u001b[0;36m3\u001b[0m\u001b[0;34m]\u001b[0m\u001b[0;34m]\u001b[0m\u001b[0;34m)\u001b[0m\u001b[0;34m\u001b[0m\u001b[0;34m\u001b[0m\u001b[0m\n\u001b[1;32m      3\u001b[0m \u001b[0;34m\u001b[0m\u001b[0m\n\u001b[0;32m----> 4\u001b[0;31m \u001b[0mprint\u001b[0m\u001b[0;34m(\u001b[0m\u001b[0mmultiply_matrices\u001b[0m\u001b[0;34m(\u001b[0m\u001b[0ma\u001b[0m\u001b[0;34m,\u001b[0m \u001b[0mb\u001b[0m\u001b[0;34m)\u001b[0m\u001b[0;34m)\u001b[0m\u001b[0;34m\u001b[0m\u001b[0;34m\u001b[0m\u001b[0m\n\u001b[0m",
            "\u001b[0;32m<ipython-input-1-83cd806d7bca>\u001b[0m in \u001b[0;36mmultiply_matrices\u001b[0;34m(*matrices)\u001b[0m\n\u001b[1;32m     23\u001b[0m     \u001b[0;32melse\u001b[0m\u001b[0;34m:\u001b[0m\u001b[0;34m\u001b[0m\u001b[0;34m\u001b[0m\u001b[0m\n\u001b[1;32m     24\u001b[0m       raise Exception(\"Error. Two or more matrices are incompatible.\", product,\n\u001b[0;32m---> 25\u001b[0;31m                       matrix)\n\u001b[0m\u001b[1;32m     26\u001b[0m \u001b[0;34m\u001b[0m\u001b[0m\n\u001b[1;32m     27\u001b[0m   \u001b[0;32mreturn\u001b[0m \u001b[0mproduct\u001b[0m\u001b[0;34m\u001b[0m\u001b[0;34m\u001b[0m\u001b[0m\n",
            "\u001b[0;31mException\u001b[0m: ('Error. Two or more matrices are incompatible.', array([[ 1,  2,  4],\n       [-1,  0,  5]]), array([[ 1,  2,  0],\n       [ 1, -1,  3]]))"
          ]
        }
      ]
    },
    {
      "cell_type": "markdown",
      "metadata": {
        "id": "9N1vdqVAwQHF",
        "colab_type": "text"
      },
      "source": [
        "Further, the following code ensures that the function handles empty lists:"
      ]
    },
    {
      "cell_type": "code",
      "metadata": {
        "id": "Y7JZe42BwSkm",
        "colab_type": "code",
        "colab": {
          "base_uri": "https://localhost:8080/",
          "height": 283
        },
        "outputId": "8b0d0855-f323-4b8d-b384-19ffcbcf2f87"
      },
      "source": [
        "print(multiply_matrices())"
      ],
      "execution_count": 5,
      "outputs": [
        {
          "output_type": "error",
          "ename": "Exception",
          "evalue": "ignored",
          "traceback": [
            "\u001b[0;31m---------------------------------------------------------------------------\u001b[0m",
            "\u001b[0;31mException\u001b[0m                                 Traceback (most recent call last)",
            "\u001b[0;32m<ipython-input-5-de8fbe397ccd>\u001b[0m in \u001b[0;36m<module>\u001b[0;34m()\u001b[0m\n\u001b[0;32m----> 1\u001b[0;31m \u001b[0mprint\u001b[0m\u001b[0;34m(\u001b[0m\u001b[0mmultiply_matrices\u001b[0m\u001b[0;34m(\u001b[0m\u001b[0;34m)\u001b[0m\u001b[0;34m)\u001b[0m\u001b[0;34m\u001b[0m\u001b[0;34m\u001b[0m\u001b[0m\n\u001b[0m",
            "\u001b[0;32m<ipython-input-1-83cd806d7bca>\u001b[0m in \u001b[0;36mmultiply_matrices\u001b[0;34m(*matrices)\u001b[0m\n\u001b[1;32m      5\u001b[0m   \u001b[0;31m# Check if the list of matrices is empty.\u001b[0m\u001b[0;34m\u001b[0m\u001b[0;34m\u001b[0m\u001b[0;34m\u001b[0m\u001b[0m\n\u001b[1;32m      6\u001b[0m   \u001b[0;32mif\u001b[0m \u001b[0;32mnot\u001b[0m \u001b[0mmatrices\u001b[0m\u001b[0;34m:\u001b[0m\u001b[0;34m\u001b[0m\u001b[0;34m\u001b[0m\u001b[0m\n\u001b[0;32m----> 7\u001b[0;31m     \u001b[0;32mraise\u001b[0m \u001b[0mException\u001b[0m\u001b[0;34m(\u001b[0m\u001b[0;34m\"Error. The list of matrices is empty.\"\u001b[0m\u001b[0;34m)\u001b[0m\u001b[0;34m\u001b[0m\u001b[0;34m\u001b[0m\u001b[0m\n\u001b[0m\u001b[1;32m      8\u001b[0m \u001b[0;34m\u001b[0m\u001b[0m\n\u001b[1;32m      9\u001b[0m   \u001b[0;31m# Check if there is more than one matrix.\u001b[0m\u001b[0;34m\u001b[0m\u001b[0;34m\u001b[0m\u001b[0;34m\u001b[0m\u001b[0m\n",
            "\u001b[0;31mException\u001b[0m: Error. The list of matrices is empty."
          ]
        }
      ]
    },
    {
      "cell_type": "markdown",
      "metadata": {
        "id": "d4uNE6XWwUOw",
        "colab_type": "text"
      },
      "source": [
        "Finally, this code shows the handling of lists with only one matrix:"
      ]
    },
    {
      "cell_type": "code",
      "metadata": {
        "id": "nAEwImkKwXmD",
        "colab_type": "code",
        "colab": {
          "base_uri": "https://localhost:8080/",
          "height": 317
        },
        "outputId": "96324027-3849-4cce-8e5e-643f2ea7fddb"
      },
      "source": [
        "a = np.array([[1, 2, 4], [-1, 0, 0]])\n",
        "\n",
        "print(multiply_matrices(a))"
      ],
      "execution_count": 6,
      "outputs": [
        {
          "output_type": "error",
          "ename": "Exception",
          "evalue": "ignored",
          "traceback": [
            "\u001b[0;31m---------------------------------------------------------------------------\u001b[0m",
            "\u001b[0;31mException\u001b[0m                                 Traceback (most recent call last)",
            "\u001b[0;32m<ipython-input-6-591299ec083f>\u001b[0m in \u001b[0;36m<module>\u001b[0;34m()\u001b[0m\n\u001b[1;32m      1\u001b[0m \u001b[0ma\u001b[0m \u001b[0;34m=\u001b[0m \u001b[0mnp\u001b[0m\u001b[0;34m.\u001b[0m\u001b[0marray\u001b[0m\u001b[0;34m(\u001b[0m\u001b[0;34m[\u001b[0m\u001b[0;34m[\u001b[0m\u001b[0;36m1\u001b[0m\u001b[0;34m,\u001b[0m \u001b[0;36m2\u001b[0m\u001b[0;34m,\u001b[0m \u001b[0;36m4\u001b[0m\u001b[0;34m]\u001b[0m\u001b[0;34m,\u001b[0m \u001b[0;34m[\u001b[0m\u001b[0;34m-\u001b[0m\u001b[0;36m1\u001b[0m\u001b[0;34m,\u001b[0m \u001b[0;36m0\u001b[0m\u001b[0;34m,\u001b[0m \u001b[0;36m0\u001b[0m\u001b[0;34m]\u001b[0m\u001b[0;34m]\u001b[0m\u001b[0;34m)\u001b[0m\u001b[0;34m\u001b[0m\u001b[0;34m\u001b[0m\u001b[0m\n\u001b[1;32m      2\u001b[0m \u001b[0;34m\u001b[0m\u001b[0m\n\u001b[0;32m----> 3\u001b[0;31m \u001b[0mprint\u001b[0m\u001b[0;34m(\u001b[0m\u001b[0mmultiply_matrices\u001b[0m\u001b[0;34m(\u001b[0m\u001b[0ma\u001b[0m\u001b[0;34m)\u001b[0m\u001b[0;34m)\u001b[0m\u001b[0;34m\u001b[0m\u001b[0;34m\u001b[0m\u001b[0m\n\u001b[0m",
            "\u001b[0;32m<ipython-input-1-83cd806d7bca>\u001b[0m in \u001b[0;36mmultiply_matrices\u001b[0;34m(*matrices)\u001b[0m\n\u001b[1;32m      9\u001b[0m   \u001b[0;31m# Check if there is more than one matrix.\u001b[0m\u001b[0;34m\u001b[0m\u001b[0;34m\u001b[0m\u001b[0;34m\u001b[0m\u001b[0m\n\u001b[1;32m     10\u001b[0m   \u001b[0;32mif\u001b[0m \u001b[0mlen\u001b[0m\u001b[0;34m(\u001b[0m\u001b[0mmatrices\u001b[0m\u001b[0;34m)\u001b[0m \u001b[0;34m<\u001b[0m \u001b[0;36m2\u001b[0m\u001b[0;34m:\u001b[0m\u001b[0;34m\u001b[0m\u001b[0;34m\u001b[0m\u001b[0m\n\u001b[0;32m---> 11\u001b[0;31m     \u001b[0;32mraise\u001b[0m \u001b[0mException\u001b[0m\u001b[0;34m(\u001b[0m\u001b[0;34m\"Error. Only one matrix found.\"\u001b[0m\u001b[0;34m)\u001b[0m\u001b[0;34m\u001b[0m\u001b[0;34m\u001b[0m\u001b[0m\n\u001b[0m\u001b[1;32m     12\u001b[0m \u001b[0;34m\u001b[0m\u001b[0m\n\u001b[1;32m     13\u001b[0m   \u001b[0mproduct\u001b[0m \u001b[0;34m=\u001b[0m \u001b[0mmatrices\u001b[0m\u001b[0;34m[\u001b[0m\u001b[0;36m0\u001b[0m\u001b[0;34m]\u001b[0m\u001b[0;34m\u001b[0m\u001b[0;34m\u001b[0m\u001b[0m\n",
            "\u001b[0;31mException\u001b[0m: Error. Only one matrix found."
          ]
        }
      ]
    }
  ]
}